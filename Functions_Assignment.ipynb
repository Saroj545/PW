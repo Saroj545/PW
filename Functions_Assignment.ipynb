{
  "nbformat": 4,
  "nbformat_minor": 0,
  "metadata": {
    "colab": {
      "provenance": []
    },
    "kernelspec": {
      "name": "python3",
      "display_name": "Python 3"
    },
    "language_info": {
      "name": "python"
    }
  },
  "cells": [
    {
      "cell_type": "markdown",
      "source": [
        "#THEORY QUESTIONS\n",
        "###Note: For each theory Question, give at least one example."
      ],
      "metadata": {
        "id": "ysTAMtiYx7-6"
      }
    },
    {
      "cell_type": "code",
      "source": [
        "#1. What is the difference between a function and a method in Python?\n",
        "'''\n",
        "Key Differences:\n",
        "Association:\n",
        "Functions are independent, while methods are associated with objects or classes.\n",
        "Calling:\n",
        "Functions are called by their name, while methods are called on an object using the dot notation (object.method()).\n",
        "self argument:\n",
        "Methods have a self argument, which refers to the object instance, while functions do not.\n",
        "\n",
        "Function example:\n",
        "'''\n",
        "def add_numbers(x, y):\n",
        "    return x + y\n",
        "\n",
        "result = add_numbers(5, 3)\n",
        "print(f\"returning the result from calling a function:{result}\\n\\n\")\n",
        "'''\n",
        "Method example:\n",
        "'''\n",
        "class MyClass:\n",
        "    def my_method(self):\n",
        "        return \"This is a method\"\n",
        "\n",
        "obj = MyClass()\n",
        "print(f\"return the result from calling a method: {obj.my_method()}\")\n"
      ],
      "metadata": {
        "colab": {
          "base_uri": "https://localhost:8080/"
        },
        "id": "LufiiK-Hx_iB",
        "outputId": "fcbaac8b-5b6e-4bd6-e92a-3907e586ba1b"
      },
      "execution_count": null,
      "outputs": [
        {
          "output_type": "stream",
          "name": "stdout",
          "text": [
            "returning the result from calling a function:8\n",
            "\n",
            "\n",
            "return the result from calling a method: This is a method\n"
          ]
        }
      ]
    },
    {
      "cell_type": "code",
      "source": [
        "#2.  Explain the concept of function arguments and parameters in Python.\n",
        "\n",
        "'''\n",
        "Parameters:\n",
        "Parameters are the variables listed inside the parentheses in the function definition. They act as placeholders for the values that will be passed into the function when it's called.\n",
        "Parameters allow functions to be reusable and adaptable to different inputs.\n",
        "\n",
        "example:\n",
        "'''\n",
        "def greet(name):  # 'name' is a parameter\n",
        "    print(\"Hello,\", name)\n",
        "'''\n",
        "Arguments:\n",
        "Arguments are the actual values passed to a function when it's called. They correspond to the parameters defined in the function.\n",
        "Arguments provide the data that the function needs to perform its operations.\n",
        "\n",
        "Example:\n",
        "'''\n",
        "greet(\"Saroj\")  # \"Alice\" is an argument\n"
      ],
      "metadata": {
        "colab": {
          "base_uri": "https://localhost:8080/"
        },
        "id": "Ba6keMaizH7-",
        "outputId": "ce12056c-d221-4815-bafa-d80b4573f1ee"
      },
      "execution_count": null,
      "outputs": [
        {
          "output_type": "stream",
          "name": "stdout",
          "text": [
            "Hello, Saroj\n"
          ]
        }
      ]
    },
    {
      "cell_type": "code",
      "source": [
        "#3. What are the different ways to define and call a function in Python?\n",
        "\n",
        "'''\n",
        "In Python, functions can be defined in several ways:\n",
        "1. Standard Function Definition:\n",
        "'''\n",
        "print(\"1.Standard function definition\")\n",
        "def greet(name):\n",
        "    print(\"Hello,\", name,\"\\n\")\n",
        "\n",
        "greet(\"Alice\")  # Calling the function\n",
        "'''\n",
        "\n",
        "2. Function with Default Arguments:\n",
        "'''\n",
        "print(\"2. function with default arguments\")\n",
        "def greet(name=\"Guest\"):\n",
        "    print(\"Hello,\", name,\"\\n\")\n",
        "\n",
        "greet()  # Using the default argument\n",
        "greet(\"Bob\")  # Overriding the default argument\n",
        "\n",
        "'''\n",
        "3. Function with Variable Number of Arguments:\n",
        "'''\n",
        "print(\"3. function with variable number of arguments\")\n",
        "def calculate_sum(*args):\n",
        "    total = sum(args)\n",
        "    return total\n",
        "\n",
        "result = calculate_sum(1, 2, 3, 4, 5)\n",
        "print(\"Result:\", result,\"\\n\")\n",
        "\n",
        "'''\n",
        "4. Function with Keyword Arguments:\n",
        "'''\n",
        "print(\"4. function with keyword arguments\")\n",
        "def greet_person(name, age):\n",
        "    print(f\"Hello, {name}! You are {age} years old.\\n\")\n",
        "\n",
        "greet_person(name=\"Alice\", age=30)\n",
        "\n",
        "'''\n",
        "5.  Lambda Functions:\n",
        "'''\n",
        "print(\"5. lambda functions\")\n",
        "square = lambda x: x ** 2\n",
        "result = square(5)\n",
        "print(\"Result of lambda function:\", result,\"\\n\")\n",
        "\n",
        "'''\n",
        "Calling a Function:\n",
        "To call a function, simply write its name followed by parentheses () and pass any required arguments inside the parentheses.\n",
        "If the function returns a value, you can assign it to a variable:\n",
        "'''\n",
        "print(\"calling a function\")\n",
        "result = calculate_sum(1, 2, 3, 4)\n",
        "print(result)"
      ],
      "metadata": {
        "colab": {
          "base_uri": "https://localhost:8080/"
        },
        "id": "0F_FrpSb08ae",
        "outputId": "cb35ee98-f0f3-4b7b-fc1e-ebb5dff79b46"
      },
      "execution_count": null,
      "outputs": [
        {
          "output_type": "stream",
          "name": "stdout",
          "text": [
            "1.Standard function definition\n",
            "Hello, Alice \n",
            "\n",
            "2. function with default arguments\n",
            "Hello, Guest \n",
            "\n",
            "Hello, Bob \n",
            "\n",
            "3. function with variable number of arguments\n",
            "Result: 15 \n",
            "\n",
            "4. function with keyword arguments\n",
            "Hello, Alice! You are 30 years old.\n",
            "\n",
            "5. lambda functions\n",
            "Result of lambda function: 25 \n",
            "\n",
            "calling a function\n",
            "10\n"
          ]
        }
      ]
    },
    {
      "cell_type": "code",
      "source": [
        "#4.  What is the purpose of the `return` statement in a Python function?\n",
        "\n",
        "'''\n",
        "The return statement in Python serves two primary purposes:\n",
        "1. Ending Function Execution: It signals the end of a function's execution, causing the program to return control back to the point where the function was called.\n",
        "2. Returning a Value: It allows a function to send a value back to the caller. This value can be of any data type (e.g., integer, string, list, dictionary, etc.).\n",
        "'''\n",
        "def add_numbers(a, b):\n",
        "  result = a + b\n",
        "  return result\n",
        "\n",
        "sum = add_numbers(5, 3)\n",
        "print(sum)"
      ],
      "metadata": {
        "colab": {
          "base_uri": "https://localhost:8080/"
        },
        "id": "KAsqBUyA25Gm",
        "outputId": "f8b17072-339f-44e2-fbd2-b8d9ce358102"
      },
      "execution_count": null,
      "outputs": [
        {
          "output_type": "stream",
          "name": "stdout",
          "text": [
            "8\n"
          ]
        }
      ]
    },
    {
      "cell_type": "code",
      "source": [
        "#5.  What are iterators in Python and how do they differ from iterables?\n",
        "'''\n",
        "Iterable is an object, that one can iterate over. It generates an Iterator when passed to iter() method. An iterator is an object, which is used to iterate over an iterable object using the __next__() method. Iterators have the __next__() method, which returns the next item of the object.\n",
        "'''\n",
        "s=\"SAROJ\"\n",
        "s=iter(s)\n",
        "print(s)\n",
        "print(next(s))\n",
        "print(next(s))\n",
        "print(next(s))"
      ],
      "metadata": {
        "colab": {
          "base_uri": "https://localhost:8080/"
        },
        "id": "58J9ommu392-",
        "outputId": "dae39b90-06c8-4d7e-e479-5ed80f36b175"
      },
      "execution_count": null,
      "outputs": [
        {
          "output_type": "stream",
          "name": "stdout",
          "text": [
            "<str_iterator object at 0x7fb848f337f0>\n",
            "S\n",
            "A\n",
            "R\n"
          ]
        }
      ]
    },
    {
      "cell_type": "code",
      "source": [
        "#6.  Explain the concept of generators in Python and how they are defined.\n",
        "'''\n",
        "A generator function is a special type of function that returns an iterator object. Instead of using return to send back a single value, generator functions use yield to produce a series of results over time. This allows the function to generate values and pause its execution after each yield, maintaining its state between iterations.\n",
        "'''\n",
        "def fun(max):\n",
        "    cnt = 1\n",
        "    while cnt <= max:\n",
        "        yield cnt\n",
        "        cnt += 1\n",
        "\n",
        "ctr = fun(5)\n",
        "for n in ctr:\n",
        "    print(n)"
      ],
      "metadata": {
        "colab": {
          "base_uri": "https://localhost:8080/"
        },
        "id": "8AV9WGSC4_LG",
        "outputId": "9b20cc79-8dc7-4dcd-e437-07953d253733"
      },
      "execution_count": null,
      "outputs": [
        {
          "output_type": "stream",
          "name": "stdout",
          "text": [
            "1\n",
            "2\n",
            "3\n",
            "4\n",
            "5\n"
          ]
        }
      ]
    },
    {
      "cell_type": "code",
      "source": [
        "#7. What are the advantages of using generators over regular functions?\n",
        "'''\n",
        "Generators have several advantages over regular functions, including:\n",
        "Memory efficiency\n",
        "Generators are more memory efficient than regular functions because they generate values on demand, rather than storing the entire sequence in memory. This is especially useful when working with large datasets or infinite sequences.\n",
        "\n",
        "Improved performance\n",
        "Generators use lazy evaluation, which means values are only computed when needed. This can lead to improved performance, especially with large datasets.\n",
        "\n",
        "Composability\n",
        "Generators can be easily composed to create new generators, which can enable powerful data processing pipelines.\n",
        "\n",
        "Maintain state\n",
        "Generators automatically maintain their state between yield statements, making them suitable for iterative processes.\n",
        "\n",
        "Convenience\n",
        "Generators simplify code for iterating over large datasets or streams of data.\n",
        "'''\n",
        "def fun(max):\n",
        "    cnt = 1\n",
        "    while cnt <= max:\n",
        "        yield cnt\n",
        "        cnt += 1\n",
        "\n",
        "ctr = fun(5)\n",
        "for n in ctr:\n",
        "    print(n)"
      ],
      "metadata": {
        "colab": {
          "base_uri": "https://localhost:8080/"
        },
        "id": "Te1XdcgrATKV",
        "outputId": "3d62b289-fc00-40ae-f65e-ca2fbb180fda"
      },
      "execution_count": null,
      "outputs": [
        {
          "output_type": "stream",
          "name": "stdout",
          "text": [
            "1\n",
            "2\n",
            "3\n",
            "4\n",
            "5\n"
          ]
        }
      ]
    },
    {
      "cell_type": "code",
      "source": [
        "#8. What is a lambda function in Python and when is it typically used?\n",
        "'''\n",
        "In Python, a lambda function is a concise way to create a small, anonymous function that can be used when a short-term function is needed. Lambda functions are useful when the function definition is simple and can be expressed in a single line.\n",
        "Here are some characteristics of lambda functions:\n",
        "\n",
        "Anonymous: Lambda functions are defined without a name.\n",
        "\n",
        "Single expression: Lambda functions can only have one expression.\n",
        "\n",
        "Syntax: The syntax for a lambda function in Python is lambda parameters: expression.\n",
        "\n",
        "Lambda functions are less flexible than regular functions, but they are more straightforward. Regular functions, created with def, can include many expressions and statements.\n",
        "\n",
        "Lambda functions can be used in situations such as:\n",
        "Filtering\n",
        "The filter function uses lambda functions to select specific elements from a sequence.\n",
        "\n",
        "Data processing\n",
        "Lambda functions can be used to transform data, such as by substituting values with constants. They can also be used to convert and compress files.\n",
        "'''\n",
        "square = lambda x: x ** 2\n",
        "result = square(5)\n",
        "print(\"Result of lambda function:\", result,\"\\n\")"
      ],
      "metadata": {
        "colab": {
          "base_uri": "https://localhost:8080/"
        },
        "id": "q09czHqcAzNg",
        "outputId": "cbf6d581-90ab-413a-cab1-3be88c2423ff"
      },
      "execution_count": null,
      "outputs": [
        {
          "output_type": "stream",
          "name": "stdout",
          "text": [
            "Result of lambda function: 25 \n",
            "\n"
          ]
        }
      ]
    },
    {
      "cell_type": "code",
      "source": [
        "#9.  Explain the purpose and usage of the `map()` function in Python.\n",
        "'''\n",
        "The map() function is used to apply a given function to every item of an iterable, such as a list or tuple, and returns a map object (which is an iterator).\n",
        "'''\n",
        "a = [1, 2, 3, 4]\n",
        "\n",
        "# Using custom function in \"function\" parameter\n",
        "# This function simply doubles the provided number\n",
        "def double(val):\n",
        "  return val*2\n",
        "\n",
        "res = list(map(double, a))\n",
        "print(res)"
      ],
      "metadata": {
        "colab": {
          "base_uri": "https://localhost:8080/"
        },
        "id": "7BTRWmRTBW5h",
        "outputId": "a643b141-2840-4ec6-a44b-81d14e8730b8"
      },
      "execution_count": null,
      "outputs": [
        {
          "output_type": "stream",
          "name": "stdout",
          "text": [
            "[2, 4, 6, 8]\n"
          ]
        }
      ]
    },
    {
      "cell_type": "code",
      "source": [
        "#10.  What is the difference between `map()`, `reduce()`, and `filter()` functions in Python?\n",
        "'''\n",
        "map(function, iterable):\n",
        "Applies a given function to each item of an iterable (e.g., a list, tuple, etc.) and returns a new iterable with the results.\n",
        "Useful for transforming each element in a sequence.\n",
        "'''\n",
        "print(\"1.map function example\")\n",
        "numbers = [1, 2, 3, 4]\n",
        "squared = map(lambda x: x**2, numbers)\n",
        "print(list(squared),\"\\n\")\n",
        "\n",
        "'''\n",
        "filter(function, iterable):\n",
        "Filters elements from an iterable based on a given function that returns True or False.\n",
        "Creates a new iterable with only the elements that pass the filter.\n",
        "'''\n",
        "print(\"2.filter function example\")\n",
        "numbers = [1, 2, 3, 4, 5, 6]\n",
        "even_numbers = filter(lambda x: x % 2 == 0, numbers)\n",
        "print(list(even_numbers),\"\\n\")\n",
        "\n",
        "'''\n",
        "reduce(function, iterable, [initializer]):\n",
        "Combines elements of an iterable into a single value by applying a function cumulatively to the items.\n",
        "Requires importing from the functools module.\n",
        "'''\n",
        "print(\"3.reduce function example\")\n",
        "from functools import reduce\n",
        "numbers = [1, 2, 3, 4, 5]\n",
        "product = reduce(lambda x, y: x * y, numbers)\n",
        "print(product)\n",
        "\n",
        "'''\n",
        "Key Differences:\n",
        "Output: map() and filter() return iterables, while reduce() returns a single value.\n",
        "\n",
        "Purpose: map() transforms elements, filter() selects elements, and reduce() combines elements.\n",
        "\n",
        "Need for functools: map() and filter() are built-in, while reduce() requires an import.\n",
        "'''"
      ],
      "metadata": {
        "colab": {
          "base_uri": "https://localhost:8080/"
        },
        "id": "s1CGk_NzCIpz",
        "outputId": "42949503-51c1-48ed-d268-b7fc733d2a49"
      },
      "execution_count": null,
      "outputs": [
        {
          "output_type": "stream",
          "name": "stdout",
          "text": [
            "1.map function example\n",
            "[1, 4, 9, 16] \n",
            "\n",
            "2.filter function example\n",
            "[2, 4, 6] \n",
            "\n",
            "3.reduce function example\n",
            "120\n"
          ]
        }
      ]
    },
    {
      "cell_type": "code",
      "source": [
        "#11.  Using pen & Paper write the internal mechanism for sum operation using  reduce function on this given list:[47,11,42,13]\n",
        "\n",
        "from functools import reduce\n",
        "l1=[47,11,42,13]\n",
        "sum_operation=reduce(lambda x,y:x+y,l1)\n",
        "print(f\"result of reduce operation is: {sum_operation}\")\n",
        "\n",
        "'''\n",
        "pen and paper image link to the internal mechanism of reduce operation:\n",
        "https://drive.google.com/file/d/1QGtebW9frQUrhcCtGEgUf1vf2fxBcmzH/view?usp=drive_link\n",
        "'''"
      ],
      "metadata": {
        "colab": {
          "base_uri": "https://localhost:8080/",
          "height": 52
        },
        "id": "18oDqRpiC-0S",
        "outputId": "c4f1c23e-5cc3-4d49-a7fb-a7c626a7b388"
      },
      "execution_count": null,
      "outputs": [
        {
          "output_type": "stream",
          "name": "stdout",
          "text": [
            "result of reduce operation is: 113\n"
          ]
        },
        {
          "output_type": "execute_result",
          "data": {
            "text/plain": [
              "'\\npen and paper image link to the internal mechanism of reduce operation:\\nhttps://drive.google.com/file/d/1QGtebW9frQUrhcCtGEgUf1vf2fxBcmzH/view?usp=drive_link\\n'"
            ],
            "application/vnd.google.colaboratory.intrinsic+json": {
              "type": "string"
            }
          },
          "metadata": {},
          "execution_count": 41
        }
      ]
    },
    {
      "cell_type": "markdown",
      "source": [
        "#PRACTICAL QUESTIONS"
      ],
      "metadata": {
        "id": "yxLuOrEEGUDv"
      }
    },
    {
      "cell_type": "code",
      "source": [
        "#1. Write a Python function that takes a list of numbers as input and returns the sum of all even numbers in the list.\n",
        "\n",
        "# Get user input, split it, and convert to integers\n",
        "user_input = list(map(int, input(\"Enter numbers separated by space: \").split()))\n",
        "\n",
        "print(\"user input list:\", user_input)\n",
        "sum_of_even_numbers = sum(list(filter(lambda x: x%2==0,user_input)))\n",
        "print(f\"sum of even numbers is: {sum_of_even_numbers}\")"
      ],
      "metadata": {
        "colab": {
          "base_uri": "https://localhost:8080/"
        },
        "id": "-S2ksz4GEdzh",
        "outputId": "89604220-0654-48e0-da79-9553ee87b788"
      },
      "execution_count": 4,
      "outputs": [
        {
          "output_type": "stream",
          "name": "stdout",
          "text": [
            "Enter numbers separated by space: 1 2 3 4 5 6 7 8 9 10\n",
            "user input list: [1, 2, 3, 4, 5, 6, 7, 8, 9, 10]\n",
            "sum of even numbers is: 30\n"
          ]
        }
      ]
    },
    {
      "cell_type": "code",
      "source": [
        "#2.  Create a Python function that accepts a string and returns the reverse of that string.\n",
        "user_input = input(\"Enter a string: \")\n",
        "print(f\"reverse of the string is: {user_input[::-1]}\")"
      ],
      "metadata": {
        "id": "GK4epKI1HK3Q",
        "colab": {
          "base_uri": "https://localhost:8080/"
        },
        "outputId": "c4bd729d-26a3-4e30-e84e-d1f6ac01af2a"
      },
      "execution_count": 5,
      "outputs": [
        {
          "output_type": "stream",
          "name": "stdout",
          "text": [
            "Enter a string: K V Saroj Reddy\n",
            "reverse of the string is: yddeR joraS V K\n"
          ]
        }
      ]
    },
    {
      "cell_type": "code",
      "source": [
        " #3. Implement a Python function that takes a list of integers and returns a new list containing the squares of each number.\n",
        "\n",
        "user_input = list(map(int, input(\"Enter numbers separated by space: \").split()))\n",
        "print(\"user input list:\", user_input)\n",
        "squared_list = list(map(lambda x: x**2, user_input))\n",
        "print(f\"squared list is: {squared_list}\")\n"
      ],
      "metadata": {
        "colab": {
          "base_uri": "https://localhost:8080/"
        },
        "id": "GNtkUjWiLfCo",
        "outputId": "104a1b88-0094-4eb4-8578-1224c21a154e"
      },
      "execution_count": 6,
      "outputs": [
        {
          "output_type": "stream",
          "name": "stdout",
          "text": [
            "Enter numbers separated by space: 1 2 3 4 5 6 7 8 9 10\n",
            "user input list: [1, 2, 3, 4, 5, 6, 7, 8, 9, 10]\n",
            "squared list is: [1, 4, 9, 16, 25, 36, 49, 64, 81, 100]\n"
          ]
        }
      ]
    },
    {
      "cell_type": "code",
      "source": [
        "#4.  Write a Python function that checks if a given number is prime or not from 1 to 200.\n",
        "\n",
        "\n",
        "def is_prime(num):\n",
        "    for i in range(2, (num//2)+1):\n",
        "\n",
        "        # If num is divisible by any number between\n",
        "        # 2 and n / 2, it is not prime\n",
        "        if (num % i) == 0:\n",
        "            print(num, \"is not a prime number\")\n",
        "            break\n",
        "    else:\n",
        "        print(num, \"is a prime number\")\n",
        "\n",
        "\n",
        "user_input = int(input(\"Enter a number between 1 and 200: \"))\n",
        "is_prime(user_input)"
      ],
      "metadata": {
        "colab": {
          "base_uri": "https://localhost:8080/"
        },
        "id": "IssnpG4aL2MM",
        "outputId": "5bdd88ef-013c-4769-b3f1-219d8214f1cb"
      },
      "execution_count": 17,
      "outputs": [
        {
          "output_type": "stream",
          "name": "stdout",
          "text": [
            "Enter a number between 1 and 200: 95\n",
            "95 is not a prime number\n"
          ]
        }
      ]
    },
    {
      "cell_type": "code",
      "source": [
        "#5.  Create an iterator class in Python that generates the Fibonacci sequence up to a specified number of terms.\n",
        "\n",
        "class FibonacciIterator:\n",
        "    def __init__(self, limit):\n",
        "        self.limit = limit\n",
        "        self.a, self.b = 0, 1\n",
        "\n",
        "    def __iter__(self):\n",
        "        return self\n",
        "\n",
        "    def __next__(self):\n",
        "        if self.limit == 0:\n",
        "            raise StopIteration\n",
        "        current = self.a\n",
        "        self.a, self.b = self.b, self.a + self.b\n",
        "        self.limit -= 1\n",
        "        return current\n",
        "\n",
        "# Example usage\n",
        "user_input=int(input(\"Enter the number of terms: \"))\n",
        "fib_iter = FibonacciIterator(user_input)\n",
        "for num in fib_iter:\n",
        "    print(num)"
      ],
      "metadata": {
        "colab": {
          "base_uri": "https://localhost:8080/"
        },
        "id": "VsnC7_f1NXJo",
        "outputId": "d328ca52-ca45-496b-ac6c-87f070733b2c"
      },
      "execution_count": 21,
      "outputs": [
        {
          "output_type": "stream",
          "name": "stdout",
          "text": [
            "Enter the number of terms: 9\n",
            "0\n",
            "1\n",
            "1\n",
            "2\n",
            "3\n",
            "5\n",
            "8\n",
            "13\n",
            "21\n"
          ]
        }
      ]
    },
    {
      "cell_type": "code",
      "source": [
        "#6.  Write a generator function in Python that yields the powers of 2 up to a given exponent.\n",
        "\n",
        "def power_generator(exponent):\n",
        "    result = 1\n",
        "    for i in range(exponent + 1):\n",
        "        yield result\n",
        "        result *= 2\n",
        "\n",
        "# Accept input from the user\n",
        "exponent = int(input(\"Input the exponent: \"))\n",
        "\n",
        "# Create the generator object\n",
        "power_gen = power_generator(exponent)\n",
        "\n",
        "# Generate and print the powers\n",
        "print(f\"Powers of 2 up to exponent {exponent}:\")\n",
        "for power in power_gen:\n",
        "    print(power)"
      ],
      "metadata": {
        "colab": {
          "base_uri": "https://localhost:8080/"
        },
        "id": "WlfN5w-ZP3AZ",
        "outputId": "b8f037c0-0002-43c7-8ba7-2ccd25ddaf9f"
      },
      "execution_count": 22,
      "outputs": [
        {
          "output_type": "stream",
          "name": "stdout",
          "text": [
            "Input the exponent: 7\n",
            "Powers of 2 up to exponent 7:\n",
            "1\n",
            "2\n",
            "4\n",
            "8\n",
            "16\n",
            "32\n",
            "64\n",
            "128\n"
          ]
        }
      ]
    },
    {
      "cell_type": "code",
      "source": [
        "#7.  Implement a generator function that reads a file line by line and yields each line as a string.\n",
        "\n",
        "def read_file_lines(file_path):\n",
        "    with open(file_path, 'r') as file:\n",
        "        for line in file:\n",
        "            yield line\n",
        "\n",
        "lines = read_file_lines(\"/content/testfile.txt\")\n",
        "for line in lines:\n",
        "    print(line)"
      ],
      "metadata": {
        "colab": {
          "base_uri": "https://localhost:8080/"
        },
        "id": "U49FO6qWRNp7",
        "outputId": "5bd94d16-583d-429d-d774-40cd274ba309"
      },
      "execution_count": 26,
      "outputs": [
        {
          "output_type": "stream",
          "name": "stdout",
          "text": [
            "I like to study data science\n",
            "\n",
            "I like to study ML\n",
            "\n",
            "I like to study DL\n",
            "\n",
            "I like to study CV\n",
            "\n",
            "I like to study NLP\n",
            "\n",
            "I like to study Gen AI\n"
          ]
        }
      ]
    },
    {
      "cell_type": "code",
      "source": [
        "#8. Use a lambda function in Python to sort a list of tuples based on the second element of each tuple.\n",
        "\n",
        "user_list = [(9,8,3),(1,2),(4,12,16,1),(84,94,4,2,100)]\n",
        "print(f\"sorting the list of tuples based on the second element of each tuple: {sorted(user_list, key=lambda x: x[1])}\")"
      ],
      "metadata": {
        "colab": {
          "base_uri": "https://localhost:8080/"
        },
        "id": "gBHcUZAySPLE",
        "outputId": "56e82b32-ed9c-4976-d8cc-d96d4f88907f"
      },
      "execution_count": 28,
      "outputs": [
        {
          "output_type": "stream",
          "name": "stdout",
          "text": [
            "sorting the list of tuples based on the second element of each tuple: [(1, 2), (9, 8, 3), (4, 12, 16, 1), (84, 94, 4, 2, 100)]\n"
          ]
        }
      ]
    },
    {
      "cell_type": "code",
      "source": [
        "#9. Write a Python program that uses `map()` to convert a list of temperatures from Celsius to Fahrenheit.\n",
        "\n",
        "celsius_temparature_list = list(map(int, input(\"Enter celsius temperatures separated by space: \").split()))\n",
        "print(\"celsius_temparature_list:\", celsius_temparature_list)\n",
        "fahrenheit_temparature_list = list(map(lambda x: (x * 9/5) + 32, celsius_temparature_list))\n",
        "print(f\"fahrenheit temparature list is: {fahrenheit_temparature_list}\")"
      ],
      "metadata": {
        "colab": {
          "base_uri": "https://localhost:8080/"
        },
        "id": "jB7K1cCbVQ5m",
        "outputId": "4e9e9019-dc91-4047-f71d-b7a0e8050e1c"
      },
      "execution_count": 30,
      "outputs": [
        {
          "output_type": "stream",
          "name": "stdout",
          "text": [
            "Enter celsius temperatures separated by space: 10 40 50 65 85\n",
            "celsius_temparature_list: [10, 40, 50, 65, 85]\n",
            "fahrenheit temparature list is: [50.0, 104.0, 122.0, 149.0, 185.0]\n"
          ]
        }
      ]
    },
    {
      "cell_type": "code",
      "source": [
        "#10.  Create a Python program that uses `filter()` to remove all the vowels from a given string\n",
        "\n",
        "user_input = input(\"Enter a string: \")\n",
        "print(f\"string is: {user_input}\")\n",
        "vowels = ['a', 'e', 'i', 'o', 'u', 'A', 'E', 'I', 'O', 'U']\n",
        "filtered_string = ''.join(list(filter(lambda x: x not in vowels, user_input)))\n",
        "print(f\"filtered string after removing all the vowels is: {filtered_string}\")"
      ],
      "metadata": {
        "colab": {
          "base_uri": "https://localhost:8080/"
        },
        "id": "fyqtxs89WVRj",
        "outputId": "145f3db0-e7a7-4bfb-aed2-81595459d589"
      },
      "execution_count": 31,
      "outputs": [
        {
          "output_type": "stream",
          "name": "stdout",
          "text": [
            "Enter a string: hallucination\n",
            "string is: hallucination\n",
            "filtered string after removing all the vowels is: hllcntn\n"
          ]
        }
      ]
    },
    {
      "cell_type": "code",
      "source": [
        "'''11.  Imagine an accounting routine used in a book shop. It works on a list with sublists, which look like this:\n",
        "Write a Python program, which returns a list with 2-tuples. Each tuple consists of the order number and the\n",
        "product of the price per item and the quantity. The product should be increased by 10,- € if the value of the\n",
        "order is smaller than 100,00 €.\n",
        "\n",
        "Write a Python program using lambda and map.\n",
        "'''\n",
        "#ac_list represents the nested list given in the question\n",
        "ac_list = [[34587,'Learning python, Mark Lutz',4,40.95],\n",
        "           [98762,'programming python, Mark Lutz',5,56.80],\n",
        "           [77226,'Head First Python, Paul Barry',3,32.95],\n",
        "           [88112,'Einfuhrug in Python3, Bernd Klein',3,24.99]]\n",
        "print(\"ac_list:\", ac_list)\n",
        "result = list(map(lambda x: (x[0], x[2]*x[3]) if x[2]*x[3] >= 100 else (x[0], x[2]*x[3]+10), ac_list))\n",
        "print(f\"result is: {result}\")"
      ],
      "metadata": {
        "colab": {
          "base_uri": "https://localhost:8080/"
        },
        "id": "2k10E2RkXBXT",
        "outputId": "0ce1b6b9-c6cd-4e8f-adcc-195fcfbcf2aa"
      },
      "execution_count": 34,
      "outputs": [
        {
          "output_type": "stream",
          "name": "stdout",
          "text": [
            "ac_list: [[34587, 'Learning python, Mark Lutz', 4, 40.95], [98762, 'programming python, Mark Lutz', 5, 56.8], [77226, 'Head First Python, Paul Barry', 3, 32.95], [88112, 'Einfuhrug in Python3, Bernd Klein', 3, 24.99]]\n",
            "result is: [(34587, 163.8), (98762, 284.0), (77226, 108.85000000000001), (88112, 84.97)]\n"
          ]
        }
      ]
    },
    {
      "cell_type": "code",
      "source": [],
      "metadata": {
        "id": "eYwRpLhpZmoC"
      },
      "execution_count": null,
      "outputs": []
    }
  ]
}