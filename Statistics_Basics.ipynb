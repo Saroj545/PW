{
  "nbformat": 4,
  "nbformat_minor": 0,
  "metadata": {
    "colab": {
      "provenance": []
    },
    "kernelspec": {
      "name": "python3",
      "display_name": "Python 3"
    },
    "language_info": {
      "name": "python"
    }
  },
  "cells": [
    {
      "cell_type": "code",
      "execution_count": null,
      "metadata": {
        "id": "Xxwb7H79IUmD"
      },
      "outputs": [],
      "source": [
        "#1.  Explain the different types of data (qualitative and quantitative) and provide examples of each. Discuss nominal, ordinal, interval, and ratio scales\n",
        "'''\n",
        "Quantitative data:\n",
        "There are two types of quantitative data:\n",
        "1. Discrete data: they are whole numbers or integers.(0,1,2,3.......n). It will take specific finite whole number values. For example: number of children,\n",
        "number of mobile phones, number of bank accounts, total number of employees in the team\n",
        "\n",
        "2. Continuous data: Any value in a range like for example, height, weight, speed, temperature, movie duration, length, distance, salary, price etc\n",
        "\n",
        "Interval scale data: In this data, rank and data have a meaning. Difference in data can be measured excluding ratio. It doesn't compulsorily have zero as starting value\n",
        "for example: scores = [90,85,70,50] difference b/w 90 and 85 is different to the difference b/w 85 and 70. Hence a meaning can be derived from difference between elements.\n",
        "other example: length, revenue of a company etc.\n",
        "\n",
        "Ratio scaled data: Here, order and rank has a meaning. Differences and ration are measurable. This data does have a zero starting point compulsorily.\n",
        "example: weight, height, time, age etc.\n",
        "\n",
        "Qualitative data: this data is categorical in nature\n",
        "Nominal scale data: There is no order in this data. for example: blood group, gender, color, race, ethnicity, marital status etc\n",
        "\n",
        "ordinal scale data: There is order in this data. Order and rank have a meaning. Difference in data can however not be measured. for example: rank, grades, salary etc.\n",
        "'''"
      ]
    },
    {
      "cell_type": "code",
      "source": [
        "#2.  What are the measures of central tendency, and when should you use each? Discuss the mean, median, and mode with examples and situations where each is appropriate\n",
        "'''measures of central tendency:\n",
        "It is one value around which the entire data revolves. They are mean,median and mode.\n",
        "Mean: It is the arithmatic mid value of data. Mean can be obtained by summing up all the observations and dividing it by the number of observations.\n",
        "\n",
        "Median: It is the physical midpoint of sorted data. The mean is affected by outliers while the median is not affected by outliers\n",
        "If the count is even, median = average of 2 middle elements\n",
        "If the count is odd, median = the middle most element\n",
        "\n",
        "Mode: It is the element with maximum frequency or an element that is repeated highest number of times.\n",
        "'''\n",
        "age = [28, 56, 35, 28, 76, 89]\n",
        "import numpy as np\n",
        "print(f'mean is: {np.mean(age)}')\n",
        "\n",
        "nos = [4, 2, 3, 7, 8]\n",
        "print(f'median is: {np.median(nos)}')\n",
        "\n",
        "import statistics\n",
        "print(f'mode is: {statistics.mode(nos)}')\n"
      ],
      "metadata": {
        "colab": {
          "base_uri": "https://localhost:8080/"
        },
        "id": "iU39IEcePHUJ",
        "outputId": "2c2e4e8e-69b1-48d2-b074-6eac02a862a6"
      },
      "execution_count": 5,
      "outputs": [
        {
          "output_type": "stream",
          "name": "stdout",
          "text": [
            "mean is: 52.0\n",
            "median is: 4.0\n",
            "mode is: 4\n"
          ]
        }
      ]
    },
    {
      "cell_type": "code",
      "source": [
        "#3. Explain the concept of dispersion. How do variance and standard deviation measure the spread of data\n",
        "'''\n",
        "Dispersion is all about checking how much the data is spread out. Mean deviation, variance and standard deviation can be used to measure dispersion.\n",
        "\n",
        "Mean deviation: It measure how much the data is spread from the mean\n",
        "summation|xi - mu| / N\n",
        "\n",
        "variance: It is the average of the squared difference from the mean\n",
        "population variance:\n",
        "sigma^2 = summation(xi-mu)^2 / N\n",
        "\n",
        "sample variance:\n",
        "S^2 = summation(xi-xbar)^2 / (n-1)\n",
        "\n",
        "standard deviation: It is a measure of how spread out numbers are. It is the square root of variance.\n",
        "'''"
      ],
      "metadata": {
        "id": "ROoH6_bZRUJQ"
      },
      "execution_count": null,
      "outputs": []
    },
    {
      "cell_type": "code",
      "source": [
        "#4. What is a box plot, and what can it tell you about the distribution of data?\n",
        "'''\n",
        "Box plot measures the spread of data including the outliers. It has lower fence(min), quartile1, quartile2, quartile3 and upper fence. First, sort the numbers.\n",
        "if the total number of numbers is odd:\n",
        "quartile1 = (n+1)/4 th\n",
        "quartile3 = 3(n+1)/4 th\n",
        "q2 = (n+1)/2 th\n",
        "\n",
        "if the total number of numbers is even:\n",
        "Q1 = n/4 th\n",
        "Q3 = 3n / 4 th\n",
        "q2 = ((n/2) + ((n/2)+1)) / 2 th\n",
        "\n",
        "median = Q2\n",
        "\n",
        "Q0 = min\n",
        "Q4 = max\n",
        "\n",
        "Interquartile range IQR = Q3 - Q1\n",
        "\n",
        "lower fence = Q1 - (1.5 * IQR)\n",
        "upper fence = Q3 + (1.5 * IQR)\n",
        "'''\n",
        "data = [2, 3, 4, 5, 8, 9, 12, 40, 41, 15]\n",
        "import numpy as np\n",
        "np.percentile(data, [0, 25, 50, 75, 100])\n",
        "import seaborn as sns\n",
        "sns.boxplot(data) #upper fence>>Q3+1.5*IQR, lower fence = Q1-1.5*IQR"
      ],
      "metadata": {
        "colab": {
          "base_uri": "https://localhost:8080/",
          "height": 428
        },
        "id": "AUEl5rfVaOYb",
        "outputId": "456adfee-2bc1-4b55-fa88-9b39175c4a02"
      },
      "execution_count": 6,
      "outputs": [
        {
          "output_type": "execute_result",
          "data": {
            "text/plain": [
              "<Axes: >"
            ]
          },
          "metadata": {},
          "execution_count": 6
        },
        {
          "output_type": "display_data",
          "data": {
            "text/plain": [
              "<Figure size 640x480 with 1 Axes>"
            ],
            "image/png": "[encoded data removed]"
          },
          "metadata": {}
        }
      ]
    },
    {
      "cell_type": "code",
      "source": [
        "#5. Discuss the role of random sampling in making inferences about populations\n",
        "'''Simple random sampling:\n",
        "Every member of the population has an equal chance of being selected in the sample. Disadvantage is that a possibility of members not being part of samplefrom a certain group.\n",
        "It doesn't give equal representation across groups.\n",
        "'''"
      ],
      "metadata": {
        "id": "2vX7ZzODelXi"
      },
      "execution_count": null,
      "outputs": []
    },
    {
      "cell_type": "code",
      "source": [
        "#6. Explain the concept of skewness and its types. How does skewness affect the interpretation of data\n",
        "'''\n",
        "It concerns the shape of the data and measures symmetricity. Skewness means data is inclined to one side.\n",
        "If there is no skewness, then the data is called symmetric. and skewness = 0\n",
        "in a symmetric data when skewness = 0, mode = median = mean\n",
        "(xi-mu)/(n * sigma^3)\n",
        "\n",
        "Positively skewed data is when the tail of the data distribution curve is on the right side of the distribution. Most of the data in the distribution lies on the sight side. It has a shape\n",
        "similar to log normal distribution\n",
        "Q3-Q2 >= Q2 - Q1 and\n",
        "mean>=median>=mode\n",
        "\n",
        "left skewed/negatively skewed data: tail of the data distribution curve is on the left side of the distribution\n",
        "Q2 - Q1 >= Q3 - Q2\n",
        "mode>=median>=mean\n",
        "\n",
        "skewness can be corrected by transforming the data using\n",
        "1. Lognormal transformation\n",
        "2. exponential transformation\n",
        "3. reciprocal transformation\n",
        "4. square transformation\n",
        "5. square root transformation\n",
        "6. Box-cox transformation\n",
        "7. Yeo Thomson transformation\n",
        "8. Outlier treatment   to accomodate outliers, distribution gets skewed. So remove outliers\n",
        "\n",
        "example of skewed data: tickets sold after a movie release\n",
        "\n",
        "'''"
      ],
      "metadata": {
        "id": "z7mkTQ0MhMDJ"
      },
      "execution_count": null,
      "outputs": []
    },
    {
      "cell_type": "code",
      "source": [
        "#7. What is the interquartile range (IQR), and how is it used to detect outliers?\n",
        "'''\n",
        "quartile1 = (n+1)/4 th\n",
        "quartile3 = 3(n+1)/4 th\n",
        "q2 = (n+1)/2 th\n",
        "\n",
        "if the total number of numbers is even:\n",
        "Q1 = n/4 th\n",
        "Q3 = 3n / 4 th\n",
        "q2 = ((n/2) + ((n/2)+1)) / 2 th\n",
        "\n",
        "median = Q2\n",
        "\n",
        "Q0 = min\n",
        "Q4 = max\n",
        "\n",
        "Interquartile range IQR = Q3 - Q1   it is the range between quartiles 3 and 1\n",
        "\n",
        "lower fence = Q1 - (1.5 * IQR)\n",
        "upper fence = Q3 + (1.5 * IQR)\n",
        "\n",
        "Ouliers are those numbers that lie beyond the upper and lower fence.\n",
        "'''"
      ],
      "metadata": {
        "id": "B_rVWoeIlErP"
      },
      "execution_count": null,
      "outputs": []
    },
    {
      "cell_type": "code",
      "source": [
        "#8.  Discuss the conditions under which the binomial distribution is used\n",
        "'''\n",
        "The binomial distribution is used when the following conditions are met:\n",
        "Fixed number of trials The number of trials, \\(n\\), is fixed and cannot be changed.\n",
        "\n",
        "Two outcomes Each trial has exactly two possible outcomes, usually called \"success\" or \"failure\".\n",
        "\n",
        "Fixed probability of success The probability of success, \\(p\\), is the same for each trial. The probability of failure is \\(1-p\\).\n",
        "\n",
        "Independent trials The outcome of each trial is independent of the other trials. This means that the result of one trial does not affect the result of any other trial.\n",
        "\n",
        "Mutually exclusive outcomes The two outcomes are mutually exclusive, meaning that one outcome cannot occur at the same time as the other.\n",
        "\n",
        "The binomial distribution is used in many fields, including social science, finance, banking, and insurance.\n",
        "For example, it can be used to estimate the likelihood of a borrower defaulting on a loan.\n",
        "'''"
      ],
      "metadata": {
        "id": "xWjZRtMQljfY"
      },
      "execution_count": null,
      "outputs": []
    },
    {
      "cell_type": "code",
      "source": [
        "#9.  Explain the properties of the normal distribution and the empirical rule (68-95-99.7 rule)\n",
        "'''\n",
        "A normal distribution is a statistical model that shows the probability of possible outcomes. It has several properties, including:\n",
        "Symmetrical The distribution is symmetrical around the mean, with half of the values above and half below the mean.\n",
        "\n",
        "Bell-shaped When graphed, the distribution is shaped like a bell.\n",
        "\n",
        "Mean, median, and mode are equal The mean, median, and mode are all located at the same point, which is the middle of the distribution.\n",
        "\n",
        "Defined by mean and standard deviation The mean (\\(\\mu \\)) and standard deviation (\\(\\sigma \\)) are the two parameters that define a normal distribution\n",
        "\n",
        "The empirical rule, also known as the 68-95-99.7 rule, describes how data is distributed in a normal distribution.\n",
        "It states that about 68% of data is within one standard deviation of the mean, 95% is within two standard deviations, and 99.7% is within three standard deviations.\n",
        "\n",
        "The empirical rule is a guideline for estimating how much of a data set is within a certain range.\n",
        "The rule is based on the probability density function (PDF), which describes the probability of a random variable falling within a specific range.\n",
        "The empirical rule is useful for estimating the percentage of data within a certain range. For example, you can use it to estimate the percentage of people who are within a certain height range.\n",
        "\n",
        "Example\n",
        "If the mean height of a group of people is 65 inches and the standard deviation is 3.5 inches, the empirical rule can be used to estimate the percentage of people who are within a certain height range.\n",
        "'''"
      ],
      "metadata": {
        "id": "ClKphbxBnAeA"
      },
      "execution_count": null,
      "outputs": []
    },
    {
      "cell_type": "code",
      "source": [
        "#10. Provide a real-life example of a Poisson process and calculate the probability for a specific event\n",
        "'''\n",
        "A Poisson process is a statistical model that can be used to describe the probability of events occurring in a given time frame. Here are some examples of Poisson processes in real life\n",
        "Book sales\n",
        "The number of books sold in a day at a bookstore can be modeled using a Poisson distribution\n",
        "Call center calls\n",
        "The number of calls received per hour at a call center can be modeled using a Poisson distribution.\n",
        "Website visits\n",
        "The number of visits a website receives in a day can be modeled using a Poisson distribution.\n",
        "Overflow floods\n",
        "The number of overflow floods that occur on a river in a given time period can be modeled using a Poisson distribution.\n",
        "Drone malfunctions\n",
        "The number of drone malfunctions that occur in a sector per month can be modeled using a Poisson distribution.\n",
        "Customer arrivals\n",
        "The number of customers that arrive at a cafe per minute can be modeled using a Poisson distribution.\n",
        "Calculating the probability of a specific event\n",
        "To calculate the probability of a specific event using a Poisson distribution,\n",
        "formula \\(P(X=x)=(e^{-\\lambda }\\lambda ^{x})/x!\\). In this formula, lambda  is the mean rate of events and (x) is the number of events you want to calculate the probability for\n",
        "'''"
      ],
      "metadata": {
        "id": "TE9Qjc-toXB5"
      },
      "execution_count": null,
      "outputs": []
    },
    {
      "cell_type": "code",
      "source": [
        "#11.  Explain what a random variable is and differentiate between discrete and continuous random variables\n",
        "'''\n",
        "A random variable is a variable that has an unknown value or a function that assigns values to the outcomes of an experiment. Random variables can be discrete or continuous.\n",
        "\n",
        "Discrete random variables\n",
        "Can only take on a finite number of values\n",
        "Are used for counting\n",
        "Examples include the number of coin flips until the first head, or the number of passing scores on an exam\n",
        "\n",
        "Continuous random variables\n",
        "Can take on any value within a given interval\n",
        "Are used for measuring\n",
        "Examples include the mass of an animal, or the height of a student\n",
        "\n",
        "Differences between discrete and continuous random variables\n",
        "\n",
        "Range\n",
        "The range of a discrete random variable is countable, while the range of a continuous random variable is not.\n",
        "\n",
        "Mathematical methods\n",
        "Summation is used to find probabilities for discrete random variables, while integration is used for continuous random variables.\n",
        "\n",
        "Precision\n",
        "Continuous random variables allow for greater precision in measurement and analysis.\n",
        "'''"
      ],
      "metadata": {
        "id": "XxSi6iuEp-4r"
      },
      "execution_count": null,
      "outputs": []
    },
    {
      "cell_type": "code",
      "source": [
        "#12.  Provide an example dataset, calculate both covariance and correlation, and interpret the results\n",
        "import seaborn as sns\n",
        "df = sns.load_dataset('tips')\n",
        "cov1 = df.cov(numeric_only = True) #range can be any value\n",
        "print(f'covariance: {cov1}')\n",
        "\n",
        "#correlation >> -1 to 1, dimensionless quantity\n",
        "corr1 = df.corr(numeric_only = True)\n",
        "print(f'\\ncorrelation: {corr1}')\n",
        "#interpretation: all the features are positively correlated with the tip and total_bill features having the highest correlation at 0.675734"
      ],
      "metadata": {
        "colab": {
          "base_uri": "https://localhost:8080/"
        },
        "id": "rba87w6-qzW-",
        "outputId": "98cbb09f-b040-4328-dedb-b633c3c8c2fe"
      },
      "execution_count": 8,
      "outputs": [
        {
          "output_type": "stream",
          "name": "stdout",
          "text": [
            "covariance:             total_bill       tip      size\n",
            "total_bill   79.252939  8.323502  5.065983\n",
            "tip           8.323502  1.914455  0.643906\n",
            "size          5.065983  0.643906  0.904591\n",
            "\n",
            "correlation:             total_bill       tip      size\n",
            "total_bill    1.000000  0.675734  0.598315\n",
            "tip           0.675734  1.000000  0.489299\n",
            "size          0.598315  0.489299  1.000000\n"
          ]
        }
      ]
    },
    {
      "cell_type": "code",
      "source": [],
      "metadata": {
        "id": "uE36DzNLsHvK"
      },
      "execution_count": null,
      "outputs": []
    }
  ]
}