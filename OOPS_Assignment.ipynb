{
  "nbformat": 4,
  "nbformat_minor": 0,
  "metadata": {
    "colab": {
      "provenance": []
    },
    "kernelspec": {
      "name": "python3",
      "display_name": "Python 3"
    },
    "language_info": {
      "name": "python"
    }
  },
  "cells": [
    {
      "cell_type": "code",
      "execution_count": 1,
      "metadata": {
        "colab": {
          "base_uri": "https://localhost:8080/"
        },
        "id": "HDS2olP6jvOy",
        "outputId": "ef459acc-3df4-4174-8462-b96f5d6fc7dd"
      },
      "outputs": [
        {
          "output_type": "stream",
          "name": "stdout",
          "text": [
            "Buddy\n",
            "Woof!\n"
          ]
        }
      ],
      "source": [
        "#1.  What is Object-Oriented Programming (OOP)1\n",
        "'''\n",
        "Object-Oriented Programming (OOP) is a programming paradigm that uses \"objects\" as its foundational building blocks.\n",
        "An object is an instance of a class, which acts as a blueprint for creating objects.\n",
        "'''\n",
        "\n",
        "class Dog:\n",
        "    def __init__(self, name, breed):\n",
        "        self.name = name\n",
        "        self.breed = breed\n",
        "\n",
        "    def bark(self):\n",
        "        print(\"Woof!\")\n",
        "\n",
        "my_dog = Dog(\"Buddy\", \"Labrador\")\n",
        "print(my_dog.name)  # Output: Buddy\n",
        "my_dog.bark()  # Output: Woof!"
      ]
    },
    {
      "cell_type": "code",
      "source": [
        "#2.  What is a class in OOP?\n",
        "'''\n",
        "In Python, a class is a blueprint for creating objects. It defines a set of attributes (variables) and methods (functions)\n",
        "that the objects created from it will have. Think of it as a template or a mold for creating instances of a particular type.\n",
        "Key points about classes in Python:\n",
        "\n",
        "Definition: A class is defined using the class keyword, followed by the class name and a colon.\n",
        "\n",
        "Attributes: Attributes are variables that hold data associated with an object.\n",
        "\n",
        "Methods: Methods are functions that define the behavior and actions an object can perform.\n",
        "'''"
      ],
      "metadata": {
        "colab": {
          "base_uri": "https://localhost:8080/",
          "height": 70
        },
        "id": "naDvc04dlQw9",
        "outputId": "123ba6b0-8411-4fbf-b2cf-ba4a83becc85"
      },
      "execution_count": 2,
      "outputs": [
        {
          "output_type": "execute_result",
          "data": {
            "text/plain": [
              "'\\nIn Python, a class is a blueprint for creating objects. It defines a set of attributes (variables) and methods (functions) \\nthat the objects created from it will have. Think of it as a template or a mold for creating instances of a particular type. \\nKey points about classes in Python:\\n\\nDefinition: A class is defined using the class keyword, followed by the class name and a colon.\\n\\nAttributes: Attributes are variables that hold data associated with an object.\\n\\nMethods: Methods are functions that define the behavior and actions an object can perform.\\n'"
            ],
            "application/vnd.google.colaboratory.intrinsic+json": {
              "type": "string"
            }
          },
          "metadata": {},
          "execution_count": 2
        }
      ]
    },
    {
      "cell_type": "code",
      "source": [
        "#3.  What is an object in OOP?\n",
        "'''\n",
        "In Object-Oriented Programming (OOP) in Python, an object is an instance of a class. Think of a class as a blueprint or a template that defines the characteristics and behaviors that an object of that class will have.\n",
        "Here's a breakdown:\n",
        "Class:\n",
        "A blueprint for creating objects. It defines attributes (data) and methods (functions) that the objects will possess.\n",
        "Object:\n",
        "A concrete realization of a class. It is created based on the class definition and holds specific values for its attributes.\n",
        "'''\n",
        "class Dog:\n",
        "    def __init__(self, name, breed):\n",
        "        self.name = name\n",
        "        self.breed = breed\n",
        "\n",
        "    def bark(self):\n",
        "        print(\"Woof!\")\n",
        "\n",
        "# Creating objects\n",
        "dog1 = Dog(\"Buddy\", \"Golden Retriever\")\n",
        "dog2 = Dog(\"Max\", \"Labrador\")\n",
        "\n",
        "# Accessing attributes and methods\n",
        "print(dog1.name)\n",
        "dog2.bark()"
      ],
      "metadata": {
        "colab": {
          "base_uri": "https://localhost:8080/"
        },
        "id": "k8xDUaupl-Wd",
        "outputId": "911ce1f8-2fb8-4321-a60b-4398d23ea5f9"
      },
      "execution_count": 3,
      "outputs": [
        {
          "output_type": "stream",
          "name": "stdout",
          "text": [
            "Buddy\n",
            "Woof!\n"
          ]
        }
      ]
    },
    {
      "cell_type": "code",
      "source": [
        "#4.  What is the difference between abstraction and encapsulation?\n",
        "'''\n",
        "Abstraction hides the complex implementation details of a system and exposing only the essential features to the user. It simplifies the complex systems by\n",
        "providing a high-level interface, making them easier to use and understand.\n",
        "Example:\n",
        "Consider a car. You don't need to know how the engine, transmission, or brakes work to drive it. The car's controls (steering wheel, pedals, etc.)\n",
        "provide an abstract interface that hides the complexity of the underlying mechanisms.\n",
        "'''\n",
        "\n",
        "print(f\"Abstraction example\")\n",
        "from abc import ABC, abstractmethod\n",
        "\n",
        "class Shape(ABC):  # Abstract class\n",
        "    @abstractmethod\n",
        "    def area(self):\n",
        "        pass\n",
        "\n",
        "class Circle(Shape):\n",
        "    def __init__(self, radius):\n",
        "        self.radius = radius\n",
        "\n",
        "    def area(self):\n",
        "        return 3.14 * self.radius ** 2\n",
        "\n",
        "c1 = Circle(5)\n",
        "print(f\"area of circle: {c1.area()}\")\n",
        "\n",
        "'''\n",
        "Encapsulation bundles data and the methods that operate on that data into a single unit, known as a class.\n",
        "It protects the integrity of data by controlling access to it. It ensures that data can only be\n",
        "modified through defined methods and prevents unauthorized access.\n",
        "Example:\n",
        "Think of a bank account. The balance is a private variable, and you can't directly access it\n",
        "from outside the bank account object. Instead, you use public methods like deposit() and withdraw() to interact with it.\n",
        "'''\n",
        "\n",
        "print(f\"Encapsulation example\")\n",
        "class BankAccount:\n",
        "    def __init__(self, balance):\n",
        "        self.__balance = balance  # Private variable\n",
        "\n",
        "    def deposit(self, amount):\n",
        "        self.__balance += amount\n",
        "\n",
        "    def withdraw(self, amount):\n",
        "        if amount <= self.__balance:\n",
        "            self.__balance -= amount\n",
        "        else:\n",
        "            print(\"Insufficient funds\")\n",
        "\n",
        "    def get_balance(self):\n",
        "        return self.__balance\n",
        "\n",
        "account = BankAccount(1000)\n",
        "account.deposit(500)\n",
        "account.withdraw(200)\n",
        "print(f\"account balance is {account.get_balance()}\")"
      ],
      "metadata": {
        "colab": {
          "base_uri": "https://localhost:8080/"
        },
        "id": "n145hmQCmeMj",
        "outputId": "371b5923-b658-4921-a1bc-e0c776f3aa6c"
      },
      "execution_count": 6,
      "outputs": [
        {
          "output_type": "stream",
          "name": "stdout",
          "text": [
            "Abstraction example\n",
            "area of circle: 78.5\n",
            "Encapsulation example\n",
            "account balance is 1300\n"
          ]
        }
      ]
    },
    {
      "cell_type": "code",
      "source": [
        "#5. What are dunder methods in Python?\n",
        "'''\n",
        "In Python, dunder methods (short for \"double underscore methods\") are special methods that have double underscores at the beginning and end of their names,\n",
        "like __init__ or __str__. They allow you to customize the behavior of your classes and make them work seamlessly with Python's built-in operations and language construct.\n",
        "Dunder methods enable you to define how your objects behave when they're used with operators, functions, and other language features.\n",
        "\n",
        "Examples:\n",
        "__init__: Initializes the object when it's created.\n",
        "__str__: Defines how the object is represented as a string.\n",
        "__add__: Defines how the object is added to another object.\n",
        "__len__: Defines how the len() function works on your object.\n",
        "'''"
      ],
      "metadata": {
        "colab": {
          "base_uri": "https://localhost:8080/",
          "height": 87
        },
        "id": "BN3uRDponSjE",
        "outputId": "177fc7ed-5907-4c9b-8e83-314104dc0f42"
      },
      "execution_count": 7,
      "outputs": [
        {
          "output_type": "execute_result",
          "data": {
            "text/plain": [
              "'\\nIn Python, dunder methods (short for \"double underscore methods\") are special methods that have double underscores at the beginning and end of their names, \\nlike __init__ or __str__. They allow you to customize the behavior of your classes and make them work seamlessly with Python\\'s built-in operations and language construct.\\nDunder methods enable you to define how your objects behave when they\\'re used with operators, functions, and other language features.\\n\\nExamples:\\n__init__: Initializes the object when it\\'s created.\\n__str__: Defines how the object is represented as a string.\\n__add__: Defines how the object is added to another object.\\n__len__: Defines how the len() function works on your object.\\n'"
            ],
            "application/vnd.google.colaboratory.intrinsic+json": {
              "type": "string"
            }
          },
          "metadata": {},
          "execution_count": 7
        }
      ]
    },
    {
      "cell_type": "code",
      "source": [
        "#6. Explain the concept of inheritance in OOPS?\n",
        "'''\n",
        "Inheritance is a fundamental concept in Object-Oriented Programming (OOP) that allows you to create a new class (child class) that inherits the\n",
        "attributes and methods of an existing class (parent class). This promotes code reusability and helps establish relationships between classes.\n",
        "Parent Class (Base Class): The class being inherited from.\n",
        "Child Class (Derived Class): The class that inherits from the parent class.\n",
        "\n",
        "Benefits:\n",
        "Code Reusability: Avoids rewriting code by inheriting existing functionality.\n",
        "Organization: Creates a hierarchy of classes, making code easier to understand and maintain.\n",
        "Extensibility: Allows you to add new features to child classes while retaining the functionality of the parent class.\n",
        "'''\n",
        "\n",
        "class Animal:\n",
        "    def __init__(self, name):\n",
        "        self.name = name\n",
        "\n",
        "    def speak(self):\n",
        "        print(\"Animal speaks\")\n",
        "\n",
        "class Dog(Animal):\n",
        "    def speak(self):\n",
        "        print(\"Woof!\")\n",
        "\n",
        "class Cat(Animal):\n",
        "    def speak(self):\n",
        "        print(\"Meow!\")\n",
        "\n",
        "my_dog = Dog(\"Buddy\")\n",
        "my_cat = Cat(\"Whiskers\")\n",
        "\n",
        "my_dog.speak()\n",
        "my_cat.speak()"
      ],
      "metadata": {
        "colab": {
          "base_uri": "https://localhost:8080/"
        },
        "id": "QdQAslXAp9t1",
        "outputId": "ca60b6b6-750a-4c20-8be5-0b68da135619"
      },
      "execution_count": 8,
      "outputs": [
        {
          "output_type": "stream",
          "name": "stdout",
          "text": [
            "Woof!\n",
            "Meow!\n"
          ]
        }
      ]
    },
    {
      "cell_type": "code",
      "source": [
        "#7. What is polymorphism in OOPS?\n",
        "'''\n",
        "polymorphism refers to the ability of different objects to respond to the same method call in their own unique way. This allows you to write more flexible and reusable code.\n",
        "Method Overriding:\n",
        "This is the most common way to achieve polymorphism in Python. When a subclass defines a method with the same name as a method in its superclass, it overrides\n",
        "the superclass's method. When you call that method on an object of the subclass, the subclass's version is executed instead of the superclass's version.\n",
        "'''\n",
        "print(f\"Method Overriding Example\")\n",
        "class Animal:\n",
        "    def sound(self):\n",
        "        print(\"Generic animal sound\")\n",
        "\n",
        "class Dog(Animal):\n",
        "    def sound(self):\n",
        "        print(\"Woof!\")\n",
        "\n",
        "class Cat(Animal):\n",
        "    def sound(self):\n",
        "        print(\"Meow!\")\n",
        "\n",
        "# Create objects of different classes\n",
        "animal = Animal()\n",
        "dog = Dog()\n",
        "cat = Cat()\n",
        "\n",
        "# Call the sound method on each object\n",
        "animal.sound()\n",
        "dog.sound()\n",
        "cat.sound()\n"
      ],
      "metadata": {
        "colab": {
          "base_uri": "https://localhost:8080/"
        },
        "id": "K1_6gqLvqhC2",
        "outputId": "a201c8bd-99e4-4d05-e13c-8064956583a6"
      },
      "execution_count": 9,
      "outputs": [
        {
          "output_type": "stream",
          "name": "stdout",
          "text": [
            "Method Overriding Example\n",
            "Generic animal sound\n",
            "Woof!\n",
            "Meow!\n"
          ]
        }
      ]
    },
    {
      "cell_type": "code",
      "source": [
        "#8.  How is encapsulation achieved in Python?\n",
        "'''\n",
        "Encapsulation in Python is achieved using a naming convention and access modifiers. Access Modifiers:\n",
        "Public:\n",
        "By default, all members (attributes and methods) of a class are public. They can be accessed from anywhere, both inside and outside the class.\n",
        "Protected:\n",
        "Members prefixed with a single underscore (_) are considered protected. This is a convention, and Python doesn't prevent access from outside the class, but it signals to other developers that these members should not be accessed directly.\n",
        "Private:\n",
        "Members prefixed with double underscores (__) are considered private. Python performs name mangling on these members, making them harder to access from outside the class.\n",
        "'''\n",
        "\n",
        "class MyClass:\n",
        "    def __init__(self):\n",
        "        self.public_attr = 10  # Public attribute\n",
        "        self._protected_attr = 20  # Protected attribute\n",
        "        self.__private_attr = 30  # Private attribute\n",
        "\n",
        "    def public_method(self):\n",
        "        print(\"Public method\")\n",
        "\n",
        "    def _protected_method(self):\n",
        "        print(\"Protected method\")\n",
        "\n",
        "    def __private_method(self):\n",
        "        print(\"Private method\")\n",
        "\n",
        "obj = MyClass()\n",
        "\n",
        "print(obj.public_attr)\n",
        "print(obj._protected_attr)\n",
        "# print(obj.__private_attr)  # This will raise an AttributeError\n",
        "print(obj._MyClass__private_attr)"
      ],
      "metadata": {
        "colab": {
          "base_uri": "https://localhost:8080/"
        },
        "id": "TbEeAPnArUZM",
        "outputId": "7efc417c-96e8-4fdb-b113-335a6b775667"
      },
      "execution_count": 10,
      "outputs": [
        {
          "output_type": "stream",
          "name": "stdout",
          "text": [
            "10\n",
            "20\n",
            "30\n"
          ]
        }
      ]
    },
    {
      "cell_type": "code",
      "source": [
        "#9. What is a constructor in Python?\n",
        "'''\n",
        " a constructor is a special method that is automatically called when an object of a class is created. It is used to initialize the object's attributes with default or user-defined values.\n",
        "The Constructor Method:\n",
        "The constructor method in Python is named __init__().\n",
        "It takes self as the first argument, which refers to the instance of the class being created.\n",
        "It can also take additional arguments, allowing you to customize the object's initialization.\n",
        "'''\n",
        "class Person:\n",
        "  def __init__(self, name, age):\n",
        "    self.name = name\n",
        "    self.age = age\n",
        "\n",
        "  def greet(self):\n",
        "    print(f\"Hello, my name is {self.name} and I am {self.age} years old.\")\n",
        "\n",
        "# Create a Person object\n",
        "person1 = Person(\"Saroj\", 36)\n",
        "\n",
        "# Access object attributes\n",
        "print(person1.name)\n",
        "print(person1.age)\n",
        "\n",
        "# Call object method\n",
        "person1.greet()"
      ],
      "metadata": {
        "colab": {
          "base_uri": "https://localhost:8080/"
        },
        "id": "bFoj3PxNsHQ2",
        "outputId": "a401fda6-e384-418a-c164-e940867d8154"
      },
      "execution_count": 11,
      "outputs": [
        {
          "output_type": "stream",
          "name": "stdout",
          "text": [
            "Saroj\n",
            "36\n",
            "Hello, my name is Saroj and I am 36 years old.\n"
          ]
        }
      ]
    },
    {
      "cell_type": "code",
      "source": [
        "#10. What are class and static methods in python?\n",
        "'''\n",
        "The @classmethod decorator is a built-in function decorator that is an expression that gets evaluated after your function is defined.\n",
        "The result of that evaluation shadows your function definition. A class method receives the class as an implicit first argument, just\n",
        "like an instance method receives the instance\n",
        "\n",
        "A static method @staticmethod does not receive an implicit first argument. A static method is also a method that is bound to the class and not\n",
        "the object of the class. This method can’t access or modify the class state. It is present in a class because it makes sense for the method to be present in class.\n",
        "'''\n",
        "\n",
        "# Python program to demonstrate\n",
        "# use of class method and static method.\n",
        "from datetime import date\n",
        "\n",
        "\n",
        "class Person:\n",
        "    def __init__(self, name, age):\n",
        "        self.name = name\n",
        "        self.age = age\n",
        "\n",
        "    # a class method to create a Person object by birth year.\n",
        "    @classmethod\n",
        "    def fromBirthYear(cls, name, year):\n",
        "        return cls(name, date.today().year - year)\n",
        "\n",
        "    # a static method to check if a Person is adult or not.\n",
        "    @staticmethod\n",
        "    def isAdult(age):\n",
        "        return age > 18\n",
        "\n",
        "\n",
        "person1 = Person('mayank', 21)\n",
        "person2 = Person.fromBirthYear('mayank', 1996)\n",
        "print(person1.age)\n",
        "print(person2.age)\n",
        "\n",
        "# print the result\n",
        "print(Person.isAdult(22))\n"
      ],
      "metadata": {
        "colab": {
          "base_uri": "https://localhost:8080/"
        },
        "id": "43f7IzwWslEr",
        "outputId": "d2f21a4b-2cb8-4389-d96d-3c21bf0ded59"
      },
      "execution_count": 12,
      "outputs": [
        {
          "output_type": "stream",
          "name": "stdout",
          "text": [
            "21\n",
            "28\n",
            "True\n"
          ]
        }
      ]
    },
    {
      "cell_type": "code",
      "source": [
        "#11. What is method overloading in Python?\n",
        "'''\n",
        "Method overloading, in the traditional sense, isn't directly supported in Python like it is in languages like Java or C++.\n",
        "Python offers several ways to achieve similar functionality\n",
        "'''\n",
        "\n",
        "print(f\"1.DEFAULT ARGUMENTS\")\n",
        "def greet(name, greeting=\"Hello\"):\n",
        "    print(f\"{greeting} { name}\\n\")\n",
        "\n",
        "greet(\"Alice\")\n",
        "greet(\"Bob\", \"Hi\")\n",
        "\n",
        "print(f\"*2. Variable-length Arguments (args):\")\n",
        "def add(*args):\n",
        "    total = 0\n",
        "    for num in args:\n",
        "        total += num\n",
        "    return total\n",
        "\n",
        "print(add(1, 2, 3))\n",
        "print(f\"{add(4, 5)}\\n\")\n",
        "\n",
        "print(f\"**2. Keyword Arguments (kwargs):\")\n",
        "def print_info(**kwargs):\n",
        "    for key, value in kwargs.items():\n",
        "        print(key, \":\", value)\n",
        "\n",
        "print_info(fname=\"Saroj\", age=36)"
      ],
      "metadata": {
        "colab": {
          "base_uri": "https://localhost:8080/"
        },
        "id": "coscTyaSuanT",
        "outputId": "fa735497-d65f-4167-d461-56e0177b5114"
      },
      "execution_count": 17,
      "outputs": [
        {
          "output_type": "stream",
          "name": "stdout",
          "text": [
            "1.DEFAULT ARGUMENTS\n",
            "Hello Alice\n",
            "\n",
            "Hi Bob\n",
            "\n",
            "*2. Variable-length Arguments (args):\n",
            "6\n",
            "9\n",
            "\n",
            "**2. Keyword Arguments (kwargs):\n",
            "fname : Saroj\n",
            "age : 36\n"
          ]
        }
      ]
    },
    {
      "cell_type": "code",
      "source": [
        "#12.  What is method overriding in OOPS?\n",
        "'''\n",
        "Method Overriding:\n",
        "This is the most common way to achieve polymorphism in Python. When a subclass defines a method with the same name as a method in its superclass, it overrides\n",
        "the superclass's method. When you call that method on an object of the subclass, the subclass's version is executed instead of the superclass's version.\n",
        "'''\n",
        "print(f\"Method Overriding Example\")\n",
        "class Animal:\n",
        "    def sound(self):\n",
        "        print(\"Generic animal sound\")\n",
        "\n",
        "class Dog(Animal):\n",
        "    def sound(self):\n",
        "        print(\"Woof!\")\n",
        "\n",
        "class Cat(Animal):\n",
        "    def sound(self):\n",
        "        print(\"Meow!\")\n",
        "\n",
        "# Create objects of different classes\n",
        "animal = Animal()\n",
        "dog = Dog()\n",
        "cat = Cat()\n",
        "\n",
        "# Call the sound method on each object\n",
        "animal.sound()\n",
        "dog.sound()\n",
        "cat.sound()"
      ],
      "metadata": {
        "colab": {
          "base_uri": "https://localhost:8080/"
        },
        "id": "f--iPFo10Nk3",
        "outputId": "51ac5dfa-761a-4b65-8b76-9f928779016f"
      },
      "execution_count": 18,
      "outputs": [
        {
          "output_type": "stream",
          "name": "stdout",
          "text": [
            "Method Overriding Example\n",
            "Generic animal sound\n",
            "Woof!\n",
            "Meow!\n"
          ]
        }
      ]
    },
    {
      "cell_type": "code",
      "source": [
        "#13.  What is a property decorator in Python?\n",
        "'''\n",
        "the @property decorator is a built-in decorator that allows you to define methods that behave like attributes. This means you can access and modify them using the dot notation,\n",
        "just like regular attributes, while still having the flexibility to add logic behind the scenes.\n",
        "\n",
        "Getter:\n",
        "The method decorated with @property acts as a getter, returning the value of the attribute when accessed.\n",
        "\n",
        "Setter:\n",
        "You can optionally define a setter method using the @property_name.setter decorator. This allows you to control how the attribute is modified.\n",
        "\n",
        "Deleter:\n",
        "You can also define a deleter method using the @property_name.deleter decorator to control how the attribute is deleted.\n",
        "\n",
        "Benefits of using @property:\n",
        "Encapsulation: Hides the internal implementation details of an attribute.\n",
        "Data validation: Allows you to add validation logic when setting an attribute's value.\n",
        "Computed attributes: Enables you to define attributes whose values are calculated on the fly.\n",
        "Improved readability: Makes your code look cleaner and more Pythonic.\n",
        "'''\n",
        "class Circle:\n",
        "    def __init__(self, radius):\n",
        "        self._radius = radius\n",
        "\n",
        "    @property\n",
        "    def radius(self):\n",
        "        return self._radius\n",
        "\n",
        "    @radius.setter\n",
        "    def radius(self, value):\n",
        "        if value < 0:\n",
        "            raise ValueError(\"Radius cannot be negative\")\n",
        "        self._radius = value\n",
        "\n",
        "    @property\n",
        "    def area(self):\n",
        "        return 3.14 * self._radius ** 2\n",
        "\n",
        "circle = Circle(5)\n",
        "print(circle.radius)  # Accessing the radius attribute (getter)\n",
        "circle.radius = 10   # Setting the radius attribute (setter)\n",
        "print(circle.area)    # Accessing the computed area attribute (getter)"
      ],
      "metadata": {
        "colab": {
          "base_uri": "https://localhost:8080/"
        },
        "id": "m6a2LK2w1e3y",
        "outputId": "e40b6b60-6e09-4714-8af9-9de3acd239f3"
      },
      "execution_count": 19,
      "outputs": [
        {
          "output_type": "stream",
          "name": "stdout",
          "text": [
            "5\n",
            "314.0\n"
          ]
        }
      ]
    },
    {
      "cell_type": "code",
      "source": [
        "#14.  Why is polymorphism important in OOPs?\n",
        "'''\n",
        "Polymorphism is a fundamental concept in object-oriented programming (OOP) that allows you to write code that can work with objects of different types\n",
        "in a uniform way. Here's why it's important in Python\n",
        "\n",
        "Benefits:\n",
        "Code Reusability:\n",
        "Polymorphism enables you to write generic functions or methods that can operate on objects from different classes, reducing code duplication and promoting reusability.\n",
        "Flexibility:\n",
        "You can easily add new classes to your codebase without having to modify existing code that interacts with objects, as long as the new classes adhere to the same interface.\n",
        "Readability:\n",
        "Polymorphism can make your code more readable and understandable by providing a common interface for interacting with objects of different types.\n",
        "Modularity:\n",
        "Polymorphism promotes modularity, allowing you to break down complex systems into smaller, more manageable components.\n",
        "\n",
        "Duck Typing:\n",
        "Python's dynamic typing system allows you to use objects of different types interchangeably, as long as they have the required methods or attributes. This is known as duck typing, and it's a form of polymorphism.\n",
        "Inheritance:\n",
        "When you create a subclass, it inherits methods and attributes from its parent class. You can then override these methods in the subclass to provide specialized behavior. This allows you to treat objects of different subclasses as instances of the parent class, enabling polymorphism.\n",
        "Method Overloading:\n",
        "While Python doesn't support method overloading in the traditional sense, you can achieve similar functionality by using default arguments or variable-length argument lists.\n",
        "'''"
      ],
      "metadata": {
        "colab": {
          "base_uri": "https://localhost:8080/",
          "height": 104
        },
        "id": "ACsH-oSU2aNc",
        "outputId": "e9ece70e-9dd9-4da6-918b-23752bb9ca4b"
      },
      "execution_count": 20,
      "outputs": [
        {
          "output_type": "execute_result",
          "data": {
            "text/plain": [
              "\"\\nPolymorphism is a fundamental concept in object-oriented programming (OOP) that allows you to write code that can work with objects of different types \\nin a uniform way. Here's why it's important in Python\\n\\nBenefits:\\nCode Reusability:\\nPolymorphism enables you to write generic functions or methods that can operate on objects from different classes, reducing code duplication and promoting reusability.\\nFlexibility:\\nYou can easily add new classes to your codebase without having to modify existing code that interacts with objects, as long as the new classes adhere to the same interface.\\nReadability:\\nPolymorphism can make your code more readable and understandable by providing a common interface for interacting with objects of different types.\\nModularity:\\nPolymorphism promotes modularity, allowing you to break down complex systems into smaller, more manageable components.\\n\\nDuck Typing:\\nPython's dynamic typing system allows you to use objects of different types interchangeably, as long as they have the required methods or attributes. This is known as duck typing, and it's a form of polymorphism.\\nInheritance:\\nWhen you create a subclass, it inherits methods and attributes from its parent class. You can then override these methods in the subclass to provide specialized behavior. This allows you to treat objects of different subclasses as instances of the parent class, enabling polymorphism.\\nMethod Overloading:\\nWhile Python doesn't support method overloading in the traditional sense, you can achieve similar functionality by using default arguments or variable-length argument lists.\\n\""
            ],
            "application/vnd.google.colaboratory.intrinsic+json": {
              "type": "string"
            }
          },
          "metadata": {},
          "execution_count": 20
        }
      ]
    },
    {
      "cell_type": "code",
      "source": [
        "#15.  What is an abstract class in Python?\n",
        "'''\n",
        "an abstract class is a class that cannot be instantiated on its own and is designed to be a blueprint for other classes.\n",
        "It serves as a base class that defines a common interface and structure for its subclasses, ensuring they implement certain methods.\n",
        "\n",
        "Blueprint:\n",
        "Abstract classes provide a template for other classes, defining a set of methods that must be implemented by any concrete (non-abstract) subclass.\n",
        "Interface Enforcement:\n",
        "They ensure that subclasses adhere to a specific contract, providing a consistent structure and behavior.\n",
        "Polymorphism:\n",
        "Abstract classes enable you to treat objects of different subclasses in a uniform way, as long as they implement the required methods.\n",
        "\n",
        "Key Features:\n",
        "Cannot be instantiated: You cannot create objects directly from an abstract class.\n",
        "Abstract methods: Abstract classes contain one or more abstract methods, which are declared but have no implementation. Subclasses are required to provide concrete implementations for these methods.\n",
        "abc module: Python's abc module provides the infrastructure for creating abstract classes.\n",
        "'''\n",
        "from abc import ABC, abstractmethod\n",
        "\n",
        "class Animal(ABC):\n",
        "\n",
        "    @abstractmethod\n",
        "    def make_sound(self):\n",
        "        pass\n",
        "\n",
        "class Dog(Animal):\n",
        "\n",
        "    def make_sound(self):\n",
        "        print(\"Woof!\")\n",
        "\n",
        "class Cat(Animal):\n",
        "\n",
        "    def make_sound(self):\n",
        "        print(\"Meow!\")\n",
        "\n",
        "# You cannot instantiate an abstract class\n",
        "# animal = Animal()  # This would raise an error\n",
        "\n",
        "dog = Dog()\n",
        "dog.make_sound()  # Output: Woof!\n",
        "\n",
        "cat = Cat()\n",
        "cat.make_sound()  # Output: Meow!"
      ],
      "metadata": {
        "colab": {
          "base_uri": "https://localhost:8080/"
        },
        "id": "Wv14tDBF4r8O",
        "outputId": "995d2df7-e8f0-4162-db60-1eb76888ff60"
      },
      "execution_count": 21,
      "outputs": [
        {
          "output_type": "stream",
          "name": "stdout",
          "text": [
            "Woof!\n",
            "Meow!\n"
          ]
        }
      ]
    },
    {
      "cell_type": "code",
      "source": [
        "#16.  What are the advantages of OOPS?\n",
        "'''\n",
        "Object-Oriented Programming (OOP) in Python has several advantages, including:\n",
        "Modularity\n",
        "Breaks complex code into smaller, more manageable pieces, making it easier to maintain and update\n",
        "\n",
        "Code reusability\n",
        "Allows developers to reuse objects across multiple programs, saving time and resources\n",
        "\n",
        "Inheritance\n",
        "Allows developers to create specialized classes that inherit common attributes and behaviors from a base class, making code more maintainable and reducing redundancy\n",
        "\n",
        "Scalability\n",
        "Makes it easier to scale a program to handle an increasing amount of work or data\n",
        "\n",
        "Encapsulation\n",
        "Bundles data and behavior into an object defined by a class, creating a well-defined structure that allows the rest of the code to easily interact with the object\n",
        "\n",
        "Better problem solving\n",
        "Allows developers to write code that can accommodate changing requirements without extensive modifications\n",
        "\n",
        "Modeling real-world objects\n",
        "Makes it easy to model real-world objects and their behavior\n",
        "\n",
        "Representing relationships\n",
        "Provides a clear way to represent the relationships between different objects and their properties and methods\n",
        "\n",
        "'''"
      ],
      "metadata": {
        "colab": {
          "base_uri": "https://localhost:8080/",
          "height": 104
        },
        "id": "b09tQtLd5gH9",
        "outputId": "ab8ae03f-89ae-41c0-ae47-3aafc6a95630"
      },
      "execution_count": 22,
      "outputs": [
        {
          "output_type": "execute_result",
          "data": {
            "text/plain": [
              "'\\nObject-Oriented Programming (OOP) in Python has several advantages, including:\\nModularity\\nBreaks complex code into smaller, more manageable pieces, making it easier to maintain and update \\n\\nCode reusability\\nAllows developers to reuse objects across multiple programs, saving time and resources \\n\\nInheritance\\nAllows developers to create specialized classes that inherit common attributes and behaviors from a base class, making code more maintainable and reducing redundancy \\n\\nScalability\\nMakes it easier to scale a program to handle an increasing amount of work or data \\n\\nEncapsulation\\nBundles data and behavior into an object defined by a class, creating a well-defined structure that allows the rest of the code to easily interact with the object \\n\\nBetter problem solving\\nAllows developers to write code that can accommodate changing requirements without extensive modifications \\n\\nModeling real-world objects\\nMakes it easy to model real-world objects and their behavior \\n\\nRepresenting relationships\\nProvides a clear way to represent the relationships between different objects and their properties and methods \\n\\n'"
            ],
            "application/vnd.google.colaboratory.intrinsic+json": {
              "type": "string"
            }
          },
          "metadata": {},
          "execution_count": 22
        }
      ]
    },
    {
      "cell_type": "code",
      "source": [
        "#17.  What is the difference between a class variable and an instance variable?\n",
        "'''\n",
        "class variables and instance variables are both attributes of a class, but they differ in their scope and behavior:\n",
        "Class Variable:\n",
        "Scope: Shared among all instances of the class.\n",
        "Definition: Declared outside of any method, typically at the top of the class definition.\n",
        "Access: Accessed using the class name or any instance of the class.\n",
        "Purpose: Used for storing data that is common to all instances of the class, such as a counter or a default value.\n",
        "'''\n",
        "print(f\"CLASS VARIABLE EXAMPLE\")\n",
        "class MyClass:\n",
        "    class_variable = 0\n",
        "\n",
        "    def __init__(self):\n",
        "        MyClass.class_variable += 1\n",
        "\n",
        "obj1 = MyClass()\n",
        "obj2 = MyClass()\n",
        "\n",
        "print(MyClass.class_variable)\n",
        "print(obj1.class_variable)\n",
        "print(obj2.class_variable)\n",
        "\n",
        "'''\n",
        "Instance Variable:\n",
        "Scope: Specific to each instance of the class.\n",
        "Definition: Declared inside a method, typically within the __init__ method.\n",
        "Access: Accessed using the self keyword within the class methods.\n",
        "Purpose: Used for storing data that is unique to each instance of the class, such as the name or age of a person.\n",
        "'''\n",
        "print(f\"\\nINSTANCE VARIABLE EXAMPLE\")\n",
        "class Person:\n",
        "    def __init__(self, name):\n",
        "        self.name = name  # Instance variable\n",
        "\n",
        "person1 = Person(\"Alice\")\n",
        "person2 = Person(\"Bob\")\n",
        "\n",
        "print(person1.name)\n",
        "print(person2.name)"
      ],
      "metadata": {
        "colab": {
          "base_uri": "https://localhost:8080/"
        },
        "id": "l61ARBPj5-Op",
        "outputId": "855faf3b-d74b-45c8-d677-d45f269f7485"
      },
      "execution_count": 23,
      "outputs": [
        {
          "output_type": "stream",
          "name": "stdout",
          "text": [
            "CLASS VARIABLE EXAMPLE\n",
            "2\n",
            "2\n",
            "2\n",
            "\n",
            "INSTANCE VARIABLE EXAMPLE\n",
            "Alice\n",
            "Bob\n"
          ]
        }
      ]
    },
    {
      "cell_type": "code",
      "source": [
        "#18. What is multiple inheritance in Python?\n",
        "'''\n",
        "Multiple inheritance in Python is a feature that allows a class to inherit from more than one parent class. This means that the\n",
        "child class can access and use the attributes and methods of all its parent classes.\n",
        "'''\n",
        "class Animal:\n",
        "    def __init__(self, name):\n",
        "        self.name = name\n",
        "\n",
        "    def eat(self):\n",
        "        print(\"Eating...\")\n",
        "\n",
        "class Pet:\n",
        "    def __init__(self, owner):\n",
        "        self.owner = owner\n",
        "\n",
        "    def play(self):\n",
        "        print(\"Playing...\")\n",
        "\n",
        "class Dog(Animal, Pet):\n",
        "    def __init__(self, name, owner, breed):\n",
        "        Animal.__init__(self, name)\n",
        "        Pet.__init__(self, owner)\n",
        "        self.breed = breed\n",
        "\n",
        "    def bark(self):\n",
        "        print(\"Woof!\")\n",
        "\n",
        "my_dog = Dog(\"Buddy\", \"John\", \"Labrador\")\n",
        "my_dog.eat()\n",
        "my_dog.play()\n",
        "my_dog.bark()"
      ],
      "metadata": {
        "colab": {
          "base_uri": "https://localhost:8080/"
        },
        "id": "Hk0-6mAv65Af",
        "outputId": "e5284ab3-2c32-43d9-c380-471b059b3c3e"
      },
      "execution_count": 24,
      "outputs": [
        {
          "output_type": "stream",
          "name": "stdout",
          "text": [
            "Eating...\n",
            "Playing...\n",
            "Woof!\n"
          ]
        }
      ]
    },
    {
      "cell_type": "code",
      "source": [
        "#19.  Explain the purpose of ‘’__str__’ and ‘__repr__’ ‘ methods in Python?\n",
        "'''\n",
        "In Python, __str__ and __repr__ are special methods used to define string representations of objects.\n",
        "str:\n",
        "Purpose: The __str__ method is designed to provide a human-readable string representation of an object. It should return a string that is easy for users to understand and interpret.\n",
        "Usage: It's called when you use the str() function or the print() function on an object.\n",
        "'''\n",
        "print(f\"__str__ EXAMPLE\")\n",
        "class Person:\n",
        "    def __init__(self, name, age):\n",
        "        self.name = name\n",
        "        self.age = age\n",
        "\n",
        "    def __str__(self):\n",
        "        return f\"Person(name='{self.name}', age={self.age})\"\n",
        "\n",
        "person = Person(\"Alice\", 30)\n",
        "print(person)\n",
        "\n",
        "'''\n",
        "repr:\n",
        "Purpose: The __repr__ method aims to provide a more detailed and unambiguous string representation of an object. It should return a\n",
        "string that can be used to recreate the object, ideally by passing it to the eval() function.\n",
        "Usage: It's called when you use the repr() function on an object or when an object is displayed in the interactive interpreter.\n",
        "'''\n",
        "print(f\"__repr__ EXAMPLE\")\n",
        "class Person:\n",
        "    def __init__(self, name, age):\n",
        "        self.name = name\n",
        "        self.age = age\n",
        "\n",
        "    def __repr__(self):\n",
        "        return f\"Person('{self.name}', {self.age})\"\n",
        "\n",
        "person = Person(\"Alice\", 30)\n",
        "print(repr(person))\n",
        "\n",
        "'''\n",
        "Key Differences:\n",
        "Readability vs. Unambiguity:\n",
        "__str__ focuses on readability, while __repr__ prioritizes unambiguity and provides a more developer-oriented representation.\n",
        "Fallback:\n",
        "If you don't define a __str__ method, Python will use the __repr__ method as a fallback.\n",
        "Use Cases:\n",
        "__str__ is used for displaying objects to end-users, while __repr__ is primarily used for debugging and development purposes.\n",
        "'''"
      ],
      "metadata": {
        "colab": {
          "base_uri": "https://localhost:8080/"
        },
        "id": "mFEFJFSF72am",
        "outputId": "0221c91c-ebef-474b-b187-4289d1f4dcd6"
      },
      "execution_count": 26,
      "outputs": [
        {
          "output_type": "stream",
          "name": "stdout",
          "text": [
            "__str__ EXAMPLE\n",
            "Person(name='Alice', age=30)\n",
            "__repr__ EXAMPLE\n",
            "Person('Alice', 30)\n"
          ]
        }
      ]
    },
    {
      "cell_type": "code",
      "source": [
        "#20. What is the significance of the ‘super()’ function in Python?\n",
        "'''\n",
        "The super() function in Python is used to access methods and properties of a parent or superclass from a child or subclass.\n",
        "Inheritance:\n",
        "super() allows you to leverage the functionality of the parent class, avoiding code duplication and promoting code reusability.\n",
        "Method Overriding:\n",
        "When a child class overrides a method from the parent class, super() lets you call the original parent class method within the overridden method, allowing you to extend its behavior.\n",
        "Multiple Inheritance:\n",
        "In complex inheritance hierarchies, super() helps navigate the Method Resolution Order (MRO), ensuring that the correct method is called.\n",
        "'''"
      ],
      "metadata": {
        "colab": {
          "base_uri": "https://localhost:8080/",
          "height": 87
        },
        "id": "1761hltG8WA4",
        "outputId": "997778b7-443f-4d5e-95f7-b497880a2406"
      },
      "execution_count": 27,
      "outputs": [
        {
          "output_type": "execute_result",
          "data": {
            "text/plain": [
              "'\\nThe super() function in Python is used to access methods and properties of a parent or superclass from a child or subclass.\\nInheritance:\\nsuper() allows you to leverage the functionality of the parent class, avoiding code duplication and promoting code reusability.\\nMethod Overriding:\\nWhen a child class overrides a method from the parent class, super() lets you call the original parent class method within the overridden method, allowing you to extend its behavior.\\nMultiple Inheritance:\\nIn complex inheritance hierarchies, super() helps navigate the Method Resolution Order (MRO), ensuring that the correct method is called.\\n'"
            ],
            "application/vnd.google.colaboratory.intrinsic+json": {
              "type": "string"
            }
          },
          "metadata": {},
          "execution_count": 27
        }
      ]
    },
    {
      "cell_type": "code",
      "source": [
        "#21. What is the significance of the __del__ method in Python?\n",
        "'''\n",
        "the __del__ method is a special method known as a destructor. It is called when an object is about to be destroyed, which can happen when:\n",
        "Reference count reaches zero: No more variables or data structures reference the object.\n",
        "Python interpreter shuts down: The program ends, and all objects are cleaned up.\n",
        "Significance:\n",
        "Resource cleanup:\n",
        "The primary use of __del__ is to release resources held by the object, such as:\n",
        "Closing open files.\n",
        "Releasing network connections.\n",
        "Deleting temporary files.\n",
        "Cleaning up external resources.\n",
        "Finalization:\n",
        "It allows you to perform any necessary cleanup or finalization actions before the object is removed from memory.\n",
        "'''\n",
        "class MyFile:\n",
        "    def __init__(self, filename):\n",
        "        self.file = open(filename, 'w')\n",
        "\n",
        "    def __del__(self):\n",
        "        self.file.close()\n",
        "        print(\"File closed\")\n",
        "m = MyFile('/content/sample_data/README.md')\n",
        "m.__del__()"
      ],
      "metadata": {
        "colab": {
          "base_uri": "https://localhost:8080/"
        },
        "id": "XLCfRX969nA4",
        "outputId": "9b8ccd1e-7521-43b5-89c9-280787eade0a"
      },
      "execution_count": 29,
      "outputs": [
        {
          "output_type": "stream",
          "name": "stdout",
          "text": [
            "File closed\n"
          ]
        }
      ]
    },
    {
      "cell_type": "code",
      "source": [
        "#22.  What is the difference between @staticmethod and @classmethod in Python?\n",
        "'''\n",
        "Use @staticmethod when you need a utility function that doesn't depend on the class itself.\n",
        "Use @classmethod when you need a method that can access or modify the class state.\n",
        "@classmethod\n",
        "Purpose: Used for defining methods that need to access or modify the class state.\n",
        "Parameters: Takes the class itself (cls) as the first parameter.\n",
        "Access: Can access and modify class attributes, but not instance attributes.\n",
        "Example:\n",
        "'''\n",
        "class MyClass:\n",
        "    class_variable = 10\n",
        "\n",
        "    @classmethod\n",
        "    def get_class_variable(cls):\n",
        "        return cls.class_variable\n",
        "\n",
        "# Usage:\n",
        "a = MyClass.get_class_variable() # Access class variable through class method\n",
        "print(f\"value of a accessed from class method is {a}\")\n",
        "\n",
        "'''\n",
        "@staticmethod\n",
        "Purpose: Used for defining utility functions that don't need access to the class or instance state.\n",
        "Parameters: Doesn't take any implicit parameters.\n",
        "Access: Can't access or modify class attributes or instance attributes.\n",
        "Example:\n",
        "'''\n",
        "class MyClass:\n",
        "    @staticmethod\n",
        "    def calculate_area(length, width):\n",
        "        return length * width\n",
        "\n",
        "# Usage:\n",
        "print(f\"value of area accessed from static method is {MyClass.calculate_area(5, 10)}\") # No need to create an instance\n"
      ],
      "metadata": {
        "colab": {
          "base_uri": "https://localhost:8080/"
        },
        "id": "KsjrkoWE_KXa",
        "outputId": "a6d1ad55-baf4-4d14-b310-955441fb7a9d"
      },
      "execution_count": 32,
      "outputs": [
        {
          "output_type": "stream",
          "name": "stdout",
          "text": [
            "value of a accessed from class method is 10\n",
            "value of area accessed from static method is 50\n"
          ]
        }
      ]
    },
    {
      "cell_type": "code",
      "source": [
        "#23.  How does polymorphism work in Python with inheritance?\n",
        "'''\n",
        "Polymorphism in Python with inheritance works through a mechanism called method overriding. Here's a breakdown:\n",
        "Inheritance:\n",
        "A child class inherits methods and attributes from its parent class.\n",
        "This allows the child class to reuse the code written for the parent class.\n",
        "Method Overriding:\n",
        "A child class can redefine a method that it inherited from its parent class.\n",
        "This gives the child class the ability to provide its own specific implementation of the method.\n",
        "Polymorphism in Action:\n",
        "When you call a method on an object, Python determines the correct method to execute based on the object's actual type (the child class).\n",
        "This means that you can use a common interface (the method defined in the parent class) to interact with objects of different types (the child classes).\n",
        "'''\n",
        "class Animal:\n",
        "    def sound(self):\n",
        "        print(\"Some generic animal sound\")\n",
        "\n",
        "class Dog(Animal):\n",
        "    def sound(self):\n",
        "        print(\"Bark\")\n",
        "\n",
        "class Cat(Animal):\n",
        "    def sound(self):\n",
        "        print(\"Meow\")\n",
        "\n",
        "# Creating objects\n",
        "animal = Animal()\n",
        "dog = Dog()\n",
        "cat = Cat()\n",
        "\n",
        "# Using polymorphism\n",
        "for obj in [animal, dog, cat]:\n",
        "    obj.sound()"
      ],
      "metadata": {
        "colab": {
          "base_uri": "https://localhost:8080/"
        },
        "id": "RMNFBQzFAqTk",
        "outputId": "22497157-7514-44a9-ca36-7c35e32ea994"
      },
      "execution_count": 33,
      "outputs": [
        {
          "output_type": "stream",
          "name": "stdout",
          "text": [
            "Some generic animal sound\n",
            "Bark\n",
            "Meow\n"
          ]
        }
      ]
    },
    {
      "cell_type": "code",
      "source": [
        "#24.  What is method chaining in Python OOPS?\n",
        "'''\n",
        "method chaining allows you to call multiple methods on an object sequentially in a single line of code.\n",
        "This is achieved by having each method return the object itself (usually by returning self).\n",
        "'''\n",
        "class Person:\n",
        "    def __init__(self, name):\n",
        "        self.name = name\n",
        "\n",
        "    def set_age(self, age):\n",
        "        self.age = age\n",
        "        return self\n",
        "\n",
        "    def set_city(self, city):\n",
        "        self.city = city\n",
        "        return self\n",
        "\n",
        "    def introduce(self):\n",
        "        print(f\"Hello, I'm {self.name}, {self.age} years old, from {self.city}.\")\n",
        "\n",
        "person = Person(\"Saroj\").set_age(36).set_city(\"Hyderabad\")\n",
        "person.introduce()"
      ],
      "metadata": {
        "colab": {
          "base_uri": "https://localhost:8080/"
        },
        "id": "FL_YEdM2Cm77",
        "outputId": "c45f436f-8352-47e2-db4a-db15b9ad0a16"
      },
      "execution_count": 34,
      "outputs": [
        {
          "output_type": "stream",
          "name": "stdout",
          "text": [
            "Hello, I'm Saroj, 36 years old, from Hyderabad.\n"
          ]
        }
      ]
    },
    {
      "cell_type": "code",
      "source": [
        "#25. What is the purpose of the __call__ method in Python?\n",
        "'''\n",
        "The __call__ method in Python allows you to make instances of your classes callable, meaning you can treat them like functions.\n",
        "This is useful when you want an object to behave like a function, enabling you to call it with parentheses and pass arguments.\n",
        "'''\n",
        "class Adder:\n",
        "    def __init__(self, value):\n",
        "        self.value = value\n",
        "\n",
        "    def __call__(self, other):\n",
        "        return self.value + other\n",
        "\n",
        "add_5 = Adder(5)\n",
        "result = add_5(10)  # Calls the __call__ method, result is 15\n",
        "print(f\"result: {result}\")"
      ],
      "metadata": {
        "colab": {
          "base_uri": "https://localhost:8080/"
        },
        "id": "HnZmbih6DQCP",
        "outputId": "a5e629f9-db7d-41c2-97fe-eeec0c54cd32"
      },
      "execution_count": 36,
      "outputs": [
        {
          "output_type": "stream",
          "name": "stdout",
          "text": [
            "result: 15\n"
          ]
        }
      ]
    },
    {
      "cell_type": "markdown",
      "source": [
        "#PRACTICAL QUESTIONS"
      ],
      "metadata": {
        "id": "YAQ-Yt4TEDpk"
      }
    },
    {
      "cell_type": "code",
      "source": [
        "#1.  Create a parent class Animal with a method speak() that prints a generic message. Create a child class Dog\n",
        "# that overrides the speak() method to print \"Bark!\".\n",
        "class Animal:\n",
        "    def speak(self):\n",
        "        print(\"Generic animal sound\")\n",
        "\n",
        "class Dog(Animal):\n",
        "    def speak(self):\n",
        "        print(\"Bark!\")\n",
        "\n",
        "\n",
        "dog = Dog()\n",
        "dog.speak()"
      ],
      "metadata": {
        "colab": {
          "base_uri": "https://localhost:8080/"
        },
        "id": "dvr01LZNDw6w",
        "outputId": "0be4f499-c737-4f65-9855-306755c2d076"
      },
      "execution_count": 38,
      "outputs": [
        {
          "output_type": "stream",
          "name": "stdout",
          "text": [
            "Bark!\n"
          ]
        }
      ]
    },
    {
      "cell_type": "code",
      "source": [
        "#2. Write a program to create an abstract class Shape with a method area(). Derive classes Circle and Rectangle\n",
        "# from it and implement the area() method in both.\n",
        "from abc import ABC, abstractmethod\n",
        "\n",
        "class Shape(ABC):\n",
        "    @abstractmethod\n",
        "    def area(self):\n",
        "        pass\n",
        "class Circle(Shape):\n",
        "    def __init__(self, radius):\n",
        "        self.radius = radius\n",
        "\n",
        "    def area(self):\n",
        "        return 3.14 * self.radius ** 2\n",
        "class Rectangle(Shape):\n",
        "    def __init__(self, length, width):\n",
        "        self.length = length\n",
        "        self.width = width\n",
        "\n",
        "    def area(self):\n",
        "        return self.length * self.width\n",
        "circle = Circle(5)\n",
        "rectangle = Rectangle(4, 6)\n",
        "print(f\"Area of circle: {circle.area()}\")\n",
        "print(f\"Area of rectangle: {rectangle.area()}\")"
      ],
      "metadata": {
        "colab": {
          "base_uri": "https://localhost:8080/"
        },
        "id": "WxgJSAWqF0Lk",
        "outputId": "084071dc-575f-4136-dcd8-2634b4c4e409"
      },
      "execution_count": 40,
      "outputs": [
        {
          "output_type": "stream",
          "name": "stdout",
          "text": [
            "Area of circle: 78.5\n",
            "Area of rectangle: 24\n"
          ]
        }
      ]
    },
    {
      "cell_type": "code",
      "source": [
        "#3.  Implement a multi-level inheritance scenario where a class Vehicle has an attribute type. Derive a class Car\n",
        " # and further derive a class ElectricCar that adds a battery attribute\n",
        "class Vehicle():\n",
        "  def __init__(self, type):\n",
        "    self.type = type\n",
        "class Car(Vehicle):\n",
        "  def __init__(self, type, color):\n",
        "    super().__init__(type)\n",
        "    self.color = color\n",
        "class ElectricCar(Car):\n",
        "  def __init__(self, type, color, battery):\n",
        "    super().__init__(type, color)\n",
        "    self.battery = battery\n",
        "Electriccar_obj = ElectricCar('compact','white','lithium-ion battery')\n",
        "print(Electriccar_obj.battery)\n",
        "print(Electriccar_obj.color)\n",
        "print(Electriccar_obj.type)\n"
      ],
      "metadata": {
        "colab": {
          "base_uri": "https://localhost:8080/"
        },
        "id": "-1p0_3YAGBoH",
        "outputId": "a4835716-2fd0-49cc-947d-1dbc6a19b787"
      },
      "execution_count": 41,
      "outputs": [
        {
          "output_type": "stream",
          "name": "stdout",
          "text": [
            "lithium-ion battery\n",
            "white\n",
            "compact\n"
          ]
        }
      ]
    },
    {
      "cell_type": "code",
      "source": [
        "#4.  Implement a multi-level inheritance scenario where a class Vehicle has an attribute type. Derive a class Car\n",
        "# and further derive a class ElectricCar that adds a battery attribute.\n",
        "class Vehicle():\n",
        "  def __init__(self, type):\n",
        "    self.type = type\n",
        "class Car(Vehicle):\n",
        "  def __init__(self, type, color):\n",
        "    super().__init__(type)\n",
        "    self.color = color\n",
        "class ElectricCar(Car):\n",
        "  def __init__(self, type, color, battery):\n",
        "    super().__init__(type, color)\n",
        "    self.battery = battery\n",
        "Electriccar_obj = ElectricCar('compact','white','lithium-ion battery')\n",
        "print(Electriccar_obj.battery)\n",
        "print(Electriccar_obj.color)\n",
        "print(Electriccar_obj.type)"
      ],
      "metadata": {
        "colab": {
          "base_uri": "https://localhost:8080/"
        },
        "id": "Y4h4JCCCHk55",
        "outputId": "06e75755-3a6d-4928-b430-ff59fc2417c9"
      },
      "execution_count": 42,
      "outputs": [
        {
          "output_type": "stream",
          "name": "stdout",
          "text": [
            "lithium-ion battery\n",
            "white\n",
            "compact\n"
          ]
        }
      ]
    },
    {
      "cell_type": "code",
      "source": [
        "#5.  Write a program to demonstrate encapsulation by creating a class BankAccount with private attributes\n",
        "# balance and methods to deposit, withdraw, and check balance.\n",
        "class BankAccount:\n",
        "    def __init__(self, balance):\n",
        "        self.__balance = balance  # Private variable\n",
        "\n",
        "    def deposit(self, amount):\n",
        "        self.__balance += amount\n",
        "\n",
        "    def withdraw(self, amount):\n",
        "        if amount <= self.__balance:\n",
        "            self.__balance -= amount\n",
        "        else:\n",
        "            print(\"Insufficient funds\")\n",
        "\n",
        "    def get_balance(self):\n",
        "        return self.__balance\n",
        "\n",
        "account = BankAccount(1000)\n",
        "account.deposit(500)\n",
        "account.withdraw(200)\n",
        "print(f\"account balance is {account.get_balance()}\")"
      ],
      "metadata": {
        "colab": {
          "base_uri": "https://localhost:8080/"
        },
        "id": "lunzhmd-Hz-P",
        "outputId": "412020e7-e199-43de-a72d-0aca7ea202ed"
      },
      "execution_count": 44,
      "outputs": [
        {
          "output_type": "stream",
          "name": "stdout",
          "text": [
            "account balance is 1300\n"
          ]
        }
      ]
    },
    {
      "cell_type": "code",
      "source": [
        "#6.  Demonstrate runtime polymorphism using a method play() in a base class Instrument. Derive classes Guitar\n",
        "# and Piano that implement their own version of play().\n",
        "class Instrument:\n",
        "    def play(self):\n",
        "        print(\"Generic instrument sound\")\n",
        "\n",
        "class Guitar(Instrument):\n",
        "    def play(self):\n",
        "        print(\"Guitar sound\")\n",
        "\n",
        "class Piano(Instrument):\n",
        "    def play(self):\n",
        "        print(\"Piano sound\")\n",
        "Instrument_obj = Instrument()\n",
        "Guitar_obj = Guitar()\n",
        "Piano_obj = Piano()\n",
        "Instrument_obj.play()\n",
        "Guitar_obj.play()\n",
        "Piano_obj.play()"
      ],
      "metadata": {
        "colab": {
          "base_uri": "https://localhost:8080/"
        },
        "id": "IXWaSo3KIJZK",
        "outputId": "03ca1872-5dac-413f-b723-265e46a2a156"
      },
      "execution_count": 45,
      "outputs": [
        {
          "output_type": "stream",
          "name": "stdout",
          "text": [
            "Generic instrument sound\n",
            "Guitar sound\n",
            "Piano sound\n"
          ]
        }
      ]
    },
    {
      "cell_type": "code",
      "source": [
        "#7.  Create a class MathOperations with a class method add_numbers() to add two numbers and a static\n",
        "# method subtract_numbers() to subtract two numbers.\n",
        "class MathOperations:\n",
        "    @classmethod\n",
        "    def add_numbers(cls, num1, num2):\n",
        "        return num1 + num2\n",
        "\n",
        "    @staticmethod\n",
        "    def subtract_numbers(num1, num2):\n",
        "        return num1 - num2\n",
        "print(f\"involking class method: {MathOperations.add_numbers(5, 3)}\")\n",
        "print(f\"involking static method: {MathOperations.subtract_numbers(10, 4)}\")"
      ],
      "metadata": {
        "colab": {
          "base_uri": "https://localhost:8080/"
        },
        "id": "9YesZU3bIzbn",
        "outputId": "deeb7e7d-5ade-4f06-f216-f04ffafb24ea"
      },
      "execution_count": 46,
      "outputs": [
        {
          "output_type": "stream",
          "name": "stdout",
          "text": [
            "involking class method: 8\n",
            "involking static method: 6\n"
          ]
        }
      ]
    },
    {
      "cell_type": "code",
      "source": [
        "#8.  Implement a class Person with a class method to count the total number of persons created.\n",
        "class Person:\n",
        "    count = 0\n",
        "\n",
        "    def __init__(self):\n",
        "        Person.count += 1\n",
        "\n",
        "    @classmethod\n",
        "    def get_count(cls):\n",
        "        return cls.count\n",
        "person1 = Person()\n",
        "person2 = Person()\n",
        "print(f\"Total number of persons created: {Person.get_count()}\")"
      ],
      "metadata": {
        "colab": {
          "base_uri": "https://localhost:8080/"
        },
        "id": "17r8FpLqJNxC",
        "outputId": "05e2830f-c387-4042-f6df-fa01a932b19a"
      },
      "execution_count": 48,
      "outputs": [
        {
          "output_type": "stream",
          "name": "stdout",
          "text": [
            "Total number of persons created: 2\n"
          ]
        }
      ]
    },
    {
      "cell_type": "code",
      "source": [
        "#9.  Write a class Fraction with attributes numerator and denominator. Override the str method to display the\n",
        "# fraction as \"numerator/denominator\".\n",
        "class Fraction:\n",
        "    def __init__(self, numerator, denominator):\n",
        "        self.numerator = numerator\n",
        "        self.denominator = denominator\n",
        "\n",
        "    def __str__(self):\n",
        "        return f\"{self.numerator}/{self.denominator}\"\n",
        "fraction = Fraction(3, 4)\n",
        "print(fraction)"
      ],
      "metadata": {
        "colab": {
          "base_uri": "https://localhost:8080/"
        },
        "id": "j772jNjhJ9X5",
        "outputId": "d2055f6c-09c5-49e5-b48e-50a7c3ab9cd8"
      },
      "execution_count": 50,
      "outputs": [
        {
          "output_type": "stream",
          "name": "stdout",
          "text": [
            "3/4\n"
          ]
        }
      ]
    },
    {
      "cell_type": "code",
      "source": [
        "#10.  Demonstrate operator overloading by creating a class Vector and overriding the add method to add two vectors.\n",
        "class Vector:\n",
        "    def __init__(self, x, y):\n",
        "        self.x = x\n",
        "        self.y = y\n",
        "\n",
        "    def __add__(self, other):\n",
        "        return Vector(self.x + other.x, self.y + other.y)\n",
        "v1 = Vector(1, 2)\n",
        "v2 = Vector(3, 4)\n",
        "result = v1 + v2\n",
        "print(f\"result: {result.x}, {result.y}\")"
      ],
      "metadata": {
        "colab": {
          "base_uri": "https://localhost:8080/"
        },
        "id": "ijax_8DcKBDS",
        "outputId": "943bf5cf-7b6c-45c6-dae1-c2ae6873ba7c"
      },
      "execution_count": 51,
      "outputs": [
        {
          "output_type": "stream",
          "name": "stdout",
          "text": [
            "result: 4, 6\n"
          ]
        }
      ]
    },
    {
      "cell_type": "code",
      "source": [
        "#11.  Create a class Person with attributes name and age. Add a method greet() that prints \"Hello, my name is {name} and I am {age} years old.\"\n",
        "class Person:\n",
        "    def __init__(self, name, age):\n",
        "        self.name = name\n",
        "        self.age = age\n",
        "\n",
        "    def greet(self):\n",
        "        print(f\"Hello, my name is {self.name} and I am {self.age} years old\")\n",
        "p1 = Person('Saroj',36)\n",
        "p1.greet()"
      ],
      "metadata": {
        "colab": {
          "base_uri": "https://localhost:8080/"
        },
        "id": "7sdFstEBNKbU",
        "outputId": "7f021b71-8f95-4fe3-9f4d-258ff64e755e"
      },
      "execution_count": 53,
      "outputs": [
        {
          "output_type": "stream",
          "name": "stdout",
          "text": [
            "Hello, my name is Saroj and I am 36 years old\n"
          ]
        }
      ]
    },
    {
      "cell_type": "code",
      "source": [
        "#12.  Implement a class Student with attributes name and grades. Create a method average_grade() to compute the average of the grades.\n",
        "class Student:\n",
        "    def __init__(self, name, *grades):\n",
        "        self.name = name\n",
        "        self.grades = grades\n",
        "\n",
        "    def average_grade(self):\n",
        "        return sum(self.grades) / len(self.grades)\n",
        "s1 = Student('Saroj',90,80,70)\n",
        "print(f\"average grade of {s1.name} is {s1.average_grade()}\")"
      ],
      "metadata": {
        "colab": {
          "base_uri": "https://localhost:8080/"
        },
        "id": "CibkdrrTNyMd",
        "outputId": "38173492-466f-4c73-e145-4fe17132075b"
      },
      "execution_count": 55,
      "outputs": [
        {
          "output_type": "stream",
          "name": "stdout",
          "text": [
            "average grade of Saroj is 80.0\n"
          ]
        }
      ]
    },
    {
      "cell_type": "code",
      "source": [
        "#13.  Create a class Rectangle with methods set_dimensions() to set the dimensions and area() to calculate the area.\n",
        "class Rectangle:\n",
        "    def __init__(self, length, width):\n",
        "        self.length = length\n",
        "        self.width = width\n",
        "    def set_dimensions(self, length, width):\n",
        "        length = self.length\n",
        "        width = self.width\n",
        "    def area(self):\n",
        "        return self.length * self.width\n",
        "r1 = Rectangle(5,10)\n",
        "print(f\"area of rectangle is {r1.area()}\")"
      ],
      "metadata": {
        "colab": {
          "base_uri": "https://localhost:8080/"
        },
        "id": "SJvV3Mf8OCM2",
        "outputId": "d249d639-e82a-485d-e49a-2fd47851d63a"
      },
      "execution_count": 56,
      "outputs": [
        {
          "output_type": "stream",
          "name": "stdout",
          "text": [
            "area of rectangle is 50\n"
          ]
        }
      ]
    },
    {
      "cell_type": "code",
      "source": [
        "#14. Create a class Employee with a method calculate_salary() that computes the salary based on hours worked\n",
        "# and hourly rate. Create a derived class Manager that adds a bonus to the salary.\n",
        "class Employee:\n",
        "    def __init__(self, name, hours_worked, hourly_rate):\n",
        "        self.name = name\n",
        "        self.hours_worked = hours_worked\n",
        "        self.hourly_rate = hourly_rate\n",
        "    def calculate_salary(self):\n",
        "        return self.hours_worked * self.hourly_rate\n",
        "class Manager(Employee):\n",
        "    def __init__(self, name, hours_worked, hourly_rate, bonus):\n",
        "        super().__init__(name, hours_worked, hourly_rate)\n",
        "        self.bonus = bonus\n",
        "    def calculate_revised_salary(self):\n",
        "        revised_salary = super().calculate_salary() + self.bonus\n",
        "        return revised_salary\n",
        "e1 = Employee('Saroj', 40, 50)\n",
        "print(f\"salary of {e1.name} is {e1.calculate_salary()}\")\n",
        "m1 = Manager('Saroj', 40, 50, 1000)\n",
        "print(f\"revised salary of {m1.name} is {m1.calculate_revised_salary()}\")"
      ],
      "metadata": {
        "colab": {
          "base_uri": "https://localhost:8080/"
        },
        "id": "zr0ACidQOeGA",
        "outputId": "26cf31d4-3528-4095-d96f-06e5a0891caf"
      },
      "execution_count": 57,
      "outputs": [
        {
          "output_type": "stream",
          "name": "stdout",
          "text": [
            "salary of Saroj is 2000\n",
            "revised salary of Saroj is 3000\n"
          ]
        }
      ]
    },
    {
      "cell_type": "code",
      "source": [
        "#15. Create a class Product with attributes name, price, and quantity. Implement a method total_price() that calculates the total price of the product.\n",
        "class Product:\n",
        "    def __init__(self, name, price, quantity):\n",
        "        self.name = name\n",
        "        self.price = price\n",
        "        self.quantity = quantity\n",
        "    def total_price(self):\n",
        "        return self.price * self.quantity\n",
        "p1 = Product('pen', 10, 5)\n",
        "print(f\"total price of {p1.name} is {p1.total_price()}\")"
      ],
      "metadata": {
        "colab": {
          "base_uri": "https://localhost:8080/"
        },
        "id": "Ld-CcWM5Pzvq",
        "outputId": "8fb550eb-cb95-44db-95b1-a97b3cfab037"
      },
      "execution_count": 59,
      "outputs": [
        {
          "output_type": "stream",
          "name": "stdout",
          "text": [
            "total price of pen is 50\n"
          ]
        }
      ]
    },
    {
      "cell_type": "code",
      "source": [
        "#16.  Create a class Animal with an abstract method sound(). Create two derived classes Cow and Sheep that implement the sound() method.\n",
        "from abc import ABC, abstractmethod\n",
        "class Animal(ABC):\n",
        "    @abstractmethod\n",
        "    def sound(self):\n",
        "        pass\n",
        "class Cow(Animal):\n",
        "    def sound(self):\n",
        "        print(\"Moo\")\n",
        "class Sheep(Animal):\n",
        "    def sound(self):\n",
        "        print(\"Bleat\")\n",
        "cow_obj = Cow()\n",
        "sheep_obj = Sheep()\n",
        "cow_obj.sound()\n",
        "sheep_obj.sound()"
      ],
      "metadata": {
        "colab": {
          "base_uri": "https://localhost:8080/"
        },
        "id": "KNQODYlDP7N_",
        "outputId": "cf0395ef-5eef-49fb-b944-24639a30cc1c"
      },
      "execution_count": 60,
      "outputs": [
        {
          "output_type": "stream",
          "name": "stdout",
          "text": [
            "Moo\n",
            "Bleat\n"
          ]
        }
      ]
    },
    {
      "cell_type": "code",
      "source": [
        "#17. Create a class Book with attributes title, author, and year_published. Add a method get_book_info() that returns a formatted string with the book's details.\n",
        "class Book:\n",
        "    def __init__(self, title, author, year_published):\n",
        "        self.title = title\n",
        "        self.author = author\n",
        "        self.year_published = year_published\n",
        "\n",
        "    def get_book_info(self):\n",
        "        return f\"Title: {self.title}\\nAuthor: {self.author}\\nYear Published: {self.year_published}\"\n",
        "book = Book(\"The Great Gatsby\", \"F. Scott Fitzgerald\", 1925)\n",
        "print(book.get_book_info())"
      ],
      "metadata": {
        "colab": {
          "base_uri": "https://localhost:8080/"
        },
        "id": "soPY9FpeQdv9",
        "outputId": "a2ccc89f-71d6-4fc9-b65a-c21a3df98d21"
      },
      "execution_count": 63,
      "outputs": [
        {
          "output_type": "stream",
          "name": "stdout",
          "text": [
            "Title: The Great Gatsby\n",
            "Author: F. Scott Fitzgerald\n",
            "Year Published: 1925\n"
          ]
        }
      ]
    },
    {
      "cell_type": "code",
      "source": [
        "#18.  Create a class House with attributes address and price. Create a derived class Mansion that adds an attribute number_of_rooms.\n",
        "class House:\n",
        "  def __init__(self, address, price):\n",
        "    self.address = address\n",
        "    self.price = price\n",
        "class Mansion(House):\n",
        "  def __init__(self, address, price, number_of_rooms):\n",
        "    super().__init__(address, price)\n",
        "    self.number_of_rooms = number_of_rooms\n",
        "m1 = Mansion('Hyderabad', 1000000, 10)\n",
        "print(m1.address)\n",
        "print(m1.price)\n",
        "print(m1.number_of_rooms)"
      ],
      "metadata": {
        "colab": {
          "base_uri": "https://localhost:8080/"
        },
        "id": "4LASlWeoQm0w",
        "outputId": "645a3a06-1b8e-4e44-bb06-857e39af58ad"
      },
      "execution_count": 64,
      "outputs": [
        {
          "output_type": "stream",
          "name": "stdout",
          "text": [
            "Hyderabad\n",
            "1000000\n",
            "10\n"
          ]
        }
      ]
    },
    {
      "cell_type": "code",
      "source": [],
      "metadata": {
        "id": "HkXAGmhPQ_pG"
      },
      "execution_count": null,
      "outputs": []
    }
  ]
}