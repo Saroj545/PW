{
  "nbformat": 4,
  "nbformat_minor": 0,
  "metadata": {
    "colab": {
      "provenance": []
    },
    "kernelspec": {
      "name": "python3",
      "display_name": "Python 3"
    },
    "language_info": {
      "name": "python"
    }
  },
  "cells": [
    {
      "cell_type": "code",
      "execution_count": 1,
      "metadata": {
        "colab": {
          "base_uri": "https://localhost:8080/",
          "height": 104
        },
        "id": "RA4u2FHaA8PT",
        "outputId": "584ba6ea-0d93-493a-c5d4-e42e396eff99"
      },
      "outputs": [
        {
          "output_type": "execute_result",
          "data": {
            "text/plain": [
              "\"\\nPython is a popular programming language because it's versatile, beginner-friendly, and open source.\\n\\nVersatile: Python is a general-purpose language that can be used for many different tasks, including web development, data science, automation, and more.\\nBeginner friendly: Python's syntax is simple and mimics natural language, making it easier to read and understand.\\nOpen source: Python is free to use and distribute, even for commercial purposes. \\n\\nHere are some other reasons why Python is popular:\\nExtensive libraries\\nPython has extensive libraries that make it easier to use for artificial intelligence, data science, and machine learning. \\n\\nPortable\\nPython runs on various operating systems such as Linux, macOS, and Windows. \\n\\nSupports various programming paradigms\\nPython supports various programming paradigms such as object-oriented, procedural, and functional programming. \\nPython is used in many applications, including: Netflix's recommendation algorithm, Software that controls self-driving cars, Back-end development of web and mobile applications, Development of PC software and applications, and System scripts.\\n\""
            ],
            "application/vnd.google.colaboratory.intrinsic+json": {
              "type": "string"
            }
          },
          "metadata": {},
          "execution_count": 1
        }
      ],
      "source": [
        "#1. What is Python, and why is it popular?\n",
        "\n",
        "'''\n",
        "Python is a popular programming language because it's versatile, beginner-friendly, and open source.\n",
        "\n",
        "Versatile: Python is a general-purpose language that can be used for many different tasks, including web development, data science, automation, and more.\n",
        "Beginner friendly: Python's syntax is simple and mimics natural language, making it easier to read and understand.\n",
        "Open source: Python is free to use and distribute, even for commercial purposes.\n",
        "\n",
        "Here are some other reasons why Python is popular:\n",
        "Extensive libraries\n",
        "Python has extensive libraries that make it easier to use for artificial intelligence, data science, and machine learning.\n",
        "\n",
        "Portable\n",
        "Python runs on various operating systems such as Linux, macOS, and Windows.\n",
        "\n",
        "Supports various programming paradigms\n",
        "Python supports various programming paradigms such as object-oriented, procedural, and functional programming.\n",
        "Python is used in many applications, including: Netflix's recommendation algorithm, Software that controls self-driving cars, Back-end development of web and mobile applications, Development of PC software and applications, and System scripts.\n",
        "'''"
      ]
    },
    {
      "cell_type": "code",
      "source": [
        "#2. What is an interpretor in python?\n",
        "\n",
        "'''\n",
        "A Python interpreter is a computer program that translates Python code into machine code that a computer can understand\n",
        "'''"
      ],
      "metadata": {
        "colab": {
          "base_uri": "https://localhost:8080/",
          "height": 35
        },
        "id": "Qxy8qxCuCPP-",
        "outputId": "3211089e-017b-43a2-ee07-06cf2b75e967"
      },
      "execution_count": 2,
      "outputs": [
        {
          "output_type": "execute_result",
          "data": {
            "text/plain": [
              "'\\nA Python interpreter is a computer program that translates Python code into machine code that a computer can understand\\n'"
            ],
            "application/vnd.google.colaboratory.intrinsic+json": {
              "type": "string"
            }
          },
          "metadata": {},
          "execution_count": 2
        }
      ]
    },
    {
      "cell_type": "code",
      "source": [
        "#3. What are pre-defined keywords in Python ?\n",
        "\n",
        "'''\n",
        "Predefined keywords in Python are words that are part of the syntax and have a special meaning. They should not be used as identifiers like variable names or function names.\n",
        "\n",
        "Here are some pre-defined keywords in Python: def, lambda, and, else, False, None, True, For, while, break, continue, del etc.\n",
        "'''"
      ],
      "metadata": {
        "colab": {
          "base_uri": "https://localhost:8080/",
          "height": 52
        },
        "id": "zxsENThPC2hs",
        "outputId": "edd6ca55-973b-4eb2-e762-baf29b1f3d64"
      },
      "execution_count": 3,
      "outputs": [
        {
          "output_type": "execute_result",
          "data": {
            "text/plain": [
              "'\\nPredefined keywords in Python are words that are part of the syntax and have a special meaning. They should not be used as identifiers like variable names or function names.\\n\\nHere are some pre-defined keywords in Python: def, lambda, and, else, False, None, True, For, while, break, continue, del etc.\\n'"
            ],
            "application/vnd.google.colaboratory.intrinsic+json": {
              "type": "string"
            }
          },
          "metadata": {},
          "execution_count": 3
        }
      ]
    },
    {
      "cell_type": "code",
      "source": [
        "#4. Can keywords be used as variable names?\n",
        "\n",
        "'''\n",
        "No, you cannot use keywords as variable names in Python. Keywords are used to define the structure and syntax of the Python language. The interpreter uses keywords to recognize the program's structure.\n",
        "'''"
      ],
      "metadata": {
        "colab": {
          "base_uri": "https://localhost:8080/",
          "height": 52
        },
        "id": "5G7AKsevD2rf",
        "outputId": "f307a05e-9fe0-41d9-fdfb-bdc0191b5061"
      },
      "execution_count": 4,
      "outputs": [
        {
          "output_type": "execute_result",
          "data": {
            "text/plain": [
              "\"\\nNo, you cannot use keywords as variable names in Python. Keywords are used to define the structure and syntax of the Python language. The interpreter uses keywords to recognize the program's structure.\\n\""
            ],
            "application/vnd.google.colaboratory.intrinsic+json": {
              "type": "string"
            }
          },
          "metadata": {},
          "execution_count": 4
        }
      ]
    },
    {
      "cell_type": "code",
      "source": [
        "#5. What is mutability in Python?\n",
        "'''\n",
        "In Python, mutability refers to the ability to change the value or state of an object after it has been created. Mutable objects can be modified in terms of their contents or state, and any operation that modifies a mutable object will change the original object.\n",
        "\n",
        "examples of mutable objects in Python: Lists and Dictionaries\n",
        "'''"
      ],
      "metadata": {
        "colab": {
          "base_uri": "https://localhost:8080/",
          "height": 52
        },
        "id": "uJBhwYoNEXXD",
        "outputId": "69f3d75b-a5ca-41e9-e6a7-a692e49f4828"
      },
      "execution_count": 5,
      "outputs": [
        {
          "output_type": "execute_result",
          "data": {
            "text/plain": [
              "'\\nIn Python, mutability refers to the ability to change the value or state of an object after it has been created. Mutable objects can be modified in terms of their contents or state, and any operation that modifies a mutable object will change the original object. \\n\\nexamples of mutable objects in Python: Lists and Dictionaries\\n'"
            ],
            "application/vnd.google.colaboratory.intrinsic+json": {
              "type": "string"
            }
          },
          "metadata": {},
          "execution_count": 5
        }
      ]
    },
    {
      "cell_type": "code",
      "source": [
        "#6. Why are lists mutable, but tuples are immutable?\n",
        "'''\n",
        "Like a list, a tuple is a sequence of elements. However, once set, we cannot change a tuple. Like a Python string, a tuple is immutable.\n",
        "'''"
      ],
      "metadata": {
        "colab": {
          "base_uri": "https://localhost:8080/",
          "height": 35
        },
        "id": "R5ipsvTLFHWc",
        "outputId": "2a518d24-91e5-437b-fc91-3a275a8825f2"
      },
      "execution_count": 6,
      "outputs": [
        {
          "output_type": "execute_result",
          "data": {
            "text/plain": [
              "'\\nLike a list, a tuple is a sequence of elements. However, once set, we cannot change a tuple. Like a Python string, a tuple is immutable.\\n'"
            ],
            "application/vnd.google.colaboratory.intrinsic+json": {
              "type": "string"
            }
          },
          "metadata": {},
          "execution_count": 6
        }
      ]
    },
    {
      "cell_type": "code",
      "source": [
        "#7. What is the difference between “==” and “is” operators in Python?\n",
        "'''\n",
        "In Python, the main difference between the == and is operators is that == compares the values of objects, while is compares the identities of objects\n",
        "'''"
      ],
      "metadata": {
        "colab": {
          "base_uri": "https://localhost:8080/",
          "height": 35
        },
        "id": "t-QlNWR_FtN5",
        "outputId": "88f0c569-351b-4cba-81a3-421562ae6217"
      },
      "execution_count": 7,
      "outputs": [
        {
          "output_type": "execute_result",
          "data": {
            "text/plain": [
              "'\\nIn Python, the main difference between the == and is operators is that == compares the values of objects, while is compares the identities of objects\\n'"
            ],
            "application/vnd.google.colaboratory.intrinsic+json": {
              "type": "string"
            }
          },
          "metadata": {},
          "execution_count": 7
        }
      ]
    },
    {
      "cell_type": "code",
      "source": [
        "#8. What are logical operators in Python?\n",
        "'''\n",
        "Logical operators in Python are special keywords that connect and evaluate multiple conditions in a single expression. They are used to express complex conditions and allow programs to make decisions based on multiple factors.\n",
        "Example: and, or and Not\n",
        "'''"
      ],
      "metadata": {
        "colab": {
          "base_uri": "https://localhost:8080/",
          "height": 52
        },
        "id": "KBuL4Q2GGGzU",
        "outputId": "19155fe3-56d1-4149-c125-d63bd5706402"
      },
      "execution_count": 8,
      "outputs": [
        {
          "output_type": "execute_result",
          "data": {
            "text/plain": [
              "'\\nLogical operators in Python are special keywords that connect and evaluate multiple conditions in a single expression. They are used to express complex conditions and allow programs to make decisions based on multiple factors.\\nExample: and, or and Not\\n'"
            ],
            "application/vnd.google.colaboratory.intrinsic+json": {
              "type": "string"
            }
          },
          "metadata": {},
          "execution_count": 8
        }
      ]
    },
    {
      "cell_type": "code",
      "source": [
        "#9. What is type casting in Python?\n",
        "'''\n",
        "Type casting in Python is the process of changing a variable's data type to another. It's also known as type conversion.\n",
        "'''"
      ],
      "metadata": {
        "colab": {
          "base_uri": "https://localhost:8080/",
          "height": 104
        },
        "id": "HihGMsYYGcnc",
        "outputId": "14796027-7f28-4370-c359-5a06180fe5dd"
      },
      "execution_count": 9,
      "outputs": [
        {
          "output_type": "execute_result",
          "data": {
            "text/plain": [
              "\"\\nType casting in Python is the process of changing a variable's data type to another. It's also known as type conversion. \\n\\nType casting can be done in two ways:\\nImplicit casting\\nAlso known as automatic type conversion, this happens when the system automatically converts the data type without the programmer's intervention. It usually involves converting a smaller data type to a larger one to prevent data loss. \\n\\nExplicit casting\\nAlso known as manual casting, this is when the programmer manually changes the data type using built-in functions like int(), float(), and str(). There's a chance of data loss if a data type is converted to a smaller one. \\nType casting is important for making Python code more versatile and ensuring compatibility between different data types. For example, to convert an integer to a float, you can use the float() function. To convert a float to an integer, you can use the int() function. To convert an integer to a string, you can use a = str(5).\\n\""
            ],
            "application/vnd.google.colaboratory.intrinsic+json": {
              "type": "string"
            }
          },
          "metadata": {},
          "execution_count": 9
        }
      ]
    },
    {
      "cell_type": "code",
      "source": [
        "#10.  What is the difference between implicit and explicit type casting?\n",
        "'''\n",
        "Type casting can be done in two ways:\n",
        "\n",
        "Implicit casting\n",
        "Also known as automatic type conversion, this happens when the system automatically converts the data type without the programmer's intervention. It usually involves converting a smaller data type to a larger one to prevent data loss.\n",
        "\n",
        "Explicit casting\n",
        "Also known as manual casting, this is when the programmer manually changes the data type using built-in functions like int(), float(), and str(). There's a chance of data loss if a data type is converted to a smaller one.\n",
        "Type casting is important for making Python code more versatile and ensuring compatibility between different data types. For example, to convert an integer to a float, you can use the float() function. To convert a float to an integer, you can use the int() function. To convert an integer to a string, you can use a = str(5).\n",
        "'''"
      ],
      "metadata": {
        "colab": {
          "base_uri": "https://localhost:8080/",
          "height": 104
        },
        "id": "dIP3FhbeHBfl",
        "outputId": "803d0f15-64d9-495b-ffeb-bf1ebe3410dc"
      },
      "execution_count": 10,
      "outputs": [
        {
          "output_type": "execute_result",
          "data": {
            "text/plain": [
              "\"\\nType casting can be done in two ways:\\nImplicit casting\\nAlso known as automatic type conversion, this happens when the system automatically converts the data type without the programmer's intervention. It usually involves converting a smaller data type to a larger one to prevent data loss. \\n\\nExplicit casting\\nAlso known as manual casting, this is when the programmer manually changes the data type using built-in functions like int(), float(), and str(). There's a chance of data loss if a data type is converted to a smaller one. \\nType casting is important for making Python code more versatile and ensuring compatibility between different data types. For example, to convert an integer to a float, you can use the float() function. To convert a float to an integer, you can use the int() function. To convert an integer to a string, you can use a = str(5).\\n\""
            ],
            "application/vnd.google.colaboratory.intrinsic+json": {
              "type": "string"
            }
          },
          "metadata": {},
          "execution_count": 10
        }
      ]
    },
    {
      "cell_type": "code",
      "source": [
        "#11. What is the purpose of conditional statements in Python?\n",
        "'''\n",
        "Conditional statements, also known as control flow statements, are used in Python to make decisions based on conditions. They determine the flow of a Python program\n",
        "by evaluating an expression and executing a block of code based on the result.\n",
        "\n",
        "Examples\n",
        "\n",
        "If: Executes a block of code if a condition is true\n",
        "Else: Executes a different block of code if the if condition is false\n",
        "Elif: Checks multiple conditions in sequence and executes different code blocks depending on which condition is true\n",
        "'''"
      ],
      "metadata": {
        "colab": {
          "base_uri": "https://localhost:8080/",
          "height": 70
        },
        "id": "se4Fuae4HMkm",
        "outputId": "d409da20-94d6-4693-be06-162b5b72edbf"
      },
      "execution_count": 11,
      "outputs": [
        {
          "output_type": "execute_result",
          "data": {
            "text/plain": [
              "'\\nConditional statements, also known as control flow statements, are used in Python to make decisions based on conditions. They determine the flow of a Python program \\nby evaluating an expression and executing a block of code based on the result. \\n\\nExamples\\n \\nIf: Executes a block of code if a condition is true \\nElse: Executes a different block of code if the if condition is false \\nElif: Checks multiple conditions in sequence and executes different code blocks depending on which condition is true\\n'"
            ],
            "application/vnd.google.colaboratory.intrinsic+json": {
              "type": "string"
            }
          },
          "metadata": {},
          "execution_count": 11
        }
      ]
    },
    {
      "cell_type": "code",
      "source": [
        "#12. How does the elif statement work?\n",
        "'''\n",
        "In Python, elif is short for \"else if\" and is used when the first if statement isn't true, but you want to check for another condition.\n",
        "'''"
      ],
      "metadata": {
        "colab": {
          "base_uri": "https://localhost:8080/",
          "height": 35
        },
        "id": "niBAEFxkHyYO",
        "outputId": "262142fb-2c5d-4772-f8d2-be44f6962fc6"
      },
      "execution_count": 12,
      "outputs": [
        {
          "output_type": "execute_result",
          "data": {
            "text/plain": [
              "'\\nIn Python, elif is short for \"else if\" and is used when the first if statement isn\\'t true, but you want to check for another condition.\\n'"
            ],
            "application/vnd.google.colaboratory.intrinsic+json": {
              "type": "string"
            }
          },
          "metadata": {},
          "execution_count": 12
        }
      ]
    },
    {
      "cell_type": "code",
      "source": [
        "#13. What is the difference between for and while loops?\n",
        "'''\n",
        "For loop is used to iterate over a sequence of items. While loop is used to repeatedly execute a block of statements while a condition is true.\n",
        "'''"
      ],
      "metadata": {
        "colab": {
          "base_uri": "https://localhost:8080/",
          "height": 35
        },
        "id": "dvXfP8JzIAgF",
        "outputId": "66c765a2-cf2a-4991-9409-60d5cb94bc8c"
      },
      "execution_count": 13,
      "outputs": [
        {
          "output_type": "execute_result",
          "data": {
            "text/plain": [
              "'\\nFor loop is used to iterate over a sequence of items. While loop is used to repeatedly execute a block of statements while a condition is true.\\n'"
            ],
            "application/vnd.google.colaboratory.intrinsic+json": {
              "type": "string"
            }
          },
          "metadata": {},
          "execution_count": 13
        }
      ]
    },
    {
      "cell_type": "code",
      "source": [
        "#14. Describe a scenario where a while loop is more suitable than a for loop.\n",
        "'''\n",
        "In contrast to a 'for' loop, which is generally used when the number of iterations is known beforehand, a 'while' loop is ideal for situations where the number of iterations is not predetermined and depends on some dynamic condition.\n",
        "'''"
      ],
      "metadata": {
        "colab": {
          "base_uri": "https://localhost:8080/",
          "height": 52
        },
        "id": "mNlVLdl1IPYJ",
        "outputId": "8cb4f180-53e1-4ad0-870c-88f0e5e479ce"
      },
      "execution_count": 14,
      "outputs": [
        {
          "output_type": "execute_result",
          "data": {
            "text/plain": [
              "\"\\nIn contrast to a 'for' loop, which is generally used when the number of iterations is known beforehand, a 'while' loop is ideal for situations where the number of iterations is not predetermined and depends on some dynamic condition.\\n\""
            ],
            "application/vnd.google.colaboratory.intrinsic+json": {
              "type": "string"
            }
          },
          "metadata": {},
          "execution_count": 14
        }
      ]
    },
    {
      "cell_type": "markdown",
      "source": [
        "#Practical Questions"
      ],
      "metadata": {
        "id": "3cyxtCbcIqG6"
      }
    },
    {
      "cell_type": "code",
      "source": [
        "#1. Write a Python program to print \"Hello, World!_\n",
        "print(f\"Hello, World!_\")"
      ],
      "metadata": {
        "colab": {
          "base_uri": "https://localhost:8080/"
        },
        "id": "PYNgi6RrIuQC",
        "outputId": "613f5d6a-3a45-4575-bc80-8ed71e467665"
      },
      "execution_count": 15,
      "outputs": [
        {
          "output_type": "stream",
          "name": "stdout",
          "text": [
            "Hello, World!_\n"
          ]
        }
      ]
    },
    {
      "cell_type": "code",
      "source": [
        "#2. Write a Python program that displays your name and age.\n",
        "\n",
        "name = 'K. V. Saroj Reddy'\n",
        "age = 35\n",
        "print(f\"my name: {name}\\nage: {age}\")"
      ],
      "metadata": {
        "colab": {
          "base_uri": "https://localhost:8080/"
        },
        "id": "QgyxErWUJDqv",
        "outputId": "33af8251-494f-497d-cc3e-181a96eab917"
      },
      "execution_count": 21,
      "outputs": [
        {
          "output_type": "stream",
          "name": "stdout",
          "text": [
            "my name: K. V. Saroj Reddy\n",
            "age: 35\n"
          ]
        }
      ]
    },
    {
      "cell_type": "code",
      "source": [
        "#3. Write code to print all the pre-defined keywords in Python using the keyword library\n",
        "\n",
        "import keyword\n",
        "# printing all keywords at once using \"kwlist()\"\n",
        "print(\"The list of keywords is : \")\n",
        "print(keyword.kwlist)"
      ],
      "metadata": {
        "colab": {
          "base_uri": "https://localhost:8080/"
        },
        "id": "mLtN3pRSJlTF",
        "outputId": "ae69780c-df4a-4116-b5d1-4221c26ff972"
      },
      "execution_count": 23,
      "outputs": [
        {
          "output_type": "stream",
          "name": "stdout",
          "text": [
            "The list of keywords is : \n",
            "['False', 'None', 'True', 'and', 'as', 'assert', 'async', 'await', 'break', 'class', 'continue', 'def', 'del', 'elif', 'else', 'except', 'finally', 'for', 'from', 'global', 'if', 'import', 'in', 'is', 'lambda', 'nonlocal', 'not', 'or', 'pass', 'raise', 'return', 'try', 'while', 'with', 'yield']\n"
          ]
        }
      ]
    },
    {
      "cell_type": "code",
      "source": [
        "#4. Write a program that checks if a given word is a Python keyword\n",
        "\n",
        "import keyword\n",
        "  # use the built-in keyword.iskeyword to check if the given word is a keyword\n",
        "word=input(\"enter a word: \")\n",
        "if keyword.iskeyword(word):\n",
        "    print(f\"{word} is a keyword\")\n",
        "else:\n",
        "    print(f\"{word} is not a keyword\")"
      ],
      "metadata": {
        "colab": {
          "base_uri": "https://localhost:8080/"
        },
        "id": "1jH94QNyKdnr",
        "outputId": "884bdb6e-d2f5-4080-c0b5-d586b84f8c23"
      },
      "execution_count": 26,
      "outputs": [
        {
          "output_type": "stream",
          "name": "stdout",
          "text": [
            "enter a word: learn\n",
            "learn is not a keyword\n"
          ]
        }
      ]
    },
    {
      "cell_type": "code",
      "source": [
        "#5. Create a list and tuple in Python, and demonstrate how attempting to change an element works differently for each\n",
        "\n",
        "try:\n",
        "  # list\n",
        "  List=[ 10, 20, 30, 40, 50, 60]\n",
        "  print(\"\\n\\nshowing mutability in tuples\")\n",
        "  print(\"original list \")\n",
        "  print(List)\n",
        "\n",
        "  #changing the first value\n",
        "  List[0] = 11\n",
        "\n",
        "  #changing the second value\n",
        "  List[1] = 21\n",
        "\n",
        "  #changing the last element\n",
        "  List[ -1] = 61\n",
        "\n",
        "  print(\"\\nNew list\")\n",
        "  print(List)\n",
        "\n",
        "  #tuples\n",
        "  t = (1, 2, 3, 4, 5)\n",
        "  print(\"\\n\\nshowing immutability in tuples\")\n",
        "  print(f\"t: {t}\")\n",
        "\n",
        "  # updating an element\n",
        "  t[1] = 100\n",
        "  print(t)\n",
        "\n",
        "except Exception as e:\n",
        "  print(e)\n"
      ],
      "metadata": {
        "colab": {
          "base_uri": "https://localhost:8080/"
        },
        "id": "viLT2UHNLUTK",
        "outputId": "c8198386-66fa-4e86-aa1f-da410bc6ff20"
      },
      "execution_count": 43,
      "outputs": [
        {
          "output_type": "stream",
          "name": "stdout",
          "text": [
            "\n",
            "\n",
            "showing mutability in tuples\n",
            "original list \n",
            "[10, 20, 30, 40, 50, 60]\n",
            "\n",
            "New list\n",
            "[11, 21, 30, 40, 50, 61]\n",
            "\n",
            "\n",
            "showing immutability in tuples\n",
            "t: (1, 2, 3, 4, 5)\n",
            "'tuple' object does not support item assignment\n"
          ]
        }
      ]
    },
    {
      "cell_type": "code",
      "source": [
        "#6. Write a function to demonstrate the behavior of mutable and immutable arguments\n",
        "\n",
        "def check_mutable_immutable_objects():\n",
        "  try:\n",
        "    #lists are mutable python objects.\n",
        "    #Add and Remove items from a list in Python\n",
        "    print(\"demonstrating mutability in lists\")\n",
        "    my_list = [1, 2, 3]\n",
        "    my_list.append(4)\n",
        "    print(my_list)\n",
        "\n",
        "    my_list.insert(1, 5)\n",
        "    print(my_list)\n",
        "\n",
        "    my_list.remove(2)\n",
        "    print(my_list)\n",
        "\n",
        "    popped_element = my_list.pop(0)\n",
        "    print(my_list)\n",
        "    print(popped_element)\n",
        "\n",
        "    #dictionaries are mutable python objects\n",
        "    #Modify item from a dictionary in Python\n",
        "    print(\"\\n\\ndemonstrating mutability in dictionaries\")\n",
        "    my_dict = {\"name\": \"Ram\", \"age\": 25}\n",
        "    new_dict = my_dict\n",
        "    new_dict[\"age\"] = 37\n",
        "\n",
        "    print(f\"my_dict: {my_dict}\")\n",
        "    print(f\"new_dict: {new_dict}\")\n",
        "\n",
        "    #sets are mutable python objects\n",
        "    #Modify item from a Set in Python\n",
        "    print(\"\\n\\ndemonstrating mutability in sets\")\n",
        "    my_set = {1, 2, 3}\n",
        "    new_set = my_set\n",
        "    new_set.add(4)\n",
        "\n",
        "    print(f\"my_set: {my_set}\")\n",
        "    print(f\"new_set: {new_set}\")\n",
        "\n",
        "    # Python code to test that\n",
        "    # tuples are immutable\n",
        "\n",
        "    print(\"\\n\\ndemonstrating immutability in tuples\")\n",
        "    tuple1 = (0, 1, 2, 3)\n",
        "    tuple1[0] = 4\n",
        "    print(tuple1)\n",
        "  except Exception as e:\n",
        "    print(e)\n",
        "\n",
        "check_mutable_immutable_objects()\n",
        "\n"
      ],
      "metadata": {
        "colab": {
          "base_uri": "https://localhost:8080/"
        },
        "id": "JHzIpnK5MUcl",
        "outputId": "6fb9a00c-5a40-4083-ad75-86d81efcde62"
      },
      "execution_count": 50,
      "outputs": [
        {
          "output_type": "stream",
          "name": "stdout",
          "text": [
            "demonstrating mutability in lists\n",
            "[1, 2, 3, 4]\n",
            "[1, 5, 2, 3, 4]\n",
            "[1, 5, 3, 4]\n",
            "[5, 3, 4]\n",
            "1\n",
            "\n",
            "\n",
            "demonstrating mutability in dictionaries\n",
            "my_dict: {'name': 'Ram', 'age': 37}\n",
            "new_dict: {'name': 'Ram', 'age': 37}\n",
            "\n",
            "\n",
            "demonstrating mutability in sets\n",
            "my_set: {1, 2, 3, 4}\n",
            "new_set: {1, 2, 3, 4}\n",
            "\n",
            "\n",
            "demonstrating immutability in tuples\n",
            "'tuple' object does not support item assignment\n"
          ]
        }
      ]
    },
    {
      "cell_type": "code",
      "source": [
        "#7. Write a function to demonstrate the behavior of mutable and immutable arguments\n",
        "\n",
        "def check_mutable_immutable_objects():\n",
        "  try:\n",
        "    #lists are mutable python objects.\n",
        "    #Add and Remove items from a list in Python\n",
        "    print(\"demonstrating mutability in lists\")\n",
        "    my_list = [1, 2, 3]\n",
        "    my_list.append(4)\n",
        "    print(my_list)\n",
        "\n",
        "    my_list.insert(1, 5)\n",
        "    print(my_list)\n",
        "\n",
        "    my_list.remove(2)\n",
        "    print(my_list)\n",
        "\n",
        "    popped_element = my_list.pop(0)\n",
        "    print(my_list)\n",
        "    print(popped_element)\n",
        "\n",
        "    #dictionaries are mutable python objects\n",
        "    #Modify item from a dictionary in Python\n",
        "    print(\"\\n\\ndemonstrating mutability in dictionaries\")\n",
        "    my_dict = {\"name\": \"Ram\", \"age\": 25}\n",
        "    new_dict = my_dict\n",
        "    new_dict[\"age\"] = 37\n",
        "\n",
        "    print(f\"my_dict: {my_dict}\")\n",
        "    print(f\"new_dict: {new_dict}\")\n",
        "\n",
        "    #sets are mutable python objects\n",
        "    #Modify item from a Set in Python\n",
        "    print(\"\\n\\ndemonstrating mutability in sets\")\n",
        "    my_set = {1, 2, 3}\n",
        "    new_set = my_set\n",
        "    new_set.add(4)\n",
        "\n",
        "    print(f\"my_set: {my_set}\")\n",
        "    print(f\"new_set: {new_set}\")\n",
        "\n",
        "    # Python code to test that\n",
        "    # tuples are immutable\n",
        "\n",
        "    print(\"\\n\\ndemonstrating immutability in tuples\")\n",
        "    tuple1 = (0, 1, 2, 3)\n",
        "    tuple1[0] = 4\n",
        "    print(tuple1)\n",
        "  except Exception as e:\n",
        "    print(e)\n",
        "\n",
        "check_mutable_immutable_objects()"
      ],
      "metadata": {
        "colab": {
          "base_uri": "https://localhost:8080/"
        },
        "id": "GwO_4wgSO1Ie",
        "outputId": "cc6ca500-4586-4d30-f347-3b2c2b73cd6d"
      },
      "execution_count": 49,
      "outputs": [
        {
          "output_type": "stream",
          "name": "stdout",
          "text": [
            "demonstrating mutability in lists\n",
            "[1, 2, 3, 4]\n",
            "[1, 5, 2, 3, 4]\n",
            "[1, 5, 3, 4]\n",
            "[5, 3, 4]\n",
            "1\n",
            "\n",
            "\n",
            "demonstrating mutability in dictionaries\n",
            "my_dict: {'name': 'Ram', 'age': 37}\n",
            "new_dict: {'name': 'Ram', 'age': 37}\n",
            "\n",
            "\n",
            "demonstrating mutability in sets\n",
            "my_set: {1, 2, 3, 4}\n",
            "new_set: {1, 2, 3, 4}\n",
            "\n",
            "\n",
            "demonstrating immutability in tuples\n",
            "'tuple' object does not support item assignment\n"
          ]
        }
      ]
    },
    {
      "cell_type": "code",
      "source": [
        "#8. Write a program to demonstrate the use of logical operators\n",
        "\n",
        "# Example: Logical Operators (AND, OR, NOT) with generic variables\n",
        "a, b, c = True, False, True\n",
        "\n",
        "# AND: Both conditions must be True\n",
        "if a and c:\n",
        "    print(\"Both a and c are True (AND condition).\")\n",
        "\n",
        "# OR: At least one condition must be True\n",
        "if b or c:\n",
        "    print(\"Either b or c is True (OR condition).\")\n",
        "\n",
        "# NOT: Reverses the condition\n",
        "if not b:\n",
        "    print(\"b is False (NOT condition).\")"
      ],
      "metadata": {
        "colab": {
          "base_uri": "https://localhost:8080/"
        },
        "id": "uJHkT-wFS6IC",
        "outputId": "7bf791ee-680a-4673-aa42-5a45f23a24e4"
      },
      "execution_count": 51,
      "outputs": [
        {
          "output_type": "stream",
          "name": "stdout",
          "text": [
            "Both a and c are True (AND condition).\n",
            "Either b or c is True (OR condition).\n",
            "b is False (NOT condition).\n"
          ]
        }
      ]
    },
    {
      "cell_type": "code",
      "source": [
        "#9. Write a Python program to convert user input from string to integer, float, and boolean types\n",
        "\n",
        "prompt=str(input(\"enter input\"))\n",
        "print(f\"type of prompt initially is {type(prompt)}\\nand value is {prompt}\")\n",
        "\n",
        "prompt=int(prompt)\n",
        "print(f\"\\ntype of prompt, upon explicit type casting to integer, is {type(prompt)}\\nand value is {prompt}\")\n",
        "\n",
        "prompt=float(prompt)\n",
        "print(f\"\\ntype of prompt, upon explicit type casting to float, is {type(prompt)}\\nand value is {prompt}\")\n",
        "\n",
        "prompt=bool(prompt)\n",
        "print(f\"\\ntype of prompt, upon explicit type casting to boolean, is {type(prompt)}\\nand value is {prompt}\")\n"
      ],
      "metadata": {
        "colab": {
          "base_uri": "https://localhost:8080/"
        },
        "id": "NkmnFAb2UwJ8",
        "outputId": "8a9fad4d-3711-4cfb-e9ba-b0ad6d24a545"
      },
      "execution_count": 54,
      "outputs": [
        {
          "output_type": "stream",
          "name": "stdout",
          "text": [
            "enter input25\n",
            "type of prompt initially is <class 'str'>\n",
            "and value is 25\n",
            "\n",
            "type of prompt, upon explicit type casting to integer, is <class 'int'>\n",
            "and value is 25\n",
            "\n",
            "type of prompt, upon explicit type casting to float, is <class 'float'>\n",
            "and value is 25.0\n",
            "\n",
            "type of prompt, upon explicit type casting to boolean, is <class 'bool'>\n",
            "and value is True\n"
          ]
        }
      ]
    },
    {
      "cell_type": "code",
      "source": [
        "#10. Write code to demonstrate type casting with list elements\n",
        "\n",
        "# helper function to type cast list\n",
        "def cast_list(test_list, data_type):\n",
        "    return list(map(data_type, test_list))\n",
        "\n",
        "# initialize list\n",
        "test_list = [1, 4, 9, 10, 19]\n",
        "\n",
        "# printing original list\n",
        "print(f\"The original list is :{test_list}\")\n",
        "\n",
        "# Type casting whole List\n",
        "res_list = cast_list(test_list, str)\n",
        "# printing result\n",
        "print(f\"The List after type casting is : {res_list}\")"
      ],
      "metadata": {
        "colab": {
          "base_uri": "https://localhost:8080/"
        },
        "id": "h5ergu3RWFN6",
        "outputId": "16321bf1-9b12-4f1c-8eeb-fd66591e6bfa"
      },
      "execution_count": 59,
      "outputs": [
        {
          "output_type": "stream",
          "name": "stdout",
          "text": [
            "The original list is :[1, 4, 9, 10, 19]\n",
            "The List after type casting is : ['1', '4', '9', '10', '19']\n"
          ]
        }
      ]
    },
    {
      "cell_type": "code",
      "source": [
        "#11. Write a program that checks if a number is positive, negative, or zero\n",
        "\n",
        "inp=int(input(\"enter a number: \"))\n",
        "if inp>0:\n",
        "  print(f\"{inp} is a positive number\")\n",
        "elif inp<0:\n",
        "  print(f\"{inp} is a negative number\")\n",
        "else:\n",
        "  print(f\"{inp} is zero\")"
      ],
      "metadata": {
        "colab": {
          "base_uri": "https://localhost:8080/"
        },
        "id": "z65-4OL8YM9n",
        "outputId": "7d78f601-38e5-4402-e5f4-d5f299796ddd"
      },
      "execution_count": 60,
      "outputs": [
        {
          "output_type": "stream",
          "name": "stdout",
          "text": [
            "enter a number: -5\n",
            "-5 is a negative number\n"
          ]
        }
      ]
    },
    {
      "cell_type": "code",
      "source": [
        "#12. Write a for loop to print numbers from 1 to 10\n",
        "\n",
        "for i in range(1, 11):\n",
        "  print(f\"{i}\",end=\" \")"
      ],
      "metadata": {
        "colab": {
          "base_uri": "https://localhost:8080/"
        },
        "id": "1vcCw1tbYwvs",
        "outputId": "8bd781a5-e262-4a1c-dfb7-e54148e93dba"
      },
      "execution_count": 68,
      "outputs": [
        {
          "output_type": "stream",
          "name": "stdout",
          "text": [
            "1 2 3 4 5 6 7 8 9 10 "
          ]
        }
      ]
    },
    {
      "cell_type": "code",
      "source": [
        "#13. Write a Python program to find the sum of all even numbers between 1 and 50\n",
        "even_num=[]\n",
        "for i in range(2,50):\n",
        "  if i%2==0:\n",
        "    even_num.append(i)\n",
        "print(f\"even numbers between 1 and 50 are: {even_num}\")\n",
        "print(f\"sum of all even numbers between 1 and 50 is {sum(even_num)}\")\n"
      ],
      "metadata": {
        "colab": {
          "base_uri": "https://localhost:8080/"
        },
        "id": "zHZmd-SdZDBg",
        "outputId": "592c18cf-aa06-4eb8-a5ab-1c330645599a"
      },
      "execution_count": 70,
      "outputs": [
        {
          "output_type": "stream",
          "name": "stdout",
          "text": [
            "even numbers between 1 and 50 are: [2, 4, 6, 8, 10, 12, 14, 16, 18, 20, 22, 24, 26, 28, 30, 32, 34, 36, 38, 40, 42, 44, 46, 48]\n",
            "sum of all even numbers between 1 and 50 is 600\n"
          ]
        }
      ]
    },
    {
      "cell_type": "code",
      "source": [
        "#14. Write a program to reverse a string using a while loop\n",
        "\n",
        "text = 'abcde'\n",
        "length = len(text)\n",
        "text_rev = \"\"\n",
        "while length>0:\n",
        "   text_rev += text[length-1]\n",
        "   length = length-1\n",
        "\n",
        "print(f\"original text is: {text}\")\n",
        "print(f\"reversed text is: {text_rev}\")"
      ],
      "metadata": {
        "colab": {
          "base_uri": "https://localhost:8080/"
        },
        "id": "Ti9Yv8JJa7qg",
        "outputId": "c41812d9-9f24-46d3-b2cc-2c5a976fce8f"
      },
      "execution_count": 72,
      "outputs": [
        {
          "output_type": "stream",
          "name": "stdout",
          "text": [
            "original text is: abcde\n",
            "reversed text is: edcba\n"
          ]
        }
      ]
    },
    {
      "cell_type": "code",
      "source": [
        "#15. Write a Python program to calculate the factorial of a number provided by the user using a while loop.\n",
        "\n",
        "num = int(input(\"Enter a number: \"))\n",
        "factorial=1\n",
        "i=num\n",
        "while i>0:\n",
        "  factorial=factorial*i\n",
        "  i=i-1\n",
        "print(f\"factorial of {num} is {factorial}\")\n",
        "\n"
      ],
      "metadata": {
        "colab": {
          "base_uri": "https://localhost:8080/"
        },
        "id": "R_8f0TyqcNNz",
        "outputId": "ddcc6bc5-2994-4145-eef6-55e7c9a3b53c"
      },
      "execution_count": 74,
      "outputs": [
        {
          "output_type": "stream",
          "name": "stdout",
          "text": [
            "Enter a number: 5\n",
            "factorial of 5 is 120\n"
          ]
        }
      ]
    },
    {
      "cell_type": "code",
      "source": [],
      "metadata": {
        "id": "P1-s3NPTdhhE"
      },
      "execution_count": null,
      "outputs": []
    }
  ]
}