{
  "nbformat": 4,
  "nbformat_minor": 0,
  "metadata": {
    "colab": {
      "provenance": []
    },
    "kernelspec": {
      "name": "python3",
      "display_name": "Python 3"
    },
    "language_info": {
      "name": "python"
    }
  },
  "cells": [
    {
      "cell_type": "code",
      "execution_count": 1,
      "metadata": {
        "colab": {
          "base_uri": "https://localhost:8080/",
          "height": 52
        },
        "id": "6CssngzVVLUA",
        "outputId": "d8e31436-b251-45e8-c9c0-f7dbe1e0353b"
      },
      "outputs": [
        {
          "output_type": "execute_result",
          "data": {
            "text/plain": [
              "'\\nData structures are the fundamental constructs around which you build your programs. Each data structure provides a particular way of organizing data so it can be accessed efficiently, \\ndepending on your use case. Python ships with an extensive set of data structures in its standard library.\\nThe basic Python data structures in Python include list, set, tuples, and dictionary. \\n'"
            ],
            "application/vnd.google.colaboratory.intrinsic+json": {
              "type": "string"
            }
          },
          "metadata": {},
          "execution_count": 1
        }
      ],
      "source": [
        "#1. What are data structures, and why are they important?\n",
        "\n",
        "'''\n",
        "Data structures are the fundamental constructs around which you build your programs. Each data structure provides a particular way of organizing data so it can be accessed efficiently,\n",
        "depending on your use case. Python ships with an extensive set of data structures in its standard library.\n",
        "The basic Python data structures in Python include list, set, tuples, and dictionary.\n",
        "'''"
      ]
    },
    {
      "cell_type": "code",
      "source": [
        "#2. Explain the difference between mutable and immutable data types with examples\n",
        "\n",
        "'''\n",
        "In Python, the difference between mutable and immutable data types is whether the values of the data can be changed after they are created:\n",
        "\n",
        "Mutable data types\n",
        "Values can be changed after creation. Examples include lists, dictionaries, and sets.\n",
        "\n",
        "Immutable data types\n",
        "Values cannot be changed after creation. Examples include strings and tuples.\n",
        "'''"
      ],
      "metadata": {
        "colab": {
          "base_uri": "https://localhost:8080/",
          "height": 52
        },
        "id": "-vunFvchWX4j",
        "outputId": "fb57ef9e-a9b9-4d5d-baee-818cf34e99a4"
      },
      "execution_count": 2,
      "outputs": [
        {
          "output_type": "execute_result",
          "data": {
            "text/plain": [
              "'\\nIn Python, the difference between mutable and immutable data types is whether the values of the data can be changed after they are created:\\n\\nMutable data types\\nValues can be changed after creation. Examples include lists, dictionaries, and sets.\\n\\nImmutable data types\\nValues cannot be changed after creation. Examples include strings and tuples.\\n'"
            ],
            "application/vnd.google.colaboratory.intrinsic+json": {
              "type": "string"
            }
          },
          "metadata": {},
          "execution_count": 2
        }
      ]
    },
    {
      "cell_type": "code",
      "source": [
        "#3. What are the main differences between lists and tuples in Python4\n",
        "'''\n",
        "Lists and tuples are both fundamental data structures in Python, but they have key differences that determine their use cases:\n",
        "\n",
        "Mutability:\n",
        "Lists:\n",
        "Mutable, meaning their elements can be modified, added, or removed after creation.\n",
        "Tuples:\n",
        "Immutable, meaning their elements cannot be changed once the tuple is created.\n",
        "\n",
        "Syntax:\n",
        "Lists: Defined using square brackets [].\n",
        "Tuples: Defined using parentheses ().\n",
        "\n",
        "Performance:\n",
        "Lists: Generally slower than tuples due to their mutable nature.\n",
        "Tuples: Generally faster than lists because they are immutable and can be optimized by Python.\n",
        "\n",
        "Use Cases:\n",
        "Lists:\n",
        "Ideal for storing collections of data that may need modification, such as a list of student names.\n",
        "Tuples:\n",
        "Suitable for storing data that shouldn't change, such as coordinates or database records.\n",
        "\n",
        "Methods:\n",
        "Lists:\n",
        "Have a wider range of methods for modification, including append(), insert(), remove(), and pop().\n",
        "Tuples:\n",
        "Have fewer methods, focusing on accessing elements and information like count() and index().\n",
        "'''"
      ],
      "metadata": {
        "colab": {
          "base_uri": "https://localhost:8080/",
          "height": 104
        },
        "id": "GKDsGDsYXB8N",
        "outputId": "78f69db4-f10f-4c76-d958-f6892441e06a"
      },
      "execution_count": 3,
      "outputs": [
        {
          "output_type": "execute_result",
          "data": {
            "text/plain": [
              "\"\\nLists and tuples are both fundamental data structures in Python, but they have key differences that determine their use cases:\\n\\nMutability:\\nLists:\\nMutable, meaning their elements can be modified, added, or removed after creation.\\nTuples:\\nImmutable, meaning their elements cannot be changed once the tuple is created.\\n\\nSyntax:\\nLists: Defined using square brackets [].\\nTuples: Defined using parentheses ().\\n\\nPerformance:\\nLists: Generally slower than tuples due to their mutable nature.\\nTuples: Generally faster than lists because they are immutable and can be optimized by Python.\\n\\nUse Cases:\\nLists:\\nIdeal for storing collections of data that may need modification, such as a list of student names.\\nTuples:\\nSuitable for storing data that shouldn't change, such as coordinates or database records.\\n\\nMethods:\\nLists:\\nHave a wider range of methods for modification, including append(), insert(), remove(), and pop().\\nTuples:\\nHave fewer methods, focusing on accessing elements and information like count() and index().\\n\""
            ],
            "application/vnd.google.colaboratory.intrinsic+json": {
              "type": "string"
            }
          },
          "metadata": {},
          "execution_count": 3
        }
      ]
    },
    {
      "cell_type": "code",
      "source": [
        "#4. Describe how dictionaries store data\n",
        "\n",
        "'''\n",
        "Dictionaries in Python store data as key-value pairs.\n",
        "\n",
        "Key aspects of this storage:\n",
        "\n",
        "Keys:\n",
        "Unique identifiers used to access the corresponding values. Keys must be immutable (e.g., strings, numbers, tuples).\n",
        "\n",
        "Values:\n",
        "The data associated with a given key. Values can be of any data type, including other dictionaries.\n",
        "'''"
      ],
      "metadata": {
        "colab": {
          "base_uri": "https://localhost:8080/",
          "height": 52
        },
        "id": "gP0TM_5oXxJg",
        "outputId": "0984eb20-7176-4c8c-9867-676a989fae92"
      },
      "execution_count": 4,
      "outputs": [
        {
          "output_type": "execute_result",
          "data": {
            "text/plain": [
              "'\\nDictionaries in Python store data as key-value pairs.\\n\\nKey aspects of this storage:\\n\\nKeys:\\nUnique identifiers used to access the corresponding values. Keys must be immutable (e.g., strings, numbers, tuples).\\n\\nValues:\\nThe data associated with a given key. Values can be of any data type, including other dictionaries.\\n'"
            ],
            "application/vnd.google.colaboratory.intrinsic+json": {
              "type": "string"
            }
          },
          "metadata": {},
          "execution_count": 4
        }
      ]
    },
    {
      "cell_type": "code",
      "source": [
        "#5. Why might you use a set instead of a list in Python?\n",
        "'''\n",
        "We would use a set instead of a list in Python when:\n",
        "\n",
        "Uniqueness is important:\n",
        "Sets only store unique elements, so they're ideal for situations where you need to eliminate duplicates.\n",
        "\n",
        "Membership testing is frequent:\n",
        "Checking if an element is in a set is significantly faster than checking if it's in a list, especially for large datasets.\n",
        "\n",
        "Set operations are needed:\n",
        "Sets provide efficient built-in methods for operations like union, intersection, and difference, which are useful for tasks like finding common elements or differences between collections.\n",
        "\n",
        "Examples of when to use sets:\n",
        "Storing a list of unique usernames, Finding the common elements between two lists, and Removing duplicates from a list.\n",
        "'''"
      ],
      "metadata": {
        "colab": {
          "base_uri": "https://localhost:8080/",
          "height": 87
        },
        "id": "QA1Hva-JYQuE",
        "outputId": "fb2c2b9c-01d4-4883-e90f-99e28f2e6d96"
      },
      "execution_count": 5,
      "outputs": [
        {
          "output_type": "execute_result",
          "data": {
            "text/plain": [
              "\"\\nWe would use a set instead of a list in Python when:\\n\\nUniqueness is important:\\nSets only store unique elements, so they're ideal for situations where you need to eliminate duplicates.\\n\\nMembership testing is frequent:\\nChecking if an element is in a set is significantly faster than checking if it's in a list, especially for large datasets.\\n\\nSet operations are needed:\\nSets provide efficient built-in methods for operations like union, intersection, and difference, which are useful for tasks like finding common elements or differences between collections.\\n\\nExamples of when to use sets:\\nStoring a list of unique usernames, Finding the common elements between two lists, and Removing duplicates from a list.\\n\""
            ],
            "application/vnd.google.colaboratory.intrinsic+json": {
              "type": "string"
            }
          },
          "metadata": {},
          "execution_count": 5
        }
      ]
    },
    {
      "cell_type": "code",
      "source": [
        "#6. What is a string in Python, and how is it different from a list?\n",
        "\n",
        "'''\n",
        "A string is a sequence of characters between single or double quotes. A list is a sequence of items, where each item could be anything (an integer, a float, a string, etc).\n",
        "'''"
      ],
      "metadata": {
        "colab": {
          "base_uri": "https://localhost:8080/",
          "height": 35
        },
        "id": "QkQXqhLPY5d8",
        "outputId": "95fb8c0b-126b-47fc-be0c-58b4c1958929"
      },
      "execution_count": 6,
      "outputs": [
        {
          "output_type": "execute_result",
          "data": {
            "text/plain": [
              "'\\nA string is a sequence of characters between single or double quotes. A list is a sequence of items, where each item could be anything (an integer, a float, a string, etc).\\n'"
            ],
            "application/vnd.google.colaboratory.intrinsic+json": {
              "type": "string"
            }
          },
          "metadata": {},
          "execution_count": 6
        }
      ]
    },
    {
      "cell_type": "code",
      "source": [
        "#7. How do tuples ensure data integrity in Python?\n",
        "\n",
        "'''\n",
        "Tuples ensure data integrity in Python through their immutability. This means that once a tuple is created, its elements cannot be modified, added, or removed.\n",
        "\n",
        "Here's how immutability contributes to data integrity:\n",
        "\n",
        "Prevents accidental changes:\n",
        "Since you can't modify tuple elements, you eliminate the risk of accidentally altering data that should remain constant.\n",
        "\n",
        "Reliable data structures:\n",
        "Tuples are ideal for representing fixed collections of data, such as coordinates, database records, or configuration settings, where changes are undesirable.\n",
        "\n",
        "Safe sharing:\n",
        "When passing data around in your program, using tuples ensures that the recipient cannot modify the original data, preventing unintended side effects.\n",
        "\n",
        "Hashable keys:\n",
        "Because they are immutable, tuples can be used as keys in dictionaries, enabling efficient data retrieval based on a composite key.\n",
        "'''"
      ],
      "metadata": {
        "colab": {
          "base_uri": "https://localhost:8080/",
          "height": 104
        },
        "id": "mdBhFCkXb3cB",
        "outputId": "d0fdd3fc-9660-4cb6-aee9-f806b29579d5"
      },
      "execution_count": 7,
      "outputs": [
        {
          "output_type": "execute_result",
          "data": {
            "text/plain": [
              "\"\\nTuples ensure data integrity in Python through their immutability. This means that once a tuple is created, its elements cannot be modified, added, or removed.\\n\\nHere's how immutability contributes to data integrity:\\n\\nPrevents accidental changes:\\nSince you can't modify tuple elements, you eliminate the risk of accidentally altering data that should remain constant.\\n\\nReliable data structures:\\nTuples are ideal for representing fixed collections of data, such as coordinates, database records, or configuration settings, where changes are undesirable.\\n\\nSafe sharing:\\nWhen passing data around in your program, using tuples ensures that the recipient cannot modify the original data, preventing unintended side effects.\\n\\nHashable keys:\\nBecause they are immutable, tuples can be used as keys in dictionaries, enabling efficient data retrieval based on a composite key.\\n\""
            ],
            "application/vnd.google.colaboratory.intrinsic+json": {
              "type": "string"
            }
          },
          "metadata": {},
          "execution_count": 7
        }
      ]
    },
    {
      "cell_type": "code",
      "source": [
        "#8. What is a hash table, and how does it relate to dictionaries in Python?\n",
        "\n",
        "'''\n",
        "A hash table is a data structure that implements an associative array, which maps keys to values. It works by using a hash function to compute an index, also called a hash code, into an array of buckets or slots, from which the desired value can be found.\n",
        "\n",
        "In Python, dictionaries are implemented using hash tables. This means that when you create a dictionary, Python internally uses a hash table to store the key-value pairs.\n",
        "Here is how it works:\n",
        "\n",
        "Hash Function:\n",
        "When you add a key-value pair to a dictionary, Python applies a hash function to the key. This hash function generates a unique integer value that represents the key.\n",
        "\n",
        "Index Calculation:\n",
        "Python uses the hash value to calculate an index in the internal array of the hash table.\n",
        "\n",
        "Storing the Value:\n",
        "The value associated with the key is stored at the calculated index.\n",
        "\n",
        "Retrieval:\n",
        "When you want to access a value using a key, Python applies the same hash function to the key, calculates the index, and retrieves the value from that index.\n",
        "'''"
      ],
      "metadata": {
        "colab": {
          "base_uri": "https://localhost:8080/",
          "height": 104
        },
        "id": "r7Nr2qbucaoq",
        "outputId": "07eda286-0d24-4403-9419-9ee18dd39c5e"
      },
      "execution_count": 8,
      "outputs": [
        {
          "output_type": "execute_result",
          "data": {
            "text/plain": [
              "'\\nA hash table is a data structure that implements an associative array, which maps keys to values. It works by using a hash function to compute an index, also called a hash code, into an array of buckets or slots, from which the desired value can be found.\\n\\nIn Python, dictionaries are implemented using hash tables. This means that when you create a dictionary, Python internally uses a hash table to store the key-value pairs.\\nHere is how it works:\\n\\nHash Function:\\nWhen you add a key-value pair to a dictionary, Python applies a hash function to the key. This hash function generates a unique integer value that represents the key.\\n\\nIndex Calculation:\\nPython uses the hash value to calculate an index in the internal array of the hash table.\\n\\nStoring the Value:\\nThe value associated with the key is stored at the calculated index.\\n\\nRetrieval:\\nWhen you want to access a value using a key, Python applies the same hash function to the key, calculates the index, and retrieves the value from that index.\\n'"
            ],
            "application/vnd.google.colaboratory.intrinsic+json": {
              "type": "string"
            }
          },
          "metadata": {},
          "execution_count": 8
        }
      ]
    },
    {
      "cell_type": "code",
      "source": [
        "#9. Can lists contain different data types in Python?\n",
        "\n",
        "'''\n",
        "Yes, lists in Python can contain different data types. You can mix and match integers, strings, floats, booleans, and even other data structures like dictionaries and lists within a single list.\n",
        "\n",
        "'''\n",
        "my_list = [1, \"hello\", 3.14, True, {\"name\": \"Alice\"}]\n",
        "my_list"
      ],
      "metadata": {
        "colab": {
          "base_uri": "https://localhost:8080/"
        },
        "id": "eYcVi9hYdOrT",
        "outputId": "46de8f68-f4e6-432b-faa0-aeda26fc59eb"
      },
      "execution_count": 9,
      "outputs": [
        {
          "output_type": "execute_result",
          "data": {
            "text/plain": [
              "[1, 'hello', 3.14, True, {'name': 'Alice'}]"
            ]
          },
          "metadata": {},
          "execution_count": 9
        }
      ]
    },
    {
      "cell_type": "code",
      "source": [
        "#10. Explain why strings are immutable in Python?\n",
        "\n",
        "'''\n",
        "Strings in Python are “immutable” which means they can not be changed after they are created. Some other immutable data types are integers, float, boolean, etc.\n",
        "\n",
        "The immutability of Python string is very useful as it helps in hashing, performance optimization, safety, ease of use, etc.\n",
        "'''"
      ],
      "metadata": {
        "colab": {
          "base_uri": "https://localhost:8080/",
          "height": 52
        },
        "id": "nVczb82CdhXI",
        "outputId": "25efdf18-041b-48a9-8d7b-b689b023e6a8"
      },
      "execution_count": 10,
      "outputs": [
        {
          "output_type": "execute_result",
          "data": {
            "text/plain": [
              "'\\nStrings in Python are “immutable” which means they can not be changed after they are created. Some other immutable data types are integers, float, boolean, etc. \\n\\nThe immutability of Python string is very useful as it helps in hashing, performance optimization, safety, ease of use, etc.\\n'"
            ],
            "application/vnd.google.colaboratory.intrinsic+json": {
              "type": "string"
            }
          },
          "metadata": {},
          "execution_count": 10
        }
      ]
    },
    {
      "cell_type": "code",
      "source": [
        "#11. What advantages do dictionaries offer over lists for certain tasks?\n",
        "\n",
        "'''\n",
        "It’s quicker and easier to find a specific element in a dictionary.\n",
        "\n",
        "List is a mutable data structure with an ordered list of elements. A list's elements are any items or values that are contained within it. The definition of a list is a set of values enclosed in square brackets ([]) and separated by commas.\n",
        "Dictionary stores data as key-value pairs. The word \"dictionary\" is enclosed in curly brackets {}, spaced by commas.\n",
        "Due to the above difference between lists and dictionaries getting the elements from the list data structure is more complex when compared to dictionaries.\n",
        "So it is more efficient to use dictionaries for the searching of elements as it can be carried out in a much faster manner.\n",
        "Lists are used when it is important to maintain the order of the elements and dealing with data that may get changed in the future.\n",
        "'''"
      ],
      "metadata": {
        "colab": {
          "base_uri": "https://localhost:8080/",
          "height": 104
        },
        "id": "xKJLH6wKeGor",
        "outputId": "abe870eb-f44b-4680-8341-5cd7c53119ee"
      },
      "execution_count": 11,
      "outputs": [
        {
          "output_type": "execute_result",
          "data": {
            "text/plain": [
              "'\\nIt’s quicker and easier to find a specific element in a dictionary.\\n\\nList is a mutable data structure with an ordered list of elements. A list\\'s elements are any items or values that are contained within it. The definition of a list is a set of values enclosed in square brackets ([]) and separated by commas.\\nDictionary stores data as key-value pairs. The word \"dictionary\" is enclosed in curly brackets {}, spaced by commas.\\nDue to the above difference between lists and dictionaries getting the elements from the list data structure is more complex when compared to dictionaries.\\nSo it is more efficient to use dictionaries for the searching of elements as it can be carried out in a much faster manner.\\nLists are used when it is important to maintain the order of the elements and dealing with data that may get changed in the future.\\n'"
            ],
            "application/vnd.google.colaboratory.intrinsic+json": {
              "type": "string"
            }
          },
          "metadata": {},
          "execution_count": 11
        }
      ]
    },
    {
      "cell_type": "code",
      "source": [
        "#12. Describe a scenario where using a tuple would be preferable over a list?\n",
        "\n",
        "'''\n",
        "Tuples are preferable over lists in several scenarios:\n",
        "\n",
        "1. Immutable Data:\n",
        "When you have data that shouldn't be changed after creation, like constants or configuration settings.\n",
        "\n",
        "2. Dictionary Keys:\n",
        "Tuples can be used as dictionary keys, unlike lists, which are mutable.\n",
        "\n",
        "3. Performance:\n",
        "Tuples are slightly faster and more memory-efficient than lists, especially for large datasets.\n",
        "\n",
        "4. Multiple Return Values:\n",
        "When you need to return multiple values from a function, tuples provide a convenient and efficient way to pack them together.\n",
        "\n",
        "5. Data Integrity:\n",
        "Using tuples ensures that the data remains unchanged, preventing accidental modifications.\n",
        "'''"
      ],
      "metadata": {
        "colab": {
          "base_uri": "https://localhost:8080/",
          "height": 87
        },
        "id": "aHVjuj_qfO2M",
        "outputId": "1b8de830-df01-4a55-924b-03f047c53b4e"
      },
      "execution_count": 12,
      "outputs": [
        {
          "output_type": "execute_result",
          "data": {
            "text/plain": [
              "\"\\nTuples are preferable over lists in several scenarios:\\n\\n1. Immutable Data:\\nWhen you have data that shouldn't be changed after creation, like constants or configuration settings.\\n\\n2. Dictionary Keys:\\nTuples can be used as dictionary keys, unlike lists, which are mutable.\\n\\n3. Performance:\\nTuples are slightly faster and more memory-efficient than lists, especially for large datasets.\\n\\n4. Multiple Return Values:\\nWhen you need to return multiple values from a function, tuples provide a convenient and efficient way to pack them together.\\n\\n5. Data Integrity:\\nUsing tuples ensures that the data remains unchanged, preventing accidental modifications.\\n\""
            ],
            "application/vnd.google.colaboratory.intrinsic+json": {
              "type": "string"
            }
          },
          "metadata": {},
          "execution_count": 12
        }
      ]
    },
    {
      "cell_type": "code",
      "source": [
        "#13. How do sets handle duplicate values in Python?\n",
        "\n",
        "'''\n",
        "Sets in Python are designed to store unique values. This means that they automatically handle duplicate values by simply ignoring them.\n",
        "\n",
        "Adding Duplicates: If you try to add a duplicate value to a set, the set remains unchanged.\n",
        "\n",
        "Creating a Set from a List: Converting a list to a set will automatically remove any duplicate values.\n",
        "'''"
      ],
      "metadata": {
        "colab": {
          "base_uri": "https://localhost:8080/",
          "height": 52
        },
        "id": "Ovkpc0D0gBH6",
        "outputId": "af4f8c61-3ac2-4a48-b8fe-abdae39aad5e"
      },
      "execution_count": 13,
      "outputs": [
        {
          "output_type": "execute_result",
          "data": {
            "text/plain": [
              "'\\nSets in Python are designed to store unique values. This means that they automatically handle duplicate values by simply ignoring them.\\n\\nAdding Duplicates: If you try to add a duplicate value to a set, the set remains unchanged.\\n\\nCreating a Set from a List: Converting a list to a set will automatically remove any duplicate values. \\n'"
            ],
            "application/vnd.google.colaboratory.intrinsic+json": {
              "type": "string"
            }
          },
          "metadata": {},
          "execution_count": 13
        }
      ]
    },
    {
      "cell_type": "code",
      "source": [
        "#14. How does the “in” keyword work differently for lists and dictionaries?\n",
        "\n",
        "'''\n",
        "The in keyword is used to check for membership in both lists and dictionaries, but it behaves differently depending on the data structure:\n",
        "\n",
        "Lists:\n",
        "What it checks: The in keyword checks if a given value exists as an element in the list.\n",
        "How it works: It iterates through the list, comparing each element with the given value.\n",
        "Time complexity: Average time complexity is O(n), where n is the length of the list.\n",
        "\n",
        "Dictionaries:\n",
        "What it checks: The in keyword checks if a given value exists as a key in the dictionary.\n",
        "How it works: It directly accesses the dictionary's hash table to check for the key's existence.\n",
        "Time complexity: Average time complexity is O(1), which is much faster than lists for large datasets.\n",
        "'''"
      ],
      "metadata": {
        "colab": {
          "base_uri": "https://localhost:8080/",
          "height": 87
        },
        "id": "rJLhE6mygYYX",
        "outputId": "d9d7373f-343f-4bb9-c01c-b2ecf483a95d"
      },
      "execution_count": 14,
      "outputs": [
        {
          "output_type": "execute_result",
          "data": {
            "text/plain": [
              "\"\\nThe in keyword is used to check for membership in both lists and dictionaries, but it behaves differently depending on the data structure:\\n\\nLists:\\nWhat it checks: The in keyword checks if a given value exists as an element in the list.\\nHow it works: It iterates through the list, comparing each element with the given value.\\nTime complexity: Average time complexity is O(n), where n is the length of the list. \\n\\nDictionaries:\\nWhat it checks: The in keyword checks if a given value exists as a key in the dictionary.\\nHow it works: It directly accesses the dictionary's hash table to check for the key's existence.\\nTime complexity: Average time complexity is O(1), which is much faster than lists for large datasets.\\n\""
            ],
            "application/vnd.google.colaboratory.intrinsic+json": {
              "type": "string"
            }
          },
          "metadata": {},
          "execution_count": 14
        }
      ]
    },
    {
      "cell_type": "code",
      "source": [
        "#15. Can you modify the elements of a tuple? Explain why or why not?\n",
        "\n",
        "'''\n",
        "In Python, tuples are immutable, meaning that once they are created, their elements cannot be changed, added, or removed.\n",
        "'''"
      ],
      "metadata": {
        "colab": {
          "base_uri": "https://localhost:8080/",
          "height": 35
        },
        "id": "i2pKk6Wng688",
        "outputId": "9701e0a7-9082-48eb-8f67-53d7882e1d28"
      },
      "execution_count": 15,
      "outputs": [
        {
          "output_type": "execute_result",
          "data": {
            "text/plain": [
              "'\\nIn Python, tuples are immutable, meaning that once they are created, their elements cannot be changed, added, or removed.\\n'"
            ],
            "application/vnd.google.colaboratory.intrinsic+json": {
              "type": "string"
            }
          },
          "metadata": {},
          "execution_count": 15
        }
      ]
    },
    {
      "cell_type": "code",
      "source": [
        "#16. What is a nested dictionary, and give an example of its use case?\n",
        "\n",
        "'''\n",
        "In Python, a nested dictionary is a dictionary inside a dictionary. It's a collection of dictionaries into one single dictionary.\n",
        "\n",
        "Here, the nested_dict is a nested dictionary with the dictionary dictA and dictB. They are two dictionary each having own key and value.\n",
        "'''\n",
        "nested_dict = { 'dictA': {'key_1': 'value_1'},\n",
        "                'dictB': {'key_2': 'value_2'}}\n",
        "nested_dict"
      ],
      "metadata": {
        "colab": {
          "base_uri": "https://localhost:8080/"
        },
        "id": "IlSoqf4ZhLqQ",
        "outputId": "1394a8a9-1166-4bee-d2ff-7078e24de7cf"
      },
      "execution_count": 16,
      "outputs": [
        {
          "output_type": "execute_result",
          "data": {
            "text/plain": [
              "{'dictA': {'key_1': 'value_1'}, 'dictB': {'key_2': 'value_2'}}"
            ]
          },
          "metadata": {},
          "execution_count": 16
        }
      ]
    },
    {
      "cell_type": "code",
      "source": [
        "#17.  Describe the time complexity of accessing elements in a dictionary?\n",
        "\n",
        "'''\n",
        "Accessing an element in a Python dictionary has an average time complexity of O(1), which means it takes a constant amount of time regardless of the size of the dictionary.\n",
        "\n",
        "Python dictionaries are implemented using hash tables.\n",
        "Hash tables map keys to their corresponding values using a hash function.\n",
        "Ideally, a good hash function distributes keys evenly, resulting in very few collisions.\n",
        "In the average case, accessing an element involves computing the hash of the key and directly accessing the corresponding value in the hash table, which takes constant time.\n",
        "However, in the worst case:\n",
        "If there are many collisions (i.e., multiple keys hash to the same index), the time complexity can degrade to O(n), where n is the number of elements in the dictionary. This happens because the hash table needs to search through all the elements in the collision bucket to find the correct key.\n",
        "In summary,\n",
        "Average case: O(1) and Worst case: O(n) (rare in practice).\n",
        "'''"
      ],
      "metadata": {
        "colab": {
          "base_uri": "https://localhost:8080/",
          "height": 104
        },
        "id": "G54QNrvLhwtO",
        "outputId": "32d1ddfc-33c8-481d-849a-d28c41fea6ff"
      },
      "execution_count": 17,
      "outputs": [
        {
          "output_type": "execute_result",
          "data": {
            "text/plain": [
              "'\\nAccessing an element in a Python dictionary has an average time complexity of O(1), which means it takes a constant amount of time regardless of the size of the dictionary. \\n\\nPython dictionaries are implemented using hash tables.\\nHash tables map keys to their corresponding values using a hash function.\\nIdeally, a good hash function distributes keys evenly, resulting in very few collisions.\\nIn the average case, accessing an element involves computing the hash of the key and directly accessing the corresponding value in the hash table, which takes constant time.\\nHowever, in the worst case:\\nIf there are many collisions (i.e., multiple keys hash to the same index), the time complexity can degrade to O(n), where n is the number of elements in the dictionary. This happens because the hash table needs to search through all the elements in the collision bucket to find the correct key.\\nIn summary,\\nAverage case: O(1) and Worst case: O(n) (rare in practice).\\n'"
            ],
            "application/vnd.google.colaboratory.intrinsic+json": {
              "type": "string"
            }
          },
          "metadata": {},
          "execution_count": 17
        }
      ]
    },
    {
      "cell_type": "code",
      "source": [
        "#18.  In what situations are lists preferred over dictionaries?\n",
        "\n",
        "'''\n",
        "Lists are preferred over dictionaries in Python in the following situations:\n",
        "\n",
        "When order matters:\n",
        "Lists maintain the order of elements, while dictionaries do not. If you need to preserve the sequence of your data, use a list.\n",
        "\n",
        "When you need to access elements by their index:\n",
        "Lists allow you to access elements using their numerical index, which can be useful for certain operations like slicing and looping.\n",
        "\n",
        "When you need to store duplicate values:\n",
        "Lists can store duplicate elements, whereas dictionaries cannot have duplicate keys.\n",
        "\n",
        "When you are working with homogeneous data:\n",
        "If all your data elements are of the same type, a list might be a simpler and more efficient choice.\n",
        "\n",
        "When performing operations like sorting and reversing:\n",
        "Lists have built-in methods for sorting and reversing elements, which can be more convenient than manipulating dictionaries.\n",
        "\n",
        "Examples of when to use lists:\n",
        "Storing a sequence of numbers or strings\n",
        "Representing a stack or queue\n",
        "Storing a collection of items where order is significant (e.g., a to-do list)\n",
        "'''"
      ],
      "metadata": {
        "colab": {
          "base_uri": "https://localhost:8080/",
          "height": 104
        },
        "id": "4QY5-LmZiUZm",
        "outputId": "1b2fe164-0e76-4029-c57c-c250b784bcaf"
      },
      "execution_count": 18,
      "outputs": [
        {
          "output_type": "execute_result",
          "data": {
            "text/plain": [
              "'\\nLists are preferred over dictionaries in Python in the following situations:\\n\\nWhen order matters:\\nLists maintain the order of elements, while dictionaries do not. If you need to preserve the sequence of your data, use a list.\\n\\nWhen you need to access elements by their index:\\nLists allow you to access elements using their numerical index, which can be useful for certain operations like slicing and looping.\\n\\nWhen you need to store duplicate values:\\nLists can store duplicate elements, whereas dictionaries cannot have duplicate keys.\\n\\nWhen you are working with homogeneous data:\\nIf all your data elements are of the same type, a list might be a simpler and more efficient choice.\\n\\nWhen performing operations like sorting and reversing:\\nLists have built-in methods for sorting and reversing elements, which can be more convenient than manipulating dictionaries.\\n\\nExamples of when to use lists:\\nStoring a sequence of numbers or strings\\nRepresenting a stack or queue\\nStoring a collection of items where order is significant (e.g., a to-do list)\\n'"
            ],
            "application/vnd.google.colaboratory.intrinsic+json": {
              "type": "string"
            }
          },
          "metadata": {},
          "execution_count": 18
        }
      ]
    },
    {
      "cell_type": "code",
      "source": [
        "#19. Why are dictionaries considered unordered, and how does that affect data retrieval?\n",
        "\n",
        "'''\n",
        "python dictionary is unordered. It means that you can’t access the dictionary element based on it’s position value.\n",
        "\n",
        "When we declare a list say, L=[10,20,30,40], then element ‘10’ is at 0th position, element 20 is at 1st position and so on. All element in a list are ordered and the ordering starts from leftmost element in list and moves towards the right. As list element is ordered, so we can access element in a list using their position like L[0] will return a value 10 and L[1] will return a value 20 and so on.\n",
        "\n",
        "For dictionary is not possible to access its element using position as element in dictionary is not ordered. It means that unlike list, position of element in the dictionary does not have a fixed position and we can’t access element of dictionary using D[0] or D[1]. You need to provide ‘key’ to access the corresponding value of the ‘key’.\n",
        "'''"
      ],
      "metadata": {
        "colab": {
          "base_uri": "https://localhost:8080/",
          "height": 104
        },
        "id": "mHp4X70Si7Z7",
        "outputId": "c29e34ad-d578-4ae0-c860-49815e5bf67b"
      },
      "execution_count": 19,
      "outputs": [
        {
          "output_type": "execute_result",
          "data": {
            "text/plain": [
              "'\\npython dictionary is unordered. It means that you can’t access the dictionary element based on it’s position value.\\n\\nWhen we declare a list say, L=[10,20,30,40], then element ‘10’ is at 0th position, element 20 is at 1st position and so on. All element in a list are ordered and the ordering starts from leftmost element in list and moves towards the right. As list element is ordered, so we can access element in a list using their position like L[0] will return a value 10 and L[1] will return a value 20 and so on.\\n\\nFor dictionary is not possible to access its element using position as element in dictionary is not ordered. It means that unlike list, position of element in the dictionary does not have a fixed position and we can’t access element of dictionary using D[0] or D[1]. You need to provide ‘key’ to access the corresponding value of the ‘key’.\\n'"
            ],
            "application/vnd.google.colaboratory.intrinsic+json": {
              "type": "string"
            }
          },
          "metadata": {},
          "execution_count": 19
        }
      ]
    },
    {
      "cell_type": "code",
      "source": [
        "#20. Explain the difference between a list and a dictionary in terms of data retrieval.\n",
        "\n",
        "'''\n",
        "Key Differences Between List and Dictionary in Python. A list is an ordered collection of items, whereas a dictionary is an unordered data collection in a key: value pair.\n",
        "Elements from the list can be accessed using the index, while the elements of the dictionary can be accessed using keys.\n",
        "'''"
      ],
      "metadata": {
        "id": "FIhXPnBqjshC"
      },
      "execution_count": null,
      "outputs": []
    },
    {
      "cell_type": "markdown",
      "source": [
        "#PRACTICAL QUESTIONS"
      ],
      "metadata": {
        "id": "bzMCJ1v0kAhc"
      }
    },
    {
      "cell_type": "code",
      "source": [
        "#1. Write a code to create a string with your name and print it\n",
        "\n",
        "name = input(\"enter your name: \")\n",
        "print(f\"type of name variable is {type(name)}\")\n",
        "print(name)"
      ],
      "metadata": {
        "colab": {
          "base_uri": "https://localhost:8080/"
        },
        "id": "qFxF9NsvkEyp",
        "outputId": "9fc28a37-f68c-4ec1-91bf-aea9382b8b1d"
      },
      "execution_count": 21,
      "outputs": [
        {
          "output_type": "stream",
          "name": "stdout",
          "text": [
            "enter your name: Kalluru Venkata Saroj Reddy\n",
            "type of name variable is <class 'str'>\n",
            "Kalluru Venkata Saroj Reddy\n"
          ]
        }
      ]
    },
    {
      "cell_type": "code",
      "source": [
        "#2. Write a code to find the length of the string \"Hello World\"\n",
        "\n",
        "word = \"Hello World\"\n",
        "print(f\"length of word is {len(word)}\")"
      ],
      "metadata": {
        "colab": {
          "base_uri": "https://localhost:8080/"
        },
        "id": "-mgJLChakXOK",
        "outputId": "7d4a06ff-b4cf-4162-86d5-e93362a10b2c"
      },
      "execution_count": 22,
      "outputs": [
        {
          "output_type": "stream",
          "name": "stdout",
          "text": [
            "length of word is 11\n"
          ]
        }
      ]
    },
    {
      "cell_type": "code",
      "source": [
        "#3.  Write a code to slice the first 3 characters from the string \"Python Programming\"\n",
        "\n",
        "word = \"Python Programming\"\n",
        "print(word[0:3])"
      ],
      "metadata": {
        "colab": {
          "base_uri": "https://localhost:8080/"
        },
        "id": "vbHxzJZ_k2Jr",
        "outputId": "03c33dc4-9e98-4949-d435-99a1d4ff86e8"
      },
      "execution_count": 23,
      "outputs": [
        {
          "output_type": "stream",
          "name": "stdout",
          "text": [
            "Pyt\n"
          ]
        }
      ]
    },
    {
      "cell_type": "code",
      "source": [
        "#4. Write a code to convert the string \"hello\" to uppercase\n",
        "\n",
        "word = \"hello\"\n",
        "print(word.upper())\n"
      ],
      "metadata": {
        "colab": {
          "base_uri": "https://localhost:8080/"
        },
        "id": "4Etrp5h4lARZ",
        "outputId": "adf766b3-e1f3-4f73-c28d-5ca1c9aa09f9"
      },
      "execution_count": 25,
      "outputs": [
        {
          "output_type": "stream",
          "name": "stdout",
          "text": [
            "HELLO\n"
          ]
        }
      ]
    },
    {
      "cell_type": "code",
      "source": [
        "#5.  Write a code to replace the word \"apple\" with \"orange\" in the string \"I like apple\"\n",
        "\n",
        "word = \"I like apple\"\n",
        "print(word.replace(\"apple\",\"orange\"))"
      ],
      "metadata": {
        "colab": {
          "base_uri": "https://localhost:8080/"
        },
        "id": "rkS6qLdylF_J",
        "outputId": "99426909-b9f5-4164-96f5-6c22d868ea57"
      },
      "execution_count": 26,
      "outputs": [
        {
          "output_type": "stream",
          "name": "stdout",
          "text": [
            "I like orange\n"
          ]
        }
      ]
    },
    {
      "cell_type": "code",
      "source": [
        "#6. Write a code to create a list with numbers 1 to 5 and print it\n",
        "\n",
        "numbers=[]\n",
        "for i in range(5):\n",
        "  numbers.append(i+1)\n",
        "print(f'list with numbers 1 to 5 is {numbers}')\n"
      ],
      "metadata": {
        "colab": {
          "base_uri": "https://localhost:8080/"
        },
        "id": "yYIvbCmblObl",
        "outputId": "52736790-bc37-4102-f1d2-649b1ebb221b"
      },
      "execution_count": 28,
      "outputs": [
        {
          "output_type": "stream",
          "name": "stdout",
          "text": [
            "list with numbers 1 to 5 is [1, 2, 3, 4, 5]\n"
          ]
        }
      ]
    },
    {
      "cell_type": "code",
      "source": [
        "#7. Write a code to append the number 10 to the list [1, 2, 3, 4]\n",
        "\n",
        "numbers = [1,2,3,4]\n",
        "numbers.append(10)\n",
        "print(numbers)"
      ],
      "metadata": {
        "colab": {
          "base_uri": "https://localhost:8080/"
        },
        "id": "ihoEuaU4lxrG",
        "outputId": "fa579d4a-0bef-4564-c008-7e7309a5d104"
      },
      "execution_count": 29,
      "outputs": [
        {
          "output_type": "stream",
          "name": "stdout",
          "text": [
            "[1, 2, 3, 4, 10]\n"
          ]
        }
      ]
    },
    {
      "cell_type": "code",
      "source": [
        "#8.  Write a code to remove the number 3 from the list [1, 2, 3, 4, 5]\n",
        "\n",
        "numbers = [1,2,3,4,5]\n",
        "numbers.remove(3)\n",
        "print(numbers)"
      ],
      "metadata": {
        "colab": {
          "base_uri": "https://localhost:8080/"
        },
        "id": "3OBtVDCll-2F",
        "outputId": "fd022401-2fde-40b2-ba8e-4e59a2c2a568"
      },
      "execution_count": 30,
      "outputs": [
        {
          "output_type": "stream",
          "name": "stdout",
          "text": [
            "[1, 2, 4, 5]\n"
          ]
        }
      ]
    },
    {
      "cell_type": "code",
      "source": [
        "#9.  Write a code to access the second element in the list ['a', 'b', 'c', 'd']\n",
        "\n",
        "word = ['a', 'b', 'c', 'd']\n",
        "print(word[1])"
      ],
      "metadata": {
        "colab": {
          "base_uri": "https://localhost:8080/"
        },
        "id": "qiWeQWthmGB2",
        "outputId": "48fa66b6-10ca-423c-f03a-2642232d3037"
      },
      "execution_count": 31,
      "outputs": [
        {
          "output_type": "stream",
          "name": "stdout",
          "text": [
            "b\n"
          ]
        }
      ]
    },
    {
      "cell_type": "code",
      "source": [
        "#10. Write a code to reverse the list [10, 20, 30, 40, 50]\n",
        "\n",
        "numbers = [10, 20, 30, 40, 50]\n",
        "numbers = numbers[::-1]\n",
        "print(numbers)"
      ],
      "metadata": {
        "colab": {
          "base_uri": "https://localhost:8080/"
        },
        "id": "P-h9knQ5mOmY",
        "outputId": "58aaeaea-4899-45de-b53a-d69981887956"
      },
      "execution_count": 32,
      "outputs": [
        {
          "output_type": "stream",
          "name": "stdout",
          "text": [
            "[50, 40, 30, 20, 10]\n"
          ]
        }
      ]
    },
    {
      "cell_type": "code",
      "source": [
        "#11. Write a code to create a tuple with the elements 10, 20, 30 and print it.\n",
        "\n",
        "numbers = (10,20,30)\n",
        "print(numbers)"
      ],
      "metadata": {
        "colab": {
          "base_uri": "https://localhost:8080/"
        },
        "id": "8-A9bvNvmcZp",
        "outputId": "df4fb2ba-55c1-49aa-a189-b124375b7444"
      },
      "execution_count": 33,
      "outputs": [
        {
          "output_type": "stream",
          "name": "stdout",
          "text": [
            "(10, 20, 30)\n"
          ]
        }
      ]
    },
    {
      "cell_type": "code",
      "source": [
        " #12. Write a code to access the first element of the tuple ('apple', 'banana', 'cherry')\n",
        "\n",
        " t1 = ('apple', 'banana', 'cherry')\n",
        " print(t1[0])\n",
        "\n"
      ],
      "metadata": {
        "colab": {
          "base_uri": "https://localhost:8080/"
        },
        "id": "f9_fLVj5mkNl",
        "outputId": "9ec38c99-e452-48d5-9be4-ba393a7bb97a"
      },
      "execution_count": 34,
      "outputs": [
        {
          "output_type": "stream",
          "name": "stdout",
          "text": [
            "apple\n"
          ]
        }
      ]
    },
    {
      "cell_type": "code",
      "source": [
        "#13. Write a code to count how many times the number 2 appears in the tuple (1, 2, 3, 2, 4, 2).\n",
        "\n",
        "t1=(1, 2, 3, 2, 4, 2)\n",
        "print(f\"2 appeared {t1.count(2)} times\")"
      ],
      "metadata": {
        "colab": {
          "base_uri": "https://localhost:8080/"
        },
        "id": "Y1dw1Ovnmvus",
        "outputId": "b606224e-a120-49a6-f2bc-6b42d5b42d0e"
      },
      "execution_count": 36,
      "outputs": [
        {
          "output_type": "stream",
          "name": "stdout",
          "text": [
            "2 appeared 3 times\n"
          ]
        }
      ]
    },
    {
      "cell_type": "code",
      "source": [
        "#14. Write a code to find the index of the element \"cat\" in the tuple ('dog', 'cat', 'rabbit').\n",
        "\n",
        "t1 = ('dog', 'cat', 'rabbit')\n",
        "print(f\"index of cat is {t1.index('cat')}\")"
      ],
      "metadata": {
        "colab": {
          "base_uri": "https://localhost:8080/"
        },
        "id": "RWbEtoGNm8P3",
        "outputId": "e96b449b-663e-4176-f277-240167bc68f2"
      },
      "execution_count": 38,
      "outputs": [
        {
          "output_type": "stream",
          "name": "stdout",
          "text": [
            "index of cat is 1\n"
          ]
        }
      ]
    },
    {
      "cell_type": "code",
      "source": [
        "#15. Write a code to check if the element \"banana\" is in the tuple ('apple', 'orange', 'banana').\n",
        "\n",
        "t1 = ('apple', 'orange', 'banana')\n",
        "if \"banana\" in t1:\n",
        "  print(\"banana is in the tuple\")\n",
        "else:\n",
        "  print(\"banana is not in the tuple\")"
      ],
      "metadata": {
        "colab": {
          "base_uri": "https://localhost:8080/"
        },
        "id": "WKKrdKPYnMCk",
        "outputId": "d5acdd7a-088a-4496-d86a-156069df8bad"
      },
      "execution_count": 39,
      "outputs": [
        {
          "output_type": "stream",
          "name": "stdout",
          "text": [
            "banana is in the tuple\n"
          ]
        }
      ]
    },
    {
      "cell_type": "code",
      "source": [
        "#16.  Write a code to create a set with the elements 1, 2, 3, 4, 5 and print it\n",
        "\n",
        "s1 = {1,2,3,4,5}\n",
        "print(s1)"
      ],
      "metadata": {
        "colab": {
          "base_uri": "https://localhost:8080/"
        },
        "id": "nQIUeowbnYx2",
        "outputId": "3ff5d3de-3458-4f37-ac59-10a4216bcbb7"
      },
      "execution_count": 40,
      "outputs": [
        {
          "output_type": "stream",
          "name": "stdout",
          "text": [
            "{1, 2, 3, 4, 5}\n"
          ]
        }
      ]
    },
    {
      "cell_type": "code",
      "source": [
        "#17. Write a code to add the element 6 to the set {1, 2, 3, 4}.\n",
        "\n",
        "s1 = {1,2,3,4}\n",
        "s1.add(6)\n",
        "s1"
      ],
      "metadata": {
        "colab": {
          "base_uri": "https://localhost:8080/"
        },
        "id": "9-4pk8yrni4R",
        "outputId": "18f09345-bf45-4c99-9f61-b7423431ee67"
      },
      "execution_count": 41,
      "outputs": [
        {
          "output_type": "execute_result",
          "data": {
            "text/plain": [
              "{1, 2, 3, 4, 6}"
            ]
          },
          "metadata": {},
          "execution_count": 41
        }
      ]
    },
    {
      "cell_type": "code",
      "source": [
        "#18. Write a code to create a tuple with the elements 10, 20, 30 and print it.\n",
        "\n",
        "t1 = (10,20,30)\n",
        "print(t1)"
      ],
      "metadata": {
        "colab": {
          "base_uri": "https://localhost:8080/"
        },
        "id": "qtfJRi1Cn0W3",
        "outputId": "6937c9f7-0e1e-42f5-881f-fa49636d0e64"
      },
      "execution_count": 42,
      "outputs": [
        {
          "output_type": "stream",
          "name": "stdout",
          "text": [
            "(10, 20, 30)\n"
          ]
        }
      ]
    },
    {
      "cell_type": "code",
      "source": [
        "#19. Write a code to access the first element of the tuple ('apple', 'banana', 'cherry').\n",
        "\n",
        "t1 = ('apple', 'banana', 'cherry')\n",
        "print(f\"first element of t1 is {t1[0]}\")"
      ],
      "metadata": {
        "colab": {
          "base_uri": "https://localhost:8080/"
        },
        "id": "LiWH2z8hoAU0",
        "outputId": "53eb2c2a-ef45-40f7-a713-db91baf60c9d"
      },
      "execution_count": 44,
      "outputs": [
        {
          "output_type": "stream",
          "name": "stdout",
          "text": [
            "first element of t1 is apple\n"
          ]
        }
      ]
    },
    {
      "cell_type": "code",
      "source": [
        "#20. Write a code to count how many times the number 2 appears in the tuple (1, 2, 3, 2, 4, 2)\n",
        "\n",
        "t1 = (1,2,3,2,4,2)\n",
        "print(f\"2 appeared {t1.count(2)} times\")"
      ],
      "metadata": {
        "colab": {
          "base_uri": "https://localhost:8080/"
        },
        "id": "L0AaKFs8oJxe",
        "outputId": "1e7f787f-9052-44ea-b7fd-d34523035839"
      },
      "execution_count": 45,
      "outputs": [
        {
          "output_type": "stream",
          "name": "stdout",
          "text": [
            "2 appeared 3 times\n"
          ]
        }
      ]
    },
    {
      "cell_type": "code",
      "source": [
        "#21. Write a code to find the index of the element \"cat\" in the tuple ('dog', 'cat', 'rabbit').\n",
        "\n",
        "t1 = ('dog', 'cat', 'rabbit')\n",
        "print(f\"index of cat is {t1.index('cat')}\")"
      ],
      "metadata": {
        "colab": {
          "base_uri": "https://localhost:8080/"
        },
        "id": "JtqRoY5YoYOm",
        "outputId": "dc53e6c2-c3e9-4cd5-8b41-73138bcf2ae3"
      },
      "execution_count": 46,
      "outputs": [
        {
          "output_type": "stream",
          "name": "stdout",
          "text": [
            "index of cat is 1\n"
          ]
        }
      ]
    },
    {
      "cell_type": "code",
      "source": [
        "#22. Write a code to check if the element \"banana\" is in the tuple ('apple', 'orange', 'banana').\n",
        "\n",
        "t1 = ('apple', 'orange', 'banana')\n",
        "if \"banana\" in t1:\n",
        "  print(\"banana is in the tuple\")\n",
        "else:\n",
        "  print(\"banana is not in the tuple\")"
      ],
      "metadata": {
        "colab": {
          "base_uri": "https://localhost:8080/"
        },
        "id": "A4apr7Ibomak",
        "outputId": "c83f529c-af3a-4fb5-ddc2-9481c3204016"
      },
      "execution_count": 47,
      "outputs": [
        {
          "output_type": "stream",
          "name": "stdout",
          "text": [
            "banana is in the tuple\n"
          ]
        }
      ]
    },
    {
      "cell_type": "code",
      "source": [
        "#23. Write a code to create a set with the elements 1, 2, 3, 4, 5 and print it.\n",
        "\n",
        "s1 = {1,2,3,4,5}\n",
        "print(s1)"
      ],
      "metadata": {
        "colab": {
          "base_uri": "https://localhost:8080/"
        },
        "id": "zOVWFUBcosFz",
        "outputId": "0f93092a-0f00-4a98-d550-cb487bced080"
      },
      "execution_count": 48,
      "outputs": [
        {
          "output_type": "stream",
          "name": "stdout",
          "text": [
            "{1, 2, 3, 4, 5}\n"
          ]
        }
      ]
    },
    {
      "cell_type": "code",
      "source": [
        "#24. Write a code to add the element 6 to the set {1, 2, 3, 4}.\n",
        "\n",
        "s1 = {1,2,3,4}\n",
        "s1.add(6)\n",
        "s1\n"
      ],
      "metadata": {
        "colab": {
          "base_uri": "https://localhost:8080/"
        },
        "id": "y8pmzasmo1Ua",
        "outputId": "424ac437-a6c5-4851-84fb-32db79d69a8f"
      },
      "execution_count": 49,
      "outputs": [
        {
          "output_type": "execute_result",
          "data": {
            "text/plain": [
              "{1, 2, 3, 4, 6}"
            ]
          },
          "metadata": {},
          "execution_count": 49
        }
      ]
    }
  ]
}