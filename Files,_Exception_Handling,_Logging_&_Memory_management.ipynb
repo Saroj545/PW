{
  "nbformat": 4,
  "nbformat_minor": 0,
  "metadata": {
    "colab": {
      "provenance": []
    },
    "kernelspec": {
      "name": "python3",
      "display_name": "Python 3"
    },
    "language_info": {
      "name": "python"
    }
  },
  "cells": [
    {
      "cell_type": "code",
      "source": [
        "#1. What is the difference between interpreted and compiled languages?\n",
        "'''\n",
        "The main difference between compiled and interpreted languages is the number of steps required to execute code:\n",
        "\n",
        "Compiled languages\n",
        "Require at least two steps to execute code, including converting the source code into machine code. Compiled\n",
        "programs are faster and more efficient than interpreted programs. However, debugging is more complicated.\n",
        "\n",
        "Interpreted languages\n",
        "Require only one step to execute code, which is interpreting each instruction as the code is run. Interpreted\n",
        "programs are more flexible for modifying and testing code while running. However, interpreted programs are usually\n",
        "less efficient than compiled programs.\n",
        "Here are some examples of compiled and interpreted languages:\n",
        "\n",
        "Compiled languages: C++, Swift, COBOL, PL/I, and Assembler\n",
        "Interpreted languages: Python, JavaScript, and SQL\n",
        "\n",
        "Some languages, like Java, can be both compiled and interpreted.\n",
        "'''"
      ],
      "metadata": {
        "id": "cwc9wfvwIeQ0"
      },
      "execution_count": null,
      "outputs": []
    },
    {
      "cell_type": "code",
      "source": [
        "#2. What is exception handling in Python?\n",
        "'''\n",
        "Exception handling in Python is a mechanism to gracefully handle errors that occur during the execution of a program.\n",
        "It allows you to prevent your program from crashing and instead take appropriate actions, such as displaying an error message, logging the error, or retrying the operation.\n",
        "\n",
        "What are exceptions?\n",
        "Exceptions are events that disrupt the normal flow of a program's execution.\n",
        "\n",
        "They can occur due to various reasons, such as:\n",
        "Invalid input data\n",
        "Division by zero\n",
        "File not found\n",
        "Network errors\n",
        "\n",
        "How to handle exceptions in Python:\n",
        "try-except block: The core construct for exception handling.\n",
        "\n",
        "\n",
        "try:\n",
        "        # Code that might raise an exception\n",
        "except ExceptionType:\n",
        "        # Code to handle the exception\n",
        "else:\n",
        "        # Code to execute if no exception occurred'''"
      ],
      "metadata": {
        "id": "bFpSN7T7IvXZ"
      },
      "execution_count": null,
      "outputs": []
    },
    {
      "cell_type": "code",
      "source": [
        "#3. What is the purpose of the finally block in exception handling?\n",
        "'''\n",
        "finally clause: Optional block to execute regardless of whether an exception occurred or not.\n",
        "\n",
        "try:\n",
        "        # Code that might raise an exception\n",
        "except ExceptionType:\n",
        "        # Code to handle the exception\n",
        "finally:\n",
        "        # Code to execute always\n",
        "'''"
      ],
      "metadata": {
        "id": "K39s2cmPJ3q2"
      },
      "execution_count": null,
      "outputs": []
    },
    {
      "cell_type": "code",
      "source": [
        "#4. What is logging in Python?\n",
        "'''\n",
        "Python logging is a module that allows you to track events that occur while your program is running.\n",
        "You can use logging to record information about errors, warnings, and other events that occur during\n",
        "program execution. And logging is a useful tool for debugging, troubleshooting, and monitoring your program.\n",
        "\n",
        "Loggging levels: NOTSET, DEBUG, INFO, WARNING, ERROR, CRITICAL\n",
        "\n",
        "import logging\n",
        "\n",
        "logging.basicConfig(level=logging.DEBUG)\n",
        "logging.debug('This is a debug message')\n",
        "logging.info('This is an info message')\n",
        "'''"
      ],
      "metadata": {
        "id": "xnOILbPXMAVR"
      },
      "execution_count": null,
      "outputs": []
    },
    {
      "cell_type": "code",
      "source": [
        "#5. What is the significance of the __del__ method in Python?\n",
        "'''\n",
        "In Python, the __del__ method is a special method, also known as a destructor. It is called when an object is about to be destroyed or garbage collected.\n",
        "Significance:\n",
        "Resource Cleanup:\n",
        "The primary purpose of the __del__ method is to perform cleanup operations, like closing files, releasing network connections, or freeing up memory.\n",
        "Finalization:\n",
        "It allows you to execute code that needs to run just before an object is removed from memory.\n",
        "'''\n",
        "class MyFile:\n",
        "    def __init__(self, filename):\n",
        "        self.file = open(filename, 'w')\n",
        "\n",
        "    def write(self, data):\n",
        "        self.file.write(data)\n",
        "\n",
        "    def __del__(self):\n",
        "        self.file.close()\n",
        "        print(\"File closed.\")\n",
        "\n",
        "my_file = MyFile(\"example.txt\")\n",
        "my_file.write(\"Hello, World!\")\n",
        "del my_file  # __del__ is called here"
      ],
      "metadata": {
        "colab": {
          "base_uri": "https://localhost:8080/"
        },
        "id": "vJU7KXqnMBjD",
        "outputId": "9476064a-98a3-4b0b-f410-7a6f1ca84154"
      },
      "execution_count": null,
      "outputs": [
        {
          "output_type": "stream",
          "name": "stdout",
          "text": [
            "File closed.\n"
          ]
        }
      ]
    },
    {
      "cell_type": "code",
      "source": [
        "#6. What is the difference between import and from ... import in Python?\n",
        "'''\n",
        "In Python, both import and from ... import are used to bring external code into your current script.\n",
        "However, they work in slightly different ways:\n",
        "\n",
        "import:\n",
        "Syntax: import module_name\n",
        "Effect: This imports the entire module, making all its functions, classes, and variables available under the namespace of the module itself.\n",
        "Usage: You need to use the module name as a prefix to access its members.\n",
        "'''\n",
        "print(f\"import example\")\n",
        "import math\n",
        "\n",
        "print(math.sqrt(25))\n",
        "\n",
        "'''\n",
        "from ... import:\n",
        "Syntax: from module_name import name1, name2, ...\n",
        "Effect: This imports specific names (functions, classes, variables) from the module directly into your current namespace.\n",
        "Usage: You can use these names directly without the module name prefix.\n",
        "'''\n",
        "print(\"\\n\",f\"from ... import example\")\n",
        "from math import sqrt, pi\n",
        "\n",
        "print(sqrt(25))\n",
        "print(pi)\n"
      ],
      "metadata": {
        "colab": {
          "base_uri": "https://localhost:8080/"
        },
        "id": "2toKhnrtNffE",
        "outputId": "c85111a9-18d6-4dfb-964b-43aa61aea645"
      },
      "execution_count": null,
      "outputs": [
        {
          "output_type": "stream",
          "name": "stdout",
          "text": [
            "import example\n",
            "5.0\n",
            "\n",
            " from ... import example\n",
            "5.0\n",
            "3.141592653589793\n"
          ]
        }
      ]
    },
    {
      "cell_type": "code",
      "source": [
        "#7. How can you handle multiple exceptions in Python?\n",
        "'''\n",
        "In Python, you can handle multiple exceptions in a few ways:\n",
        "1. Using a single except clause with multiple exception types:\n",
        "\n",
        "print(f'single except clause with multiple exception types')\n",
        "try:\n",
        "    # code that might raise exceptions\n",
        "except (ValueError, IndexError, KeyError) as e:\n",
        "    # code to handle the exceptions\n",
        "\n",
        "2. Using multiple except clauses:\n",
        "\n",
        "try:\n",
        "    # code that might raise exceptions\n",
        "except ValueError:\n",
        "    # code to handle ValueError\n",
        "except IndexError:\n",
        "    # code to handle IndexError\n",
        "except KeyError:\n",
        "    # code to handle KeyError\n",
        "\n",
        "3. Using a generic except clause to catch all exceptions:\n",
        "\n",
        "try:\n",
        "    # code that might raise exceptions\n",
        "except Exception as e:\n",
        "    # code to handle any exception"
      ],
      "metadata": {
        "id": "ql4YzubpPcOE"
      },
      "execution_count": null,
      "outputs": []
    },
    {
      "cell_type": "code",
      "source": [
        "#8. What is the purpose of the with statement when handling files in Python?\n",
        "'''\n",
        "The with statement in Python is used to simplify resource management, particularly when working with files.\n",
        "It ensures that resources are properly acquired and released, even if exceptions occur.\n",
        "\n",
        "Here's why you should use with when handling files:\n",
        "1. Automatic File Closing: The with statement automatically closes the file after the indented block of code\n",
        "is executed, even if an error occurs. This prevents resource leaks and ensures that the file is closed properly.\n",
        "\n",
        "2. Exception Handling: If an exception occurs within the with block, the file is still closed automatically.\n",
        "This helps you avoid file corruption and other issues.\n",
        "\n",
        "3. Cleaner Code: The with statement makes your code more concise and readable by eliminating the need for\n",
        "explicit try...finally blocks to close the file.\n",
        "\n",
        "Example:\n",
        "with open('my_file.txt', 'r') as f:\n",
        "    # Do something with the file\n",
        "    contents = f.read()\n",
        "\n",
        "In this example, the with statement opens the file my_file.txt for reading, assigns it to the variable f,\n",
        "and ensures that the file is closed automatically after the indented block of code is executed.\n",
        "'''"
      ],
      "metadata": {
        "id": "nkg8YJMBVA5o"
      },
      "execution_count": null,
      "outputs": []
    },
    {
      "cell_type": "code",
      "source": [
        "#9. What is the difference between multithreading and multiprocessing?\n",
        "'''\n",
        "Multithreading and multiprocessing are both ways to achieve parallel processing, but they differ in how they do it:\n",
        "\n",
        "Multithreading\n",
        "A single process is used to generate multiple threads that run concurrently. Multithreading is good for I/O bound tasks.\n",
        "\n",
        "Multiprocessing\n",
        "Multiple processors are used to run multiple processes in parallel. Multiprocessing is good for CPU bound tasks.\n",
        "\n",
        "Here are some other differences between multithreading and multiprocessing:\n",
        "\n",
        "Resource usage\n",
        "Multithreading is quick to create and requires few resources, while multiprocessing requires more time and resources.\n",
        "\n",
        "Address space\n",
        "Multithreading uses a common address space for all threads, while multiprocessing creates a separate address space for each process.\n",
        "\n",
        "Parallelism vs concurrency\n",
        "Multiprocessing is more similar to parallelism, while multithreading is more similar to concurrency.\n",
        "\n",
        "Core usage\n",
        "Multiprocessing runs tasks on separate cores, while multithreading runs tasks in separate threads within a single core.\n",
        "'''"
      ],
      "metadata": {
        "id": "sPf1IkDzW-Eg"
      },
      "execution_count": null,
      "outputs": []
    },
    {
      "cell_type": "code",
      "source": [
        "#10. What are the advantages of using logging in a program?\n",
        "'''\n",
        "Logging in a program can provide many benefits, including:\n",
        "\n",
        "Debugging: Logging is the primary source of information for debugging unexpected issues.\n",
        "\n",
        "Understanding application behavior: Logging can help you understand how your application behaves.\n",
        "\n",
        "Tracking events: Logging can be used to track events, such as user or process actions.\n",
        "\n",
        "Identifying root cause: Logs can provide a detailed history of what happened leading up to an issue, which can help you identify the root cause more quickly and accurately.\n",
        "\n",
        "Security auditing: Logging can help with security auditing.\n",
        "\n",
        "Compliance and record-keeping: Logging can help with compliance and record-keeping.\n",
        "\n",
        "User behavior analysis: Logging can help with user behavior analysis.\n",
        "\n",
        "Continuous improvement: Logging can help support continuous improvement.\n",
        "\n",
        "Centralized logging: Centralized logging is important for microservices deployed in the cloud.\n",
        "\n",
        "Monitoring applications: Log monitoring can help with monitoring applications, identifying traffic surges, and expediting issue resolution.\n",
        "\n",
        "Setting up alerts: You can set up warnings and automatic actions for typical concerns, such as sluggish response times or high mistake rates.\n",
        "'''"
      ],
      "metadata": {
        "id": "yrkR4IYGYIrw"
      },
      "execution_count": null,
      "outputs": []
    },
    {
      "cell_type": "code",
      "source": [
        "#11.  What is memory management in Python?\n",
        "'''\n",
        "Memory management in Python is the process of allocating and deallocating memory for objects in your program. Thankfully, Python handles most of this automatically, so you don't have to worry about it too much.\n",
        "Here's a breakdown of how it works:\n",
        "\n",
        "Memory Allocation:\n",
        "Private Heap:\n",
        "Python uses a private heap space to store all its objects and data structures. This heap is managed by the Python interpreter and is not directly accessible to the programmer.\n",
        "\n",
        "Dynamic Allocation:\n",
        "Python dynamically allocates memory as needed when you create new objects. You don't need to explicitly allocate or deallocate memory like you would in languages like C or C++.\n",
        "\n",
        "Garbage Collection:\n",
        "Reference Counting:\n",
        "Python keeps track of how many references exist to an object. When the reference count of an object drops to zero, meaning no other objects or variables are referencing it, the memory occupied by that object is automatically freed up.\n",
        "\n",
        "Generational Garbage Collector:\n",
        "In addition to reference counting, Python employs a generational garbage collector to detect and collect objects that are involved in circular references (where objects reference each other, creating a cycle).\n",
        "\n",
        "Benefits of Python's Memory Management:\n",
        "Ease of Use:\n",
        "You don't need to manually manage memory, which simplifies development and reduces the chances of memory leaks.\n",
        "\n",
        "Safety:\n",
        "The garbage collector helps prevent memory leaks, which occur when memory is not deallocated even though it's no longer needed.\n",
        "\n",
        "Efficiency:\n",
        "Python's memory management is optimized for most use cases, but you can still use tools like gc module to fine-tune memory management if needed.\n",
        "\n",
        "Important Points to Keep in Mind:\n",
        "Large Datasets:\n",
        "If you're working with very large datasets, be mindful of your memory usage.\n",
        "\n",
        "Circular References:\n",
        "While Python handles them, circular references can prevent objects from being garbage collected immediately, so be aware of them.\n",
        "\n",
        "Optimizing Memory:\n",
        "If you need to optimize memory usage, you can use techniques like generators, iterators, and data structures optimized for memory efficiency.\n",
        "'''"
      ],
      "metadata": {
        "id": "4cObgwDoZAV0"
      },
      "execution_count": null,
      "outputs": []
    },
    {
      "cell_type": "code",
      "source": [
        "#12. What are the basic steps involved in exception handling in Python?\n",
        "'''\n",
        "Exception handling in Python involves the following basic steps:\n",
        "Try: Enclose the code that might raise an exception within a try block.\n",
        "Except: Define one or more except blocks to handle specific exceptions.\n",
        "Finally (optional): Use a finally block to execute code that must run regardless of whether an exception occurred.\n",
        "'''\n",
        "try:\n",
        "    # Code that might raise an exception\n",
        "    x = 10 / 0\n",
        "except ZeroDivisionError:\n",
        "    # Code to handle the exception\n",
        "    print(\"Division by zero error occurred.\")\n",
        "finally:\n",
        "    # Code that runs regardless of exceptions\n",
        "    print(\"This always runs.\")"
      ],
      "metadata": {
        "colab": {
          "base_uri": "https://localhost:8080/"
        },
        "id": "0dOBuBfAa2et",
        "outputId": "d3b68fe8-b825-4ebb-99d2-0ed9207f0f76"
      },
      "execution_count": null,
      "outputs": [
        {
          "output_type": "stream",
          "name": "stdout",
          "text": [
            "Division by zero error occurred.\n",
            "This always runs.\n"
          ]
        }
      ]
    },
    {
      "cell_type": "code",
      "source": [
        "#13. Why is memory management important in Python?\n",
        "'''\n",
        "Memory management is important in Python for several reasons:\n",
        "\n",
        "Efficient use of resources:\n",
        "Proper memory management ensures that your Python programs use memory efficiently, avoiding unnecessary memory consumption\n",
        "and preventing memory leaks. This is especially crucial when working with large datasets or running memory-intensive applications.\n",
        "\n",
        "Performance optimization:\n",
        "Effective memory management can improve the performance of your Python code. By minimizing memory fragmentation and\n",
        "optimizing memory allocation, you can make your programs run faster and more efficiently.\n",
        "\n",
        "Preventing crashes:\n",
        "Memory leaks, where memory is allocated but never released, can lead to program crashes and instability.\n",
        "By managing memory effectively, you can avoid these issues and ensure your programs run reliably.\n",
        "\n",
        "Simplified development:\n",
        "Python's automatic memory management, through reference counting and garbage collection, frees\n",
        "developers from the burden of manual memory allocation and deallocation, allowing them to focus on writing code and solving problems.\n",
        "\n",
        "Scalability:\n",
        "As your programs grow in complexity, memory management becomes even more critical. Proper memory management\n",
        "ensures that your code can handle larger datasets and more complex operations without running into memory-related issues.\n",
        "'''"
      ],
      "metadata": {
        "id": "vfYiANFSbNYk"
      },
      "execution_count": null,
      "outputs": []
    },
    {
      "cell_type": "code",
      "source": [
        "#14. What is the role of try and except in exception handling?\n",
        "'''\n",
        "In Python, the try and except blocks are used to handle exceptions, or errors, that occur in a program:\n",
        "Try block: Contains code that may raise an exception.\n",
        "Except block: Handles the exception if one occurs.\n",
        "\n",
        "Here's an example of how try and except work:\n",
        "Code: try: print(x) except: print(\"An exception occurred\")\n",
        "\n",
        "Explanation: The try block generates an exception because x is not defined. The except block is then executed, and the program prints \"An exception occurred\".\n",
        "Without the try block, the program would crash and raise an error\n",
        "\n",
        "A try statement can have multiple except clauses to handle different exceptions.\n",
        "The else block executes code when there is no error.\n",
        "The finally block executes code regardless of the result of the try- and except blocks.\n",
        "'''"
      ],
      "metadata": {
        "id": "rp1qZ9fcc-4q"
      },
      "execution_count": null,
      "outputs": []
    },
    {
      "cell_type": "code",
      "source": [
        "#15. How does Python's garbage collection system work?\n",
        "'''\n",
        "Python's garbage collection (GC) is an automated process that manages memory by identifying and removing objects that are no longer in use:\n",
        "\n",
        "Reference counting\n",
        "Keeps track of how many references an object has. When an object is created, its reference count is set to one. When another variable or\n",
        "data structure refers to the same object, its reference count increases.\n",
        "\n",
        "Generational garbage collection\n",
        "Uses an algorithm called mark-and-sweep to identify which objects are reachable and which are not. The GC implementation segregates\n",
        "all container objects into three generations. The GC only triggers a full collection of the oldest generation if the ratio of long-lived_pending to long_lived_total is above a given value.\n",
        "\n",
        "GC works to: Minimize memory leaks, Optimize application performance, Free up unused memory, and Reuse memory slots for new objects.\n",
        "\n",
        "You can tune the GC's behavior by:\n",
        "Changing the frequency of garbage collection\n",
        "Disabling it altogether in certain cases\n",
        "Increasing the threshold to reduce the frequency at which the garbage collector runs\n",
        "You can also use the gc module to access GC operations and statistics.\n",
        "Some best practices for optimizing memory usage include: Avoiding circular references, Optimizing memory usage, Minimizing object mutation, and Using explicit memory management\n",
        "'''"
      ],
      "metadata": {
        "id": "aioI-H_BdrE0"
      },
      "execution_count": null,
      "outputs": []
    },
    {
      "cell_type": "code",
      "source": [
        "#16.  What is the purpose of the else block in exception handling?\n",
        "'''\n",
        "The code enters the else block only if the try clause does not raise an exception.\n",
        "'''"
      ],
      "metadata": {
        "id": "Q15CadCRgNQI"
      },
      "execution_count": null,
      "outputs": []
    },
    {
      "cell_type": "code",
      "source": [
        "#17. What are the common logging levels in Python?\n",
        "'''\n",
        "Python's logging module provides five standard logging levels:\n",
        "DEBUG: Detailed information, typically used for troubleshooting.\n",
        "INFO: Confirmation that things are working as expected.\n",
        "WARNING: An indication that something unexpected happened or indicative of some problem in the near future.\n",
        "ERROR: An error that has occurred, preventing some function from working.\n",
        "CRITICAL: A serious error, indicating that the program itself may be unable to continue running.\n",
        "'''\n"
      ],
      "metadata": {
        "id": "RyK2qWZ-gl7R"
      },
      "execution_count": null,
      "outputs": []
    },
    {
      "cell_type": "code",
      "source": [
        "#18. What is the difference between os.fork() and multiprocessing in Python?\n",
        "'''\n",
        "Both os.fork() and the multiprocessing module in Python are used to create new processes, but they have key differences in their approach and usage:\n",
        "\n",
        "os.fork():\n",
        "Lower-Level:\n",
        "os.fork() is a system call directly exposed by the operating system, providing a more low-level way to create a new process.\n",
        "Copy-on-Write:\n",
        "The child process created by fork() initially shares the same memory space as the parent process. This is achieved through a mechanism called \"copy-on-write,\" where memory pages are only copied when one of the processes modifies them.\n",
        "Platform Dependency:\n",
        "os.fork() is only available on Unix-like systems (e.g., Linux, macOS) and is not supported on Windows.\n",
        "Limited Functionality:\n",
        "os.fork() only creates a new process, and you need to manage inter-process communication (IPC) and synchronization manually if required.\n",
        "\n",
        "multiprocessing Module:\n",
        "Higher-Level:\n",
        "The multiprocessing module provides a higher-level abstraction for creating and managing processes, making it easier to use and more portable across different platforms.\n",
        "Separate Memory Space:\n",
        "Processes created using multiprocessing have their own separate memory space, which means that they cannot directly share data with the parent process. However, the module provides mechanisms for inter-process communication (e.g., pipes, queues, shared memory) to exchange data between processes.\n",
        "Cross-Platform:\n",
        "The multiprocessing module works on all major operating systems, including Windows, macOS, and Linux.\n",
        "More Features:\n",
        "The multiprocessing module offers a rich set of features, including:\n",
        "Pools: Easily manage a group of worker processes to parallelize tasks.\n",
        "Queues: A thread-safe way to pass data between processes.\n",
        "Synchronization Primitives: Locks, semaphores, and other tools to coordinate the execution of processes.\n",
        "Start Methods: Different ways to start new processes, such as fork, spawn, and forkserver, which offer different trade-offs in terms of performance, memory usage, and compatibility.\n",
        "Which one to use?\n",
        "\n",
        "Use os.fork():\n",
        "If you need a very low-level control over the process creation and are working on a Unix-like system, os.fork() can be a good option.\n",
        "\n",
        "Use multiprocessing:\n",
        "For most cases, the multiprocessing module is the recommended choice due to its ease of use, cross-platform compatibility, and rich features.\n",
        "'''"
      ],
      "metadata": {
        "id": "6hVgw8lcg7HP"
      },
      "execution_count": null,
      "outputs": []
    },
    {
      "cell_type": "code",
      "source": [
        "#19. What is the importance of closing a file in Python?\n",
        "'''\n",
        "Closing a file in Python is important for the following reasons:\n",
        "\n",
        "Resource Management:\n",
        "When you open a file, the operating system allocates resources to manage it. If you don't close the file, these resources remain tied up, potentially leading to memory leaks and other issues.\n",
        "\n",
        "Data Integrity:\n",
        "Closing a file ensures that any data written to the file is actually flushed from the buffer and saved to disk. If you don't close the file, some data might be lost.\n",
        "\n",
        "Preventing File Corruption:\n",
        "In some cases, not closing a file can leave it in an inconsistent state, which can lead to data corruption.\n",
        "\n",
        "Concurrency Issues:\n",
        "If multiple processes or threads are accessing the same file, not closing it properly can lead to conflicts and data corruption.\n",
        "Best Practices for Closing Files:\n",
        "Use the with statement: This is the recommended way to open files in Python because it ensures that the file is automatically closed, even if an exception occurs.\n",
        "\n",
        "with open('myfile.txt', 'r') as f:\n",
        "    # Do something with the file\n",
        "\n",
        "Explicitly call the close() method: If you don't use the with statement, you should explicitly call the close() method on the file object when you're done with it.\n",
        "\n",
        "f = open('myfile.txt', 'r')\n",
        "# Do something with the file\n",
        "f.close()\n",
        "'''"
      ],
      "metadata": {
        "id": "9vaPmpUyiSUw"
      },
      "execution_count": null,
      "outputs": []
    },
    {
      "cell_type": "code",
      "source": [
        "#20. What is the difference between file.read() and file.readline() in Python?\n",
        "'''\n",
        "In Python, file.read() and file.readline() are both used to read data from a file, but they differ in how they read the data:\n",
        "\n",
        "file.read():\n",
        "Reads the entire content of the file as a single string.\n",
        "If you provide an optional size argument, it reads up to that many bytes.\n",
        "Useful when you want to process the entire file at once.\n",
        "\n",
        "file.readline():\n",
        "Reads a single line from the file and returns it as a string.\n",
        "The line is read until a newline character (\\n) is encountered.\n",
        "Useful when you want to process the file line by line.\n",
        "\n",
        "'''\n",
        "with open(\"example.txt\", \"r\") as file:\n",
        "    # Read the entire file\n",
        "    content = file.read()\n",
        "    print(f'using file.read:{content}')\n",
        "\n",
        "    # Read the first line\n",
        "    file.seek(0)  # Reset file pointer to the beginning\n",
        "    line = file.readline()\n",
        "    print('\\n',f'using file.readline:{line}')"
      ],
      "metadata": {
        "colab": {
          "base_uri": "https://localhost:8080/"
        },
        "id": "6A1zlzsrjDF-",
        "outputId": "6b8beaf6-e6d9-4835-caf1-029808abd733"
      },
      "execution_count": null,
      "outputs": [
        {
          "output_type": "stream",
          "name": "stdout",
          "text": [
            "using file.read:Hello, World!\n",
            "Hello, World!\n",
            "Hello, World!\n",
            "Hello, World!\n",
            "Hello, World!\n",
            "Hello, World!\n",
            "\n",
            " using file.readline:Hello, World!\n",
            "\n"
          ]
        }
      ]
    },
    {
      "cell_type": "code",
      "source": [
        "#21. What is the logging module in Python used for?\n",
        "'''\n",
        "Python logging is a module that allows you to track events that occur while your program is running.\n",
        "You can use logging to record information about errors, warnings, and other events that occur during\n",
        "program execution. And logging is a useful tool for debugging, troubleshooting, and monitoring your program.\n",
        "'''"
      ],
      "metadata": {
        "id": "zFBFzKumkfW-"
      },
      "execution_count": null,
      "outputs": []
    },
    {
      "cell_type": "code",
      "source": [
        "#22. What is the os module in Python used for in file handling?\n",
        "'''\n",
        "The os module in Python provides a way to interact with the operating system. In the context of file handling, it offers several functions that allow you to:\n",
        "\n",
        "Manipulate File Paths:\n",
        "os.path.join(): Joins one or more path components intelligently.\n",
        "os.path.basename(): Returns the base name of a path.\n",
        "os.path.dirname(): Returns the directory name of a path.\n",
        "os.path.exists(): Checks if a path exists.\n",
        "os.path.isfile(): Checks if a path points to a file.\n",
        "os.path.isdir(): Checks if a path points to a directory.\n",
        "\n",
        "Perform File Operations:\n",
        "os.remove(): Deletes a file.\n",
        "os.rename(): Renames a file.\n",
        "os.mkdir(): Creates a directory.\n",
        "os.rmdir(): Removes an empty directory.\n",
        "os.listdir(): Lists the files and directories in a directory.\n",
        "os.chdir(): Changes the current working directory.\n",
        "\n",
        "Get File Information:\n",
        "os.stat(): Returns file metadata, such as size, modification time, etc.\n",
        "os.access(): Checks file permissions (e.g., read, write, execute).\n",
        "\n",
        "Example:\n",
        "'''\n",
        "import os\n",
        "\n",
        "# Create a new directory\n",
        "os.mkdir(\"my_directory\")\n",
        "\n",
        "# Change to the new directory\n",
        "os.chdir(\"my_directory\")\n",
        "\n",
        "# Create a file and write to it\n",
        "with open(\"my_file.txt\", \"w\") as f:\n",
        "    f.write(\"Hello, world!\")\n",
        "\n",
        "# Get file information\n",
        "file_stats = os.stat(\"my_file.txt\")\n",
        "print(file_stats.st_size)  # File size in bytes"
      ],
      "metadata": {
        "colab": {
          "base_uri": "https://localhost:8080/"
        },
        "id": "xlcWJTgHj375",
        "outputId": "ec43f6bf-1e1e-4b53-e904-835d4844d162"
      },
      "execution_count": null,
      "outputs": [
        {
          "output_type": "stream",
          "name": "stdout",
          "text": [
            "13\n"
          ]
        }
      ]
    },
    {
      "cell_type": "code",
      "source": [
        "#23. What are the challenges associated with memory management in Python?\n",
        "'''\n",
        "Python handles memory management automatically, which is great for developer convenience. However, this can also present some challenges:\n",
        "1. Memory Overhead:\n",
        "Garbage Collection:\n",
        "Python's garbage collector, while efficient, adds some overhead as it tracks and cleans up unused objects. This can impact performance, especially in memory-intensive applications.\n",
        "Reference Counting:\n",
        "Python uses reference counting to manage memory. This means every object keeps track of how many references point to it. While generally fast, it can introduce overhead, particularly for objects with complex reference relationships.\n",
        "\n",
        "2. Memory Leaks:\n",
        "Circular References:\n",
        "When objects reference each other in a circular manner, the reference count never reaches zero, preventing garbage collection. This can lead to memory leaks, where memory is occupied by objects that are no longer in use.\n",
        "Unintentional References:\n",
        "Unintentional references can also cause memory leaks. For example, global variables can hold references to large objects, preventing them from being garbage collected.\n",
        "\n",
        "3. Lack of Fine-grained Control:\n",
        "Manual Memory Management:\n",
        "Unlike languages like C++, Python doesn't provide direct control over memory allocation and deallocation. This can make it challenging to optimize memory usage in certain situations.\n",
        "Fragmentation:\n",
        "Python's memory allocator can lead to memory fragmentation over time, which can impact performance.\n",
        "\n",
        "4. Performance in Large-scale Applications:\n",
        "Large Data Sets: For applications dealing with massive amounts of data, Python's memory management may not be as efficient as lower-level languages. This can necessitate careful optimization or the use of specialized libraries.\n",
        "How to Mitigate These Challenges:\n",
        "\n",
        "Use Memory Profilers:\n",
        "Tools like memory_profiler and tracemalloc can help identify memory leaks and usage patterns.\n",
        "\n",
        "Avoid Circular References:\n",
        "Design your data structures and classes to minimize circular references.\n",
        "\n",
        "Use Weak References:\n",
        "Weak references allow you to refer to objects without increasing their reference count, helping to avoid memory leaks.\n",
        "\n",
        "Optimize Data Structures and Algorithms:\n",
        "Efficient data structures and algorithms can reduce memory usage and improve performance.\n",
        "\n",
        "Consider Alternative Implementations:\n",
        "For extremely memory-sensitive applications, consider using alternative Python implementations like PyPy, which can offer different memory management characteristics.\n",
        "'''"
      ],
      "metadata": {
        "id": "vc2ERZTKmIWC"
      },
      "execution_count": null,
      "outputs": []
    },
    {
      "cell_type": "code",
      "source": [
        "#24.  How do you raise an exception manually in Python?\n",
        "'''\n",
        "To raise an exception manually in Python, you can use the raise statement.\n",
        "This code will raise a ValueError exception if x is less than 0. You can replace ValueError with any other built-in or custom exception type.\n",
        "'''\n",
        "x = -1\n",
        "if x < 0:\n",
        "  raise ValueError(\"Sorry, no numbers below zero\")"
      ],
      "metadata": {
        "colab": {
          "base_uri": "https://localhost:8080/",
          "height": 176
        },
        "id": "b5W6FQNUoD3b",
        "outputId": "c2ef2542-96bc-4543-bb1e-d0ffae5736f6"
      },
      "execution_count": null,
      "outputs": [
        {
          "output_type": "error",
          "ename": "ValueError",
          "evalue": "Sorry, no numbers below zero",
          "traceback": [
            "\u001b[0;31m---------------------------------------------------------------------------\u001b[0m",
            "\u001b[0;31mValueError\u001b[0m                                Traceback (most recent call last)",
            "\u001b[0;32m<ipython-input-13-f1b64f4eda28>\u001b[0m in \u001b[0;36m<cell line: 7>\u001b[0;34m()\u001b[0m\n\u001b[1;32m      6\u001b[0m \u001b[0mx\u001b[0m \u001b[0;34m=\u001b[0m \u001b[0;34m-\u001b[0m\u001b[0;36m1\u001b[0m\u001b[0;34m\u001b[0m\u001b[0;34m\u001b[0m\u001b[0m\n\u001b[1;32m      7\u001b[0m \u001b[0;32mif\u001b[0m \u001b[0mx\u001b[0m \u001b[0;34m<\u001b[0m \u001b[0;36m0\u001b[0m\u001b[0;34m:\u001b[0m\u001b[0;34m\u001b[0m\u001b[0;34m\u001b[0m\u001b[0m\n\u001b[0;32m----> 8\u001b[0;31m   \u001b[0;32mraise\u001b[0m \u001b[0mValueError\u001b[0m\u001b[0;34m(\u001b[0m\u001b[0;34m\"Sorry, no numbers below zero\"\u001b[0m\u001b[0;34m)\u001b[0m\u001b[0;34m\u001b[0m\u001b[0;34m\u001b[0m\u001b[0m\n\u001b[0m",
            "\u001b[0;31mValueError\u001b[0m: Sorry, no numbers below zero"
          ]
        }
      ]
    },
    {
      "cell_type": "code",
      "source": [
        "#25. Why is it important to use multithreading in certain applications?\n",
        "'''\n",
        "Multithreading is important in certain applications because it allows for the concurrent execution of\n",
        "multiple tasks within a single program, effectively utilizing multiple CPU cores to improve overall\n",
        "performance, responsiveness, and resource utilization, especially when dealing with operations that\n",
        "involve waiting for input/output (I/O) like network requests or disk access, preventing the\n",
        "application from becoming unresponsive while waiting for these operations to complete.\n",
        "\n",
        "Key benefits of multithreading:\n",
        "\n",
        "Enhanced performance:\n",
        "By dividing tasks into multiple threads, applications can execute different parts of the code simultaneously on multiple cores,\n",
        "leading to faster overall execution, particularly on systems with multiple processors.\n",
        "\n",
        "Improved responsiveness:\n",
        "While one thread is waiting for an I/O operation, other threads can continue processing, preventing the application from freezing and maintaining a smooth user experience.\n",
        "\n",
        "Better resource utilization:\n",
        "Multithreading allows the CPU to actively work on different tasks even when some operations are blocked, maximizing the available processing power\n",
        "\n",
        "Examples of applications where multithreading is beneficial:\n",
        "Web servers:\n",
        "Handling multiple client requests concurrently by assigning each request to a separate thread.\n",
        "Video players:\n",
        "Decoding video frames while simultaneously rendering them on the screen, ensuring smooth playback.\n",
        "Image processing applications:\n",
        "Performing complex image manipulations like filtering or resizing on different parts of an image simultaneously.\n",
        "Games:\n",
        "Updating game logic, rendering graphics, and handling user input all in parallel for a seamless experience\n",
        "\n",
        "Important considerations when using multithreading:\n",
        "Synchronization:\n",
        "Proper synchronization mechanisms are crucial to manage access to shared data between threads to prevent race conditions and ensure data integrity.\n",
        "Thread management overhead:\n",
        "Creating and managing too many threads can introduce overhead, so it's important to optimize the number of threads based on the specific application and hardware.\n",
        "Complexity:\n",
        "Designing and debugging multithreaded applications can be challenging due to the inherent concurrency issues.\n",
        "'''"
      ],
      "metadata": {
        "id": "-_ChN_8cpHNW"
      },
      "execution_count": null,
      "outputs": []
    },
    {
      "cell_type": "markdown",
      "source": [
        "# PRACTICAL QUESTIONS"
      ],
      "metadata": {
        "id": "pBToaGC9sHlx"
      }
    },
    {
      "cell_type": "code",
      "source": [
        "#1.  How can you open a file for writing in Python and write a string to it?\n",
        "with open(\"example.txt\", \"w\") as file:\n",
        "    file.write(\"Hello, world\")"
      ],
      "metadata": {
        "id": "aFjIeECcsBSA"
      },
      "execution_count": null,
      "outputs": []
    },
    {
      "cell_type": "code",
      "source": [
        "#2.  Write a Python program to read the contents of a file and print each line\n",
        "with open(\"example.txt\", \"r\") as file:\n",
        "    for line in file:\n",
        "        print(line)"
      ],
      "metadata": {
        "colab": {
          "base_uri": "https://localhost:8080/"
        },
        "id": "s_rISGPGuumG",
        "outputId": "6ea8e0d3-cae9-40ad-9976-11b0357a81e0"
      },
      "execution_count": null,
      "outputs": [
        {
          "output_type": "stream",
          "name": "stdout",
          "text": [
            "Hello, world\n"
          ]
        }
      ]
    },
    {
      "cell_type": "code",
      "source": [
        "#3. How would you handle a case where the file doesn't exist while trying to open it for reading?\n",
        "try:\n",
        "    with open(\"nonexistent_file.txt\", \"r\") as file:\n",
        "        content = file.read()\n",
        "except FileNotFoundError:\n",
        "    print(\"The file does not exist.\")\n"
      ],
      "metadata": {
        "colab": {
          "base_uri": "https://localhost:8080/"
        },
        "id": "L5HB6KPgvAWN",
        "outputId": "ea31c53b-2c6f-4b67-916c-c36328815ebb"
      },
      "execution_count": null,
      "outputs": [
        {
          "output_type": "stream",
          "name": "stdout",
          "text": [
            "The file does not exist.\n"
          ]
        }
      ]
    },
    {
      "cell_type": "code",
      "source": [
        "#4. Write a Python script that reads from one file and writes its content to another file\n",
        "with open(\"example.txt\", \"r\") as source_file:\n",
        "    content = source_file.read()\n",
        "\n",
        "with open(\"output.txt\", \"w\") as target_file:\n",
        "    target_file.write(content)"
      ],
      "metadata": {
        "id": "IKiHV9OZwjiH"
      },
      "execution_count": null,
      "outputs": []
    },
    {
      "cell_type": "code",
      "source": [
        "#5.  How would you catch and handle division by zero error in Python?\n",
        "try:\n",
        "    result = 10 / 0\n",
        "except ZeroDivisionError:\n",
        "    print(\"Error: Division by zero\")"
      ],
      "metadata": {
        "colab": {
          "base_uri": "https://localhost:8080/"
        },
        "id": "rnLccI_axDX5",
        "outputId": "5f374b7a-2a16-4fd3-e24f-50f37590d92d"
      },
      "execution_count": null,
      "outputs": [
        {
          "output_type": "stream",
          "name": "stdout",
          "text": [
            "Error: Division by zero\n"
          ]
        }
      ]
    },
    {
      "cell_type": "code",
      "source": [
        "#6. Write a Python program that logs an error message to a log file when a division by zero exception occurs\n",
        "import logging\n",
        "\n",
        "logging.basicConfig(filename='/content/my_directory/e2.log', level=logging.ERROR)\n",
        "\n",
        "try:\n",
        "    result = 10 / 0\n",
        "except ZeroDivisionError:\n",
        "    logging.error(\"Division by zero error occurred\")"
      ],
      "metadata": {
        "colab": {
          "base_uri": "https://localhost:8080/"
        },
        "id": "ls5aOiLQxYxa",
        "outputId": "6cc759fd-edc6-43b7-d0d1-608c643e0936"
      },
      "execution_count": 39,
      "outputs": [
        {
          "output_type": "stream",
          "name": "stderr",
          "text": [
            "ERROR:root:Division by zero error occurred\n"
          ]
        }
      ]
    },
    {
      "cell_type": "code",
      "source": [
        " #7.  How do you log information at different levels (INFO, ERROR, WARNING) in Python using the logging module\n",
        "\n",
        "import logging\n",
        "\n",
        "logging.basicConfig(filename='/content/my_directory/e2.log', level=logging.INFO)\n",
        "\n",
        "logging.info(\"This is an info message\")\n",
        "logging.error(\"This is an error message\")\n",
        "logging.warning(\"This is a warning message\")\n"
      ],
      "metadata": {
        "colab": {
          "base_uri": "https://localhost:8080/"
        },
        "id": "E19iUHBcyCxH",
        "outputId": "e8df5875-1e65-43ec-c020-5c3f7128cd45"
      },
      "execution_count": 45,
      "outputs": [
        {
          "output_type": "stream",
          "name": "stderr",
          "text": [
            "ERROR:root:This is an error message\n",
            "WARNING:root:This is a warning message\n"
          ]
        }
      ]
    },
    {
      "cell_type": "code",
      "source": [
        "#8. Write a program to handle a file opening error using exception handling\n",
        "try:\n",
        "    with open(\"nonexistent_file.txt\", \"r\") as file:\n",
        "        content = file.read()\n",
        "except FileNotFoundError:\n",
        "    print(\"Error: The file does not exist.\")"
      ],
      "metadata": {
        "id": "-nUACexryZtp",
        "colab": {
          "base_uri": "https://localhost:8080/"
        },
        "outputId": "37356979-e315-4973-8658-67ad4bea8cb2"
      },
      "execution_count": 46,
      "outputs": [
        {
          "output_type": "stream",
          "name": "stdout",
          "text": [
            "Error: The file does not exist.\n"
          ]
        }
      ]
    },
    {
      "cell_type": "code",
      "source": [
        "#9.  How can you read a file line by line and store its content in a list in Python\n",
        "with open(\"example.txt\", \"r\") as file:\n",
        "    lines = file.readlines()\n",
        "    for line in lines:\n",
        "        print(line)"
      ],
      "metadata": {
        "colab": {
          "base_uri": "https://localhost:8080/"
        },
        "id": "R7qqoVNK6O-L",
        "outputId": "5c93c621-fc5a-440d-db28-d406dbd62261"
      },
      "execution_count": 47,
      "outputs": [
        {
          "output_type": "stream",
          "name": "stdout",
          "text": [
            "Hello, world\n"
          ]
        }
      ]
    },
    {
      "cell_type": "code",
      "source": [
        "#10. How can you append data to an existing file in Python?\n",
        "with open(\"example.txt\", \"a\") as file:\n",
        "    file.write(\"\\nAppended line\")"
      ],
      "metadata": {
        "id": "-KVwteSa6iTc"
      },
      "execution_count": 48,
      "outputs": []
    },
    {
      "cell_type": "code",
      "source": [
        "#11. Write a Python program that uses a try-except block to handle an error when attempting to access a dictionary key that doesn't exist\n",
        "try:\n",
        "    my_dict = {'a': 1, 'b': 2}\n",
        "    value = my_dict['c']\n",
        "except KeyError:\n",
        "    print(\"Error: Key does not exist in the dictionary.\")"
      ],
      "metadata": {
        "colab": {
          "base_uri": "https://localhost:8080/"
        },
        "id": "FHdHmDmp6vYP",
        "outputId": "d8518be2-233f-46a1-f56a-e3e28ddf1978"
      },
      "execution_count": 49,
      "outputs": [
        {
          "output_type": "stream",
          "name": "stdout",
          "text": [
            "Error: Key does not exist in the dictionary.\n"
          ]
        }
      ]
    },
    {
      "cell_type": "code",
      "source": [
        "#12.  Write a program that demonstrates using multiple except blocks to handle different types of exceptions\n",
        "try:\n",
        "    result = 10 / 0\n",
        "except ZeroDivisionError:\n",
        "    print(\"Error: Division by zero\")\n",
        "except ValueError:\n",
        "    print(\"Error: Invalid value\")"
      ],
      "metadata": {
        "colab": {
          "base_uri": "https://localhost:8080/"
        },
        "id": "kAQnkTOf67oQ",
        "outputId": "6ca9ba08-afac-4891-97f8-1599adb43168"
      },
      "execution_count": 50,
      "outputs": [
        {
          "output_type": "stream",
          "name": "stdout",
          "text": [
            "Error: Division by zero\n"
          ]
        }
      ]
    },
    {
      "cell_type": "code",
      "source": [
        "#13.  How would you check if a file exists before attempting to read it in Python?\n",
        "import os\n",
        "\n",
        "if os.path.exists(\"example.txt\"):\n",
        "    with open(\"example.txt\", \"r\") as file:\n",
        "        content = file.read()\n",
        "        print(content)"
      ],
      "metadata": {
        "colab": {
          "base_uri": "https://localhost:8080/"
        },
        "id": "5jCiRo9V7HU8",
        "outputId": "818e0a38-a5a6-4980-e594-1a006fcecac1"
      },
      "execution_count": 51,
      "outputs": [
        {
          "output_type": "stream",
          "name": "stdout",
          "text": [
            "Hello, world\n",
            "Appended line\n"
          ]
        }
      ]
    },
    {
      "cell_type": "code",
      "source": [
        "#14. Write a program that uses the logging module to log both informational and error messages\n",
        "import logging\n",
        "\n",
        "logging.basicConfig(filename='/content/my_directory/e2.log', level=logging.INFO)\n",
        "\n",
        "logging.info(\"This is an info message\")\n",
        "logging.error(\"This is an error message\")"
      ],
      "metadata": {
        "colab": {
          "base_uri": "https://localhost:8080/"
        },
        "id": "sOBCXdTZ7WWg",
        "outputId": "8cee844e-cdcb-47e7-8f18-007a44579a18"
      },
      "execution_count": 52,
      "outputs": [
        {
          "output_type": "stream",
          "name": "stderr",
          "text": [
            "ERROR:root:This is an error message\n"
          ]
        }
      ]
    },
    {
      "cell_type": "code",
      "source": [
        "#15. Write a Python program that prints the content of a file and handles the case when the file is empty\n",
        "try:\n",
        "    with open(\"example.txt\", \"r\") as file:\n",
        "        content = file.read()\n",
        "        if content:\n",
        "            print(content)\n",
        "        else:\n",
        "            print(\"The file is empty.\")\n",
        "except FileNotFoundError:\n",
        "    print(\"Error: The file does not exist\")"
      ],
      "metadata": {
        "colab": {
          "base_uri": "https://localhost:8080/"
        },
        "id": "v87Y07687pC0",
        "outputId": "5068d261-3cd4-40d7-ddbf-e3e974708fdd"
      },
      "execution_count": 53,
      "outputs": [
        {
          "output_type": "stream",
          "name": "stdout",
          "text": [
            "Hello, world\n",
            "Appended line\n"
          ]
        }
      ]
    },
    {
      "cell_type": "code",
      "source": [
        "#16. Demonstrate how to use memory profiling to check the memory usage of a small program\n",
        "!pip install memory_profiler"
      ],
      "metadata": {
        "colab": {
          "base_uri": "https://localhost:8080/"
        },
        "id": "YnGDjWae8MUA",
        "outputId": "07538517-855d-493b-c72c-96372e09abda"
      },
      "execution_count": 55,
      "outputs": [
        {
          "output_type": "stream",
          "name": "stdout",
          "text": [
            "Requirement already satisfied: memory_profiler in /usr/local/lib/python3.10/dist-packages (0.61.0)\n",
            "Requirement already satisfied: psutil in /usr/local/lib/python3.10/dist-packages (from memory_profiler) (5.9.5)\n"
          ]
        }
      ]
    },
    {
      "cell_type": "code",
      "source": [
        "%%file my_script.py\n",
        "\n",
        "import numpy as np\n",
        "from memory_profiler import profile\n",
        "\n",
        "@profile\n",
        "def create_large_array():\n",
        "    return np.random.rand(1000, 1000)\n",
        "\n",
        "@profile\n",
        "def process_array(arr):\n",
        "    return arr.sum()\n",
        "\n",
        "if __name__ == \"__main__\":\n",
        "    arr = create_large_array()\n",
        "    result = process_array(arr)\n",
        "    print(f'result is:{result}')\n",
        "\n"
      ],
      "metadata": {
        "colab": {
          "base_uri": "https://localhost:8080/"
        },
        "id": "jifxooH_9ot4",
        "outputId": "7037965b-74f7-444f-a111-d2bc4aa591e7"
      },
      "execution_count": 76,
      "outputs": [
        {
          "output_type": "stream",
          "name": "stdout",
          "text": [
            "Overwriting my_script.py\n"
          ]
        }
      ]
    },
    {
      "cell_type": "code",
      "source": [
        "!python -m memory_profiler my_script.py"
      ],
      "metadata": {
        "colab": {
          "base_uri": "https://localhost:8080/"
        },
        "id": "7-sgbl9M915g",
        "outputId": "b10fbdc2-7778-4614-96ba-633da0be6c2e"
      },
      "execution_count": 77,
      "outputs": [
        {
          "output_type": "stream",
          "name": "stdout",
          "text": [
            "Filename: my_script.py\n",
            "\n",
            "Line #    Mem usage    Increment  Occurrences   Line Contents\n",
            "=============================================================\n",
            "     5     52.4 MiB     52.4 MiB           1   @profile\n",
            "     6                                         def create_large_array():\n",
            "     7     60.1 MiB      7.7 MiB           1       return np.random.rand(1000, 1000)\n",
            "\n",
            "\n",
            "Filename: my_script.py\n",
            "\n",
            "Line #    Mem usage    Increment  Occurrences   Line Contents\n",
            "=============================================================\n",
            "     9     60.1 MiB     60.1 MiB           1   @profile\n",
            "    10                                         def process_array(arr):\n",
            "    11     60.1 MiB      0.0 MiB           1       return arr.sum()\n",
            "\n",
            "\n",
            "result is:500096.15164830827\n"
          ]
        }
      ]
    },
    {
      "cell_type": "code",
      "source": [
        "#17. Write a Python program to create and write a list of numbers to a file, one number per line\n",
        "l1 = [1, 2, 3, 4, 5]\n",
        "with open(\"numbers.txt\", \"w\") as file:\n",
        "    for number in l1:\n",
        "        file.write(str(number) + \"\\n\")"
      ],
      "metadata": {
        "id": "KMtRErjb-Bsa"
      },
      "execution_count": 62,
      "outputs": []
    },
    {
      "cell_type": "code",
      "source": [
        "#18.  How would you implement a basic logging setup that logs to a file with rotation after 1MB?\n",
        "import logging\n",
        "import logging.handlers\n",
        "\n",
        "# Create a logger\n",
        "logger = logging.getLogger(__name__)\n",
        "logger.setLevel(logging.DEBUG)\n",
        "\n",
        "# Create a file handler\n",
        "handler = logging.handlers.RotatingFileHandler(\n",
        "    \"my_sample_log1.log\",\n",
        "    maxBytes=1024 * 1024,  # 1 MB\n",
        "    backupCount=5\n",
        ")\n",
        "handler.setLevel(logging.DEBUG)\n",
        "\n",
        "# Create a formatter and set it for the handler\n",
        "formatter = logging.Formatter('%(asctime)s - %(name)s - %(levelname)s - %(message)s')\n",
        "handler.setFormatter(formatter)\n",
        "\n",
        "# Add the handler to the logger\n",
        "logger.addHandler(handler)\n",
        "\n",
        "# Log some messages\n",
        "logger.debug(\"This is a debug message\")\n",
        "logger.info(\"This is an info message\")\n",
        "logger.warning(\"This is a warning message\")\n",
        "logger.error(\"This is an error message\")\n",
        "logger.critical(\"This is a critical message\")"
      ],
      "metadata": {
        "colab": {
          "base_uri": "https://localhost:8080/"
        },
        "id": "-nsQSNw3ACqD",
        "outputId": "9a7f20d7-517f-4758-b8cf-1c2c0bc7c657"
      },
      "execution_count": 74,
      "outputs": [
        {
          "output_type": "stream",
          "name": "stderr",
          "text": [
            "DEBUG:__main__:This is a debug message\n",
            "INFO:__main__:This is an info message\n",
            "WARNING:__main__:This is a warning message\n",
            "ERROR:__main__:This is an error message\n",
            "CRITICAL:__main__:This is a critical message\n"
          ]
        }
      ]
    },
    {
      "cell_type": "code",
      "source": [
        "#19. Write a program that handles both IndexError and KeyError using a try-except block\n",
        "try:\n",
        "    my_list = [1, 2, 3]\n",
        "    value = my_list[3]\n",
        "    my_dict = {'a': 1, 'b': 2}\n",
        "    value = my_dict['c']\n",
        "except IndexError:\n",
        "    print(\"Error: Index out of range\")\n",
        "except KeyError:\n",
        "    print(\"Error: Key does not exist in the dictionary\")"
      ],
      "metadata": {
        "colab": {
          "base_uri": "https://localhost:8080/"
        },
        "id": "FQEc3-EWAoQB",
        "outputId": "7b82c254-4957-4d8c-d133-5a088e2b8739"
      },
      "execution_count": 67,
      "outputs": [
        {
          "output_type": "stream",
          "name": "stdout",
          "text": [
            "Error: Index out of range\n"
          ]
        }
      ]
    },
    {
      "cell_type": "code",
      "source": [
        "#20.  How would you open a file and read its contents using a context manager in Python\n",
        "with open(\"example.txt\", \"r\") as file:\n",
        "    content = file.read()\n",
        "    print(content)"
      ],
      "metadata": {
        "colab": {
          "base_uri": "https://localhost:8080/"
        },
        "id": "BacH9vWUB8To",
        "outputId": "eac9e97f-dacd-4fe3-e724-c7484340632d"
      },
      "execution_count": 68,
      "outputs": [
        {
          "output_type": "stream",
          "name": "stdout",
          "text": [
            "Hello, world\n",
            "Appended line\n"
          ]
        }
      ]
    },
    {
      "cell_type": "code",
      "source": [
        "#21. Write a Python program that reads a file and prints the number of occurrences of a specific word\n",
        "with open(\"example.txt\", \"r\") as file:\n",
        "    content = file.read()\n",
        "    word_count = content.count(\"Hello\")\n",
        "    print(f\"The word 'Hello' appears {word_count} times in the file.\")"
      ],
      "metadata": {
        "colab": {
          "base_uri": "https://localhost:8080/"
        },
        "id": "JKlg9qRFCNIZ",
        "outputId": "636e89c1-894f-4379-c5d1-c8002369528d"
      },
      "execution_count": 69,
      "outputs": [
        {
          "output_type": "stream",
          "name": "stdout",
          "text": [
            "The word 'Hello' appears 1 times in the file.\n"
          ]
        }
      ]
    },
    {
      "cell_type": "code",
      "source": [
        "#22.  How can you check if a file is empty before attempting to read its contents?\n",
        "import os\n",
        "\n",
        "if os.path.getsize(\"example.txt\") > 0:\n",
        "    with open(\"example.txt\", \"r\") as file:\n",
        "        content = file.read()\n",
        "        print(content)\n",
        "else:\n",
        "    print(\"The file is empty\")"
      ],
      "metadata": {
        "colab": {
          "base_uri": "https://localhost:8080/"
        },
        "id": "dXsGAZ5pCXUu",
        "outputId": "cd17dac0-ece9-4818-dcfc-ef14e896d507"
      },
      "execution_count": 70,
      "outputs": [
        {
          "output_type": "stream",
          "name": "stdout",
          "text": [
            "Hello, world\n",
            "Appended line\n"
          ]
        }
      ]
    },
    {
      "cell_type": "code",
      "source": [
        "#23. Write a Python program that writes to a log file when an error occurs during file handling\n",
        "import logging\n",
        "\n",
        "logging.basicConfig(filename='e2.log', level=logging.ERROR)\n",
        "\n",
        "try:\n",
        "    with open(\"nonexistent_file.txt\", \"r\") as file:\n",
        "        content = file.read()\n",
        "except FileNotFoundError:\n",
        "    logging.error(\"Error: The file does not exist\")"
      ],
      "metadata": {
        "colab": {
          "base_uri": "https://localhost:8080/"
        },
        "id": "g8DNkEXdCkOw",
        "outputId": "6fae5cca-65f3-491d-d326-19bdcf82def3"
      },
      "execution_count": 72,
      "outputs": [
        {
          "output_type": "stream",
          "name": "stderr",
          "text": [
            "ERROR:root:Error: The file does not exist\n"
          ]
        }
      ]
    }
  ]
}